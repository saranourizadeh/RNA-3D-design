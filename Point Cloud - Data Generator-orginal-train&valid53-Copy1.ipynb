{
 "cells": [
  {
   "cell_type": "code",
   "execution_count": 2,
   "metadata": {},
   "outputs": [],
   "source": [
    "import pandas as pd\n",
    "import h5py as h5\n",
    "import numpy as np\n",
    "import matplotlib.pyplot as plt\n",
    "from keras.models import Sequential\n",
    "from keras.layers import LSTM ,Dropout , Dense, Bidirectional , convolutional\n",
    "from keras.optimizers import Adam\n",
    "from keras.layers.core import Reshape\n",
    "import tensorflow\n",
    "# from tensorflow.python.keras.layers import Dense , LSTM ,Dropout\n",
    "# from tensorflow.python.keras import Sequential\n",
    "from sklearn.model_selection import train_test_split\n",
    "import keras\n",
    "from keras.utils import Sequence"
   ]
  },
  {
   "cell_type": "code",
   "execution_count": 2,
   "metadata": {},
   "outputs": [],
   "source": [
    "all_x = np.load('./all_x_60_to_700.npy', allow_pickle=True)\n",
    "all_y = np.load('./all_y_60_to_700.npy', allow_pickle=True)"
   ]
  },
  {
   "cell_type": "code",
   "execution_count": 3,
   "metadata": {},
   "outputs": [
    {
     "data": {
      "text/plain": [
       "array([32805., 27305., 34670., 28325.])"
      ]
     },
     "execution_count": 3,
     "metadata": {},
     "output_type": "execute_result"
    }
   ],
   "source": [
    "np.sum((all_y+1)/2, axis=0)"
   ]
  },
  {
   "cell_type": "code",
   "execution_count": null,
   "metadata": {},
   "outputs": [],
   "source": []
  },
  {
   "cell_type": "code",
   "execution_count": 4,
   "metadata": {},
   "outputs": [],
   "source": [
    "C_all_x = all_x[all_y[:,0]>0, :,:,:]\n",
    "A_all_x = all_x[all_y[:,1]>0, :,:,:]\n",
    "G_all_x = all_x[all_y[:,2]>0, :,:,:]\n",
    "U_all_x = all_x[all_y[:,3]>0, :,:,:]\n",
    "\n",
    "C_all_y = all_y[all_y[:,0]>0, :]\n",
    "A_all_y = all_y[all_y[:,1]>0, :]\n",
    "G_all_y = all_y[all_y[:,2]>0, :]\n",
    "U_all_y = all_y[all_y[:,3]>0, :]\n",
    "\n"
   ]
  },
  {
   "cell_type": "code",
   "execution_count": 5,
   "metadata": {},
   "outputs": [
    {
     "name": "stdout",
     "output_type": "stream",
     "text": [
      "(32805, 15, 6, 3) (27305, 15, 6, 3) (34670, 15, 6, 3) (28325, 15, 6, 3)\n",
      "(32805, 4) (27305, 4) (34670, 4) (28325, 4)\n"
     ]
    }
   ],
   "source": [
    "print(C_all_x.shape, A_all_x.shape, G_all_x.shape, U_all_x.shape)\n",
    "print(C_all_y.shape, A_all_y.shape, G_all_y.shape, U_all_y.shape) "
   ]
  },
  {
   "cell_type": "code",
   "execution_count": 6,
   "metadata": {},
   "outputs": [
    {
     "name": "stdout",
     "output_type": "stream",
     "text": [
      "(109200, 15, 6, 3)\n"
     ]
    }
   ],
   "source": [
    "training_class_size = 27300\n",
    "all_unbiased_x = C_all_x[:training_class_size,:,:,:]\n",
    "all_unbiased_x = np.append(all_unbiased_x, A_all_x[:training_class_size,:,:,:], axis=0)\n",
    "all_unbiased_x = np.append(all_unbiased_x, G_all_x[:training_class_size,:,:,:], axis=0)\n",
    "all_unbiased_x = np.append(all_unbiased_x, U_all_x[:training_class_size,:,:,:], axis=0)\n",
    "\n",
    "print(all_unbiased_x.shape)"
   ]
  },
  {
   "cell_type": "code",
   "execution_count": 7,
   "metadata": {},
   "outputs": [
    {
     "name": "stdout",
     "output_type": "stream",
     "text": [
      "(109200, 4)\n"
     ]
    }
   ],
   "source": [
    "all_unbiased_y = C_all_y[:training_class_size,:]\n",
    "all_unbiased_y = np.append(all_unbiased_y, A_all_y[:training_class_size,:], axis=0)\n",
    "all_unbiased_y = np.append(all_unbiased_y, G_all_y[:training_class_size,:], axis=0)\n",
    "all_unbiased_y = np.append(all_unbiased_y, U_all_y[:training_class_size,:], axis=0)\n",
    "\n",
    "print(all_unbiased_y.shape)"
   ]
  },
  {
   "cell_type": "code",
   "execution_count": 8,
   "metadata": {},
   "outputs": [],
   "source": [
    "all_x = all_unbiased_x\n",
    "all_y = all_unbiased_y"
   ]
  },
  {
   "cell_type": "code",
   "execution_count": null,
   "metadata": {},
   "outputs": [],
   "source": []
  },
  {
   "cell_type": "code",
   "execution_count": 9,
   "metadata": {},
   "outputs": [],
   "source": [
    "new_validation_all_x = np.load('./new_0to50_all_x.npy', allow_pickle=True)\n",
    "new_validation_all_y = np.load('./new_0to50_all_y.npy', allow_pickle=True)"
   ]
  },
  {
   "cell_type": "code",
   "execution_count": 10,
   "metadata": {},
   "outputs": [
    {
     "data": {
      "text/plain": [
       "array([3632., 3118., 3802., 2864.])"
      ]
     },
     "execution_count": 10,
     "metadata": {},
     "output_type": "execute_result"
    }
   ],
   "source": [
    "np.sum((new_validation_all_y+1)/2, axis=0)"
   ]
  },
  {
   "cell_type": "code",
   "execution_count": 11,
   "metadata": {},
   "outputs": [
    {
     "data": {
      "text/plain": [
       "((109200, 15, 6, 3), (109200, 4))"
      ]
     },
     "execution_count": 11,
     "metadata": {},
     "output_type": "execute_result"
    }
   ],
   "source": [
    "all_x.shape, all_y.shape"
   ]
  },
  {
   "cell_type": "code",
   "execution_count": 12,
   "metadata": {},
   "outputs": [
    {
     "data": {
      "text/plain": [
       "((13416, 15, 6, 3), (13416, 4))"
      ]
     },
     "execution_count": 12,
     "metadata": {},
     "output_type": "execute_result"
    }
   ],
   "source": [
    "new_validation_all_x.shape, new_validation_all_y.shape"
   ]
  },
  {
   "cell_type": "code",
   "execution_count": 13,
   "metadata": {},
   "outputs": [
    {
     "data": {
      "text/plain": [
       "array([[1., 0., 0., 0.],\n",
       "       [1., 0., 0., 0.],\n",
       "       [1., 0., 0., 0.]])"
      ]
     },
     "execution_count": 13,
     "metadata": {},
     "output_type": "execute_result"
    }
   ],
   "source": [
    "(all_y[:3,:]+1)/2"
   ]
  },
  {
   "cell_type": "code",
   "execution_count": 14,
   "metadata": {},
   "outputs": [
    {
     "data": {
      "text/plain": [
       "array([27300., 27300., 27300., 27300.])"
      ]
     },
     "execution_count": 14,
     "metadata": {},
     "output_type": "execute_result"
    }
   ],
   "source": [
    "np.sum((all_y+1)/2, axis=0)"
   ]
  },
  {
   "cell_type": "code",
   "execution_count": null,
   "metadata": {},
   "outputs": [],
   "source": []
  },
  {
   "cell_type": "code",
   "execution_count": 15,
   "metadata": {},
   "outputs": [],
   "source": [
    "a = all_x[0]"
   ]
  },
  {
   "cell_type": "code",
   "execution_count": 16,
   "metadata": {
    "scrolled": true
   },
   "outputs": [
    {
     "data": {
      "text/plain": [
       "array([[[-0.19737859681618652, 0.6391925333875103, -1.4440905770693875],\n",
       "        [-0.23880048823341005, 0.7741651270470442, 1.1653255694799183],\n",
       "        [0.0, 0.0, 0.0],\n",
       "        [7.703973557864683e-16, 7.372631506887088e-16,\n",
       "         2.4401807310115298],\n",
       "        [1.4366594931531316, 4.440892098500626e-16, 2.959428745675932],\n",
       "        [1.4374211622735515, 0.17539349071359567, 4.371953628032148]],\n",
       "\n",
       "       [[1.5616975498849344, 1.654733646669109, 4.97627976718197],\n",
       "        [0.5289081970772602, 0.6855864082676086, 7.179750162496127],\n",
       "        [0.515814975807977, 1.6856542737965354, 6.172348141506886],\n",
       "        [-0.6443361012163943, -0.24931978404878113, 7.05034294442129],\n",
       "        [-1.804787428182497, 0.02772632046943324, 7.996694979191573],\n",
       "        [-3.038599801105455, -0.21872047995765803, 7.334846051579328]],\n",
       "\n",
       "       [[-4.334733709846882, 0.6665679051427407, 7.661923054465539],\n",
       "        [-5.535506396136872, 0.4992789001471394, 5.3672151548261615],\n",
       "        [-4.753252736707329, 1.2702014350084325, 6.256231272538359],\n",
       "        [-5.112237865199069, 0.6715018628461141, 3.933781165471606],\n",
       "        [-5.9750771215540945, -0.06187326518516162, 2.9261262943585393],\n",
       "        [-7.144799931380412, 0.6601812443561446, 2.601781056343324]],\n",
       "\n",
       "       [[-8.587590269658453, 0.067806643601251, 2.981336549192447],\n",
       "        [-8.609180352578802, -0.8402927007897545, 0.5590848180471928],\n",
       "        [-8.79277558036225, -1.105804527315713, 1.9351263371555372],\n",
       "        [-8.646957101627505, -2.086857098200775, -0.2834560535659198],\n",
       "        [-9.695801174835111, -3.1199278738963634, 0.07007595700872421],\n",
       "        [-10.990713143715723, -2.759843580072306, -0.37004595132011747]],\n",
       "\n",
       "       [[-7.014464211234001, 3.938287240481867, -3.232238456669811],\n",
       "        [-6.014438364900896, 5.773135773703872, -4.772012520225538],\n",
       "        [-6.570376079329966, 5.433641157136648, -3.516592804354702],\n",
       "        [-5.106662535291908, 6.967606809748556, -4.682474889990496],\n",
       "        [-5.748040614560356, 8.332651892022081, -4.822296500604813],\n",
       "        [-6.412700514443803, 8.776617023574339, -3.6561197646626535]],\n",
       "\n",
       "       [[1.592745454548135, -11.697702170838392, 1.0390894279986465],\n",
       "        [1.064288741263706, -13.135746812604243, -1.0751847052378927],\n",
       "        [1.1566559596460602, -11.852240767458865, -0.4828921009926255],\n",
       "        [0.20507793345615843, -13.127491338304985, -2.314720761547222],\n",
       "        [0.877638049008627, -12.624879533565366, -3.577140368771547],\n",
       "        [1.6590176641505632, -13.614856409826494, -4.21684708400036]],\n",
       "\n",
       "       [[-0.3069693848754882, -10.528901346673946, 6.048195452261476],\n",
       "        [-1.7459230107781964, -11.733282937148902, 4.292087412582134],\n",
       "        [-0.5233842010573156, -11.087159451619746, 4.581842999541016],\n",
       "        [-1.9099011042678127, -12.053322095589571, 2.8381496140776448],\n",
       "        [-0.8673962717664889, -11.501782676439323, 1.8909886228333868],\n",
       "        [0.3330793817998958, -12.246327402716568, 1.868889849855364]],\n",
       "\n",
       "       [[-7.991869664467194, 3.1974416394584737, -10.105776874066951],\n",
       "        [-7.7976259686228335, 2.626913332307044, -7.572709990353915],\n",
       "        [-8.621812109389063, 2.9276490871780316, -8.677640852947153],\n",
       "        [-8.617660260028858, 2.2034023513533945, -6.382161289153534],\n",
       "        [-7.9154327609933, 2.281490171153518, -5.040722944689976],\n",
       "        [-7.931038386387102, 3.585351463360808, -4.496539891720156]],\n",
       "\n",
       "       [[-12.24750273027995, -2.9533440486896536, 0.6068161186511777],\n",
       "        [-12.296856711438382, -5.490211520969957, 0.11045575295896493],\n",
       "        [-12.127769669647295, -4.466024722999904, 1.0735860531583818],\n",
       "        [-12.004510471907603, -6.867093977144957, 0.653024991037988],\n",
       "        [-12.781817675006991, -7.288796008086015, 1.8835752375171508],\n",
       "        [-14.107794072720928, -7.694072431800614, 1.6018420071612853]],\n",
       "\n",
       "       [[-7.612049486666273, 9.83558612992523, -3.7729635690483248],\n",
       "        [-6.154857611556306, 11.893807493278198, -3.137882740687892],\n",
       "        [-6.866505963930377, 11.189791728649086, -4.140214235612093],\n",
       "        [-5.317055854030641, 13.015793076134509, -3.702522065345133],\n",
       "        [-6.059409483261828, 14.214085054167686, -4.263251433711559],\n",
       "        [-6.549041473679978, 15.093432947311829, -3.268993521104324]],\n",
       "\n",
       "       [[3.040848396548594, -13.215622051820917, -4.92551467489767],\n",
       "        [1.6850404599302014, -12.884588410648085, -7.146306328208375],\n",
       "        [2.595697969266072, -12.360924295248001, -6.191193876749141],\n",
       "        [1.1548839057448577, -11.801045833534403, -8.051422073091926],\n",
       "        [2.1673895105102337, -11.263831078721678, -9.059038422468115],\n",
       "        [1.5120870297854707, -10.906872446949723, -10.276180235881602]],\n",
       "\n",
       "       [[-6.193458687462236, -14.017967721032838, -7.063895629097347],\n",
       "        [-6.231317041118674, -11.807723632306105, -5.696064567413508],\n",
       "        [-6.7808033420968785, -12.577441751961787, -6.750890534723304],\n",
       "        [-6.865394218253094, -10.44442697162956, -5.6069896078264545],\n",
       "        [-8.3802535393534, -10.403263100147424, -5.652561232332276],\n",
       "        [-8.998508380074288, -10.73537051646865, -4.423083857205089]],\n",
       "\n",
       "       [[-10.457015332771967, -11.411345402842999, -4.413470225025378],\n",
       "        [-11.567893354824283, -9.146068203172357, -3.735976144775574],\n",
       "        [-11.448870648749734, -10.200433297648726, -4.670470041485716],\n",
       "        [-12.305393555047715, -7.976908799597227, -4.33042104861626],\n",
       "        [-13.740254012530304, -8.23939602066739, -4.75114890166115],\n",
       "        [-14.662212126287113, -8.180984495361466, -3.6785672823009126]],\n",
       "\n",
       "       [[-15.28049763835678, 2.030388234240635, 0.2848465243439555],\n",
       "        [-15.093405173923008, 2.6026414270924683, 2.802671914044938],\n",
       "        [-15.896562952772282, 2.569905886821653, 1.6412370399874137],\n",
       "        [-15.75049893744715, 3.364198923167404, 3.9231557229907503],\n",
       "        [-15.270557155863711, 3.0315067295273295, 5.324484303510491],\n",
       "        [-14.055631955507053, 3.662780140852183, 5.679066646123015]],\n",
       "\n",
       "       [[-13.079913454397882, 2.9596330513365103, 6.740834312375348],\n",
       "        [-14.08843122415878, 4.5256514077007886, 8.54596904851189],\n",
       "        [-13.805982049397798, 3.2034642643057887, 8.130598585529889],\n",
       "        [-14.954188714881186, 4.571424853128084, 9.781233699893026],\n",
       "        [-14.46856004386093, 3.782810374262818, 10.984338848085509],\n",
       "        [-13.47527109977886, 4.459838455068812, 11.728158753280653]]],\n",
       "      dtype=object)"
      ]
     },
     "execution_count": 16,
     "metadata": {},
     "output_type": "execute_result"
    }
   ],
   "source": [
    "a"
   ]
  },
  {
   "cell_type": "code",
   "execution_count": 17,
   "metadata": {},
   "outputs": [
    {
     "data": {
      "text/plain": [
       "(109200, 15, 6, 3)"
      ]
     },
     "execution_count": 17,
     "metadata": {},
     "output_type": "execute_result"
    }
   ],
   "source": [
    "all_x.shape"
   ]
  },
  {
   "cell_type": "code",
   "execution_count": null,
   "metadata": {},
   "outputs": [],
   "source": []
  },
  {
   "cell_type": "code",
   "execution_count": null,
   "metadata": {},
   "outputs": [],
   "source": []
  },
  {
   "cell_type": "code",
   "execution_count": 18,
   "metadata": {},
   "outputs": [],
   "source": [
    "def convert_data_representation_to_point_cloud(x_batch):\n",
    "    x_shifted_train = x_batch + 16.0\n",
    "    x_cloud_point = np.zeros([x_shifted_train.shape[0], 32,32,32])\n",
    "    for i in range(x_shifted_train.shape[0]):\n",
    "      for j in range(x_shifted_train.shape[1]):\n",
    "        for k in range(x_shifted_train.shape[2]):\n",
    "          if np.any(x_shifted_train[i,j,k,:]>32) or np.any(x_shifted_train[i,j,k,:]<0):\n",
    "            # no need to consider this data point\n",
    "            pass\n",
    "          else:\n",
    "            dx = int(x_shifted_train[i,j,k,0])\n",
    "            dy = int(x_shifted_train[i,j,k,1])\n",
    "            dz = int(x_shifted_train[i,j,k,2])\n",
    "            ##i inja chie? hamun 90? chera?\n",
    "            x_cloud_point[i, dx, dy, dz] = 1.0 \n",
    "    return x_cloud_point\n",
    "\n",
    "class RNADataGenerator(Sequence):\n",
    "    \"\"\"Generates data for Keras\n",
    "    Sequence based data generator.\n",
    "    Suitable for building data generator for training and prediction.\n",
    "    \"\"\"\n",
    "    def __init__(self, index_of_samples,\n",
    "                 to_fit=True, batch_size=32,\n",
    "                shuffle=True):\n",
    "        \"\"\"Initialization\n",
    "        :param list_IDs: list of all 'label' ids to use in the generator\n",
    "        :param labels: list of image labels (file names)\n",
    "        :param to_fit: True to return X and y, False to return X only\n",
    "        :param batch_size: batch size at each iteration\n",
    "        :param shuffle: True to shuffle label indexes after every epoch\n",
    "        \"\"\"\n",
    "        self.index_of_samples = index_of_samples\n",
    "        self.to_fit = to_fit\n",
    "        self.batch_size = batch_size\n",
    "        self.shuffle = shuffle\n",
    "        self.on_epoch_end()\n",
    "\n",
    "    def __len__(self):\n",
    "        \"\"\"Denotes the number of batches per epoch\n",
    "        :return: number of batches per epoch\n",
    "        \"\"\"\n",
    "        return int(np.floor(self.index_of_samples.shape[0]/self.batch_size))\n",
    "\n",
    "    def __getitem__(self, index):\n",
    "        \"\"\"Generate one batch of data\n",
    "        :param index: index of the batch\n",
    "        :return: X and y when fitting. X only when predicting\n",
    "        \"\"\"\n",
    "        # Generate indexes of the batch\n",
    "        indexes = self.indexes[index * self.batch_size:(index + 1) * self.batch_size]\n",
    "\n",
    "        # Find list of IDs\n",
    "#         list_IDs_temp = [self.list_IDs[k] for k in indexes]\n",
    "\n",
    "        # Generate data\n",
    "        X = self._generate_X(indexes)\n",
    "\n",
    "        if self.to_fit:\n",
    "            y = self._generate_y(indexes)\n",
    "            return X, y\n",
    "        else:\n",
    "            return X\n",
    "\n",
    "    def on_epoch_end(self):\n",
    "        \"\"\"Updates indexes after each epoch\n",
    "        \"\"\"\n",
    "        self.indexes = np.arange(self.index_of_samples.shape[0])\n",
    "        if self.shuffle == True:\n",
    "            np.random.shuffle(self.indexes)\n",
    "\n",
    "    def _generate_X(self, indexes):\n",
    "        \"\"\"Generates data containing batch_size images\n",
    "        :param list_IDs_temp: list of label ids to load\n",
    "        :return: batch of images\n",
    "        \"\"\"\n",
    "        # Initialization\n",
    "        # Generate data\n",
    "        X = convert_data_representation_to_point_cloud(all_x[indexes, :, :, :])\n",
    "        return X\n",
    "\n",
    "    def _generate_y(self, indexes):\n",
    "        \"\"\"Generates data containing batch_size masks\n",
    "        :param list_IDs_temp: list of label ids to load\n",
    "        :return: batch if masks\n",
    "        \"\"\"\n",
    "        y = (all_y[indexes,:]+1)/2\n",
    "\n",
    "        return y"
   ]
  },
  {
   "cell_type": "code",
   "execution_count": 19,
   "metadata": {},
   "outputs": [],
   "source": [
    "class RNADataGeneratorValidation(Sequence):\n",
    "    \"\"\"Generates data for Keras\n",
    "    Sequence based data generator.\n",
    "    Suitable for building data generator for training and prediction.\n",
    "    \"\"\"\n",
    "    def __init__(self, index_of_samples,\n",
    "                 to_fit=True, batch_size=32,\n",
    "                shuffle=True):\n",
    "        \"\"\"Initialization\n",
    "        :param list_IDs: list of all 'label' ids to use in the generator\n",
    "        :param labels: list of image labels (file names)\n",
    "        :param to_fit: True to return X and y, False to return X only\n",
    "        :param batch_size: batch size at each iteration\n",
    "        :param shuffle: True to shuffle label indexes after every epoch\n",
    "        \"\"\"\n",
    "        self.index_of_samples = index_of_samples\n",
    "        self.to_fit = to_fit\n",
    "        self.batch_size = batch_size\n",
    "        self.shuffle = shuffle\n",
    "        self.on_epoch_end()\n",
    "\n",
    "    def __len__(self):\n",
    "        \"\"\"Denotes the number of batches per epoch\n",
    "        :return: number of batches per epoch\n",
    "        \"\"\"\n",
    "        return int(np.floor(self.index_of_samples.shape[0]/self.batch_size))\n",
    "\n",
    "    def __getitem__(self, index):\n",
    "        \"\"\"Generate one batch of data\n",
    "        :param index: index of the batch\n",
    "        :return: X and y when fitting. X only when predicting\n",
    "        \"\"\"\n",
    "        # Generate indexes of the batch\n",
    "        indexes = self.indexes[index * self.batch_size:(index + 1) * self.batch_size]\n",
    "\n",
    "        # Find list of IDs\n",
    "#         list_IDs_temp = [self.list_IDs[k] for k in indexes]\n",
    "\n",
    "        # Generate data\n",
    "        X = self._generate_X(indexes)\n",
    "\n",
    "        if self.to_fit:\n",
    "            y = self._generate_y(indexes)\n",
    "            return X, y\n",
    "        else:\n",
    "            return X\n",
    "\n",
    "    def on_epoch_end(self):\n",
    "        \"\"\"Updates indexes after each epoch\n",
    "        \"\"\"\n",
    "        self.indexes = np.arange(self.index_of_samples.shape[0])\n",
    "        if self.shuffle == True:\n",
    "            np.random.shuffle(self.indexes)\n",
    "\n",
    "    def _generate_X(self, indexes):\n",
    "        \"\"\"Generates data containing batch_size images\n",
    "        :param list_IDs_temp: list of label ids to load\n",
    "        :return: batch of images\n",
    "        \"\"\"\n",
    "        # Initialization\n",
    "        # Generate data\n",
    "        X = convert_data_representation_to_point_cloud(new_validation_all_x[indexes, :, :, :])\n",
    "        return X\n",
    "\n",
    "    def _generate_y(self, indexes):\n",
    "        \"\"\"Generates data containing batch_size masks\n",
    "        :param list_IDs_temp: list of label ids to load\n",
    "        :return: batch if masks\n",
    "        \"\"\"\n",
    "        y = (new_validation_all_y[indexes,:]+1)/2\n",
    "\n",
    "        return y"
   ]
  },
  {
   "cell_type": "code",
   "execution_count": 20,
   "metadata": {},
   "outputs": [
    {
     "data": {
      "text/plain": [
       "(109200, 15, 6, 3)"
      ]
     },
     "execution_count": 20,
     "metadata": {},
     "output_type": "execute_result"
    }
   ],
   "source": [
    "all_x.shape"
   ]
  },
  {
   "cell_type": "code",
   "execution_count": 21,
   "metadata": {},
   "outputs": [],
   "source": [
    "\n",
    "training_generator = RNADataGenerator(index_of_samples=np.array([i for i in range(int(all_y.shape[0]))]),\n",
    "                                     to_fit=True, batch_size=32,shuffle=True)\n",
    "validation_generator = RNADataGeneratorValidation(index_of_samples=np.array([i for i in range(int(new_validation_all_y.shape[0]))]),\n",
    "                                       to_fit=True, batch_size=32)\n"
   ]
  },
  {
   "cell_type": "markdown",
   "metadata": {},
   "source": [
    "# model"
   ]
  },
  {
   "cell_type": "code",
   "execution_count": 1,
   "metadata": {},
   "outputs": [],
   "source": [
    "import numpy as np\n",
    "from tensorflow.keras.models import Model, Sequential\n",
    "from tensorflow.keras.layers import Conv3D, Dense, Softmax, Dropout, Input, Lambda, MaxPool3D\n",
    "from tensorflow.keras.layers import Multiply, Concatenate, Reshape, LSTM, Flatten\n",
    "from tensorflow.keras.utils import to_categorical\n",
    "import tensorflow.keras.backend as tf\n",
    "from tensorflow.keras.optimizers import Adam, SGD, RMSprop\n",
    "# from keras.utils.io_utils import HDF5Matrix\n",
    "from sklearn.preprocessing import OneHotEncoder\n",
    "# from Bio.PDB.Polypeptide import aa3, aa1\n",
    "import h5py\n",
    "from tensorflow.keras.callbacks import TensorBoard, ModelCheckpoint"
   ]
  },
  {
   "cell_type": "code",
   "execution_count": 2,
   "metadata": {},
   "outputs": [],
   "source": [
    "from tensorflow.keras.layers import Conv1D, Input, Reshape\n",
    "from tensorflow.keras.layers import concatenate, Concatenate, Multiply"
   ]
  },
  {
   "cell_type": "code",
   "execution_count": 3,
   "metadata": {},
   "outputs": [
    {
     "name": "stdout",
     "output_type": "stream",
     "text": [
      "(None, 13, 13, 13, 16)\n"
     ]
    }
   ],
   "source": [
    "x_cloud_inp = Input(shape=(32, 32, 32,1))\n",
    "\n",
    "# x_reshaped_inp = Reshape((32*32*32,))(x_cloud_inp)\n",
    "\n",
    "conv_layer_1 = Conv3D(32, (2,2,2))(x_cloud_inp)\n",
    "conv_layer_2 = Conv3D(32, (2,2,2))(conv_layer_1)\n",
    "maxpool_1 = MaxPool3D((2,2,2))(conv_layer_2)\n",
    "\n",
    "conv_layer_3 = Conv3D(32, (3,3,3))(conv_layer_2)\n",
    "conv_layer_4 = Conv3D(16, (3,3,3))(conv_layer_3)\n",
    "maxpool_4 = MaxPool3D((2,2,2))(conv_layer_4)\n",
    "\n",
    "# max_pool_1 = MaxPool3D((2,2,2))(conv_layer_4)\n",
    "\n",
    "print(maxpool_4.shape)\n",
    "\n",
    "reshaped_conv_1 = Reshape((13*13*13*16,))(maxpool_4)\n",
    "\n",
    "layer_1 = Dense(256, activation='relu')(reshaped_conv_1)\n",
    "layer_1_drop = Dropout(0.3)(layer_1)\n",
    "\n",
    "layer_2 = Dense(256, activation='relu')(layer_1_drop)\n",
    "layer_2_drop = Dropout(0.3)(layer_2)\n",
    "\n",
    "layer_last = Dense(4, activation='softmax')(layer_2_drop)\n",
    "\n",
    "output_layer = layer_last\n"
   ]
  },
  {
   "cell_type": "code",
   "execution_count": 4,
   "metadata": {},
   "outputs": [],
   "source": [
    "epoch = 100\n",
    "batch_size = 64\n",
    "lr = 1.2e-6"
   ]
  },
  {
   "cell_type": "code",
   "execution_count": 5,
   "metadata": {},
   "outputs": [],
   "source": [
    "model = Model([x_cloud_inp],output_layer)"
   ]
  },
  {
   "cell_type": "code",
   "execution_count": 51,
   "metadata": {},
   "outputs": [],
   "source": [
    "lr_schedule = keras.optimizers.schedules.ExponentialDecay(\n",
    "    initial_learning_rate=0.0001,\n",
    "    decay_steps=1000,\n",
    "    decay_rate=0.00001)"
   ]
  },
  {
   "cell_type": "code",
   "execution_count": 31,
   "metadata": {},
   "outputs": [],
   "source": [
    "# model.compile(loss='categorical_crossentropy', optimizer=Adam(lr_schedule), metrics=['accuracy'])"
   ]
  },
  {
   "cell_type": "code",
   "execution_count": 52,
   "metadata": {},
   "outputs": [],
   "source": [
    "model.compile(loss='categorical_crossentropy', optimizer=Adam(lr), metrics=['accuracy'])"
   ]
  },
  {
   "cell_type": "code",
   "execution_count": 57,
   "metadata": {
    "scrolled": true
   },
   "outputs": [
    {
     "name": "stdout",
     "output_type": "stream",
     "text": [
      "Epoch 1/100\n",
      "3412/3412 [==============================] - 270s 79ms/step - loss: 0.8766 - accuracy: 0.6390 - val_loss: 1.1361 - val_accuracy: 0.5296\n",
      "Epoch 2/100\n",
      "3412/3412 [==============================] - 281s 82ms/step - loss: 0.8703 - accuracy: 0.6424 - val_loss: 1.1361 - val_accuracy: 0.5322\n",
      "Epoch 3/100\n",
      "3412/3412 [==============================] - 261s 77ms/step - loss: 0.8640 - accuracy: 0.6442 - val_loss: 1.1366 - val_accuracy: 0.5307\n",
      "Epoch 4/100\n",
      "3412/3412 [==============================] - 252s 74ms/step - loss: 0.8550 - accuracy: 0.6489 - val_loss: 1.1383 - val_accuracy: 0.5328\n",
      "Epoch 5/100\n",
      "3412/3412 [==============================] - 253s 74ms/step - loss: 0.8464 - accuracy: 0.6534 - val_loss: 1.1421 - val_accuracy: 0.5296\n",
      "Epoch 6/100\n",
      "3412/3412 [==============================] - 252s 74ms/step - loss: 0.8382 - accuracy: 0.6586 - val_loss: 1.1485 - val_accuracy: 0.5305\n",
      "Epoch 7/100\n",
      "3412/3412 [==============================] - 252s 74ms/step - loss: 0.8279 - accuracy: 0.6617 - val_loss: 1.1501 - val_accuracy: 0.5330\n",
      "Epoch 8/100\n",
      "3412/3412 [==============================] - 252s 74ms/step - loss: 0.8223 - accuracy: 0.6651 - val_loss: 1.1491 - val_accuracy: 0.5334\n",
      "Epoch 9/100\n",
      "3412/3412 [==============================] - 252s 74ms/step - loss: 0.8138 - accuracy: 0.6678 - val_loss: 1.1524 - val_accuracy: 0.5345\n",
      "Epoch 10/100\n",
      "3412/3412 [==============================] - 253s 74ms/step - loss: 0.8054 - accuracy: 0.6714 - val_loss: 1.1581 - val_accuracy: 0.5323\n",
      "Epoch 11/100\n",
      "3412/3412 [==============================] - 252s 74ms/step - loss: 0.7993 - accuracy: 0.6738 - val_loss: 1.1620 - val_accuracy: 0.5342\n",
      "Epoch 12/100\n",
      "3412/3412 [==============================] - 252s 74ms/step - loss: 0.7904 - accuracy: 0.6797 - val_loss: 1.1654 - val_accuracy: 0.5297\n",
      "Epoch 13/100\n",
      "3412/3412 [==============================] - 253s 74ms/step - loss: 0.7845 - accuracy: 0.6809 - val_loss: 1.1654 - val_accuracy: 0.5323\n",
      "Epoch 14/100\n",
      "3412/3412 [==============================] - 252s 74ms/step - loss: 0.7743 - accuracy: 0.6857 - val_loss: 1.1699 - val_accuracy: 0.5333\n",
      "Epoch 15/100\n",
      "3412/3412 [==============================] - 252s 74ms/step - loss: 0.7667 - accuracy: 0.6880 - val_loss: 1.1754 - val_accuracy: 0.5327\n",
      "Epoch 16/100\n",
      "3412/3412 [==============================] - 253s 74ms/step - loss: 0.7551 - accuracy: 0.6943 - val_loss: 1.1762 - val_accuracy: 0.5333\n",
      "Epoch 17/100\n",
      "3412/3412 [==============================] - 252s 74ms/step - loss: 0.7533 - accuracy: 0.6956 - val_loss: 1.1837 - val_accuracy: 0.5332\n",
      "Epoch 18/100\n",
      "3412/3412 [==============================] - 252s 74ms/step - loss: 0.7412 - accuracy: 0.7007 - val_loss: 1.1896 - val_accuracy: 0.5342\n",
      "Epoch 19/100\n",
      "3412/3412 [==============================] - 252s 74ms/step - loss: 0.7359 - accuracy: 0.7033 - val_loss: 1.1911 - val_accuracy: 0.5318\n",
      "Epoch 20/100\n",
      "3412/3412 [==============================] - 253s 74ms/step - loss: 0.7277 - accuracy: 0.7048 - val_loss: 1.1986 - val_accuracy: 0.5312\n",
      "Epoch 21/100\n",
      "3412/3412 [==============================] - 252s 74ms/step - loss: 0.7205 - accuracy: 0.7099 - val_loss: 1.2035 - val_accuracy: 0.5327\n",
      "Epoch 22/100\n",
      "3412/3412 [==============================] - 253s 74ms/step - loss: 0.7165 - accuracy: 0.7105 - val_loss: 1.2090 - val_accuracy: 0.5309\n",
      "Epoch 23/100\n",
      "3412/3412 [==============================] - 252s 74ms/step - loss: 0.7037 - accuracy: 0.7184 - val_loss: 1.2117 - val_accuracy: 0.5306\n",
      "Epoch 24/100\n",
      "3412/3412 [==============================] - 252s 74ms/step - loss: 0.6946 - accuracy: 0.7205 - val_loss: 1.2270 - val_accuracy: 0.5310\n",
      "Epoch 25/100\n",
      "3412/3412 [==============================] - 252s 74ms/step - loss: 0.6910 - accuracy: 0.7224 - val_loss: 1.2238 - val_accuracy: 0.5298\n",
      "Epoch 26/100\n",
      "3412/3412 [==============================] - 252s 74ms/step - loss: 0.6853 - accuracy: 0.7262 - val_loss: 1.2222 - val_accuracy: 0.5320\n",
      "Epoch 27/100\n",
      "3412/3412 [==============================] - 252s 74ms/step - loss: 0.6730 - accuracy: 0.7305 - val_loss: 1.2329 - val_accuracy: 0.5319\n",
      "Epoch 28/100\n",
      "3412/3412 [==============================] - 252s 74ms/step - loss: 0.6643 - accuracy: 0.7334 - val_loss: 1.2412 - val_accuracy: 0.5327\n",
      "Epoch 29/100\n",
      "3412/3412 [==============================] - 252s 74ms/step - loss: 0.6634 - accuracy: 0.7348 - val_loss: 1.2474 - val_accuracy: 0.5284\n",
      "Epoch 30/100\n",
      "3412/3412 [==============================] - 252s 74ms/step - loss: 0.6534 - accuracy: 0.7385 - val_loss: 1.2528 - val_accuracy: 0.5292\n",
      "Epoch 31/100\n",
      "3412/3412 [==============================] - 252s 74ms/step - loss: 0.6446 - accuracy: 0.7419 - val_loss: 1.2621 - val_accuracy: 0.5313\n",
      "Epoch 32/100\n",
      "3412/3412 [==============================] - 252s 74ms/step - loss: 0.6366 - accuracy: 0.7464 - val_loss: 1.2636 - val_accuracy: 0.5339\n",
      "Epoch 33/100\n",
      "3412/3412 [==============================] - 252s 74ms/step - loss: 0.6314 - accuracy: 0.7477 - val_loss: 1.2688 - val_accuracy: 0.5321\n",
      "Epoch 34/100\n",
      "3412/3412 [==============================] - 252s 74ms/step - loss: 0.6269 - accuracy: 0.7505 - val_loss: 1.2757 - val_accuracy: 0.5313\n",
      "Epoch 35/100\n",
      "3412/3412 [==============================] - 253s 74ms/step - loss: 0.6172 - accuracy: 0.7544 - val_loss: 1.2809 - val_accuracy: 0.5331\n",
      "Epoch 36/100\n",
      "3412/3412 [==============================] - 252s 74ms/step - loss: 0.6072 - accuracy: 0.7576 - val_loss: 1.2930 - val_accuracy: 0.5330\n",
      "Epoch 37/100\n",
      "3412/3412 [==============================] - 253s 74ms/step - loss: 0.5984 - accuracy: 0.7631 - val_loss: 1.3001 - val_accuracy: 0.5315\n",
      "Epoch 38/100\n",
      "3412/3412 [==============================] - 252s 74ms/step - loss: 0.5933 - accuracy: 0.7646 - val_loss: 1.3001 - val_accuracy: 0.5327\n",
      "Epoch 39/100\n",
      " 448/3412 [==>...........................] - ETA: 3:48 - loss: 0.5817 - accuracy: 0.7657"
     ]
    },
    {
     "ename": "KeyboardInterrupt",
     "evalue": "",
     "output_type": "error",
     "traceback": [
      "\u001b[0;31m---------------------------------------------------------------------------\u001b[0m",
      "\u001b[0;31mKeyboardInterrupt\u001b[0m                         Traceback (most recent call last)",
      "\u001b[0;32m<ipython-input-57-0895e62acbdc>\u001b[0m in \u001b[0;36m<module>\u001b[0;34m\u001b[0m\n\u001b[1;32m      1\u001b[0m model.fit_generator(generator=training_generator, validation_data=validation_generator,\n\u001b[0;32m----> 2\u001b[0;31m              epochs=epoch)\n\u001b[0m",
      "\u001b[0;32m~/.conda/envs/tf1_15/lib/python3.7/site-packages/tensorflow/python/util/deprecation.py\u001b[0m in \u001b[0;36mnew_func\u001b[0;34m(*args, **kwargs)\u001b[0m\n\u001b[1;32m    322\u001b[0m               \u001b[0;34m'in a future version'\u001b[0m \u001b[0;32mif\u001b[0m \u001b[0mdate\u001b[0m \u001b[0;32mis\u001b[0m \u001b[0;32mNone\u001b[0m \u001b[0;32melse\u001b[0m \u001b[0;34m(\u001b[0m\u001b[0;34m'after %s'\u001b[0m \u001b[0;34m%\u001b[0m \u001b[0mdate\u001b[0m\u001b[0;34m)\u001b[0m\u001b[0;34m,\u001b[0m\u001b[0;34m\u001b[0m\u001b[0;34m\u001b[0m\u001b[0m\n\u001b[1;32m    323\u001b[0m               instructions)\n\u001b[0;32m--> 324\u001b[0;31m       \u001b[0;32mreturn\u001b[0m \u001b[0mfunc\u001b[0m\u001b[0;34m(\u001b[0m\u001b[0;34m*\u001b[0m\u001b[0margs\u001b[0m\u001b[0;34m,\u001b[0m \u001b[0;34m**\u001b[0m\u001b[0mkwargs\u001b[0m\u001b[0;34m)\u001b[0m\u001b[0;34m\u001b[0m\u001b[0;34m\u001b[0m\u001b[0m\n\u001b[0m\u001b[1;32m    325\u001b[0m     return tf_decorator.make_decorator(\n\u001b[1;32m    326\u001b[0m         \u001b[0mfunc\u001b[0m\u001b[0;34m,\u001b[0m \u001b[0mnew_func\u001b[0m\u001b[0;34m,\u001b[0m \u001b[0;34m'deprecated'\u001b[0m\u001b[0;34m,\u001b[0m\u001b[0;34m\u001b[0m\u001b[0;34m\u001b[0m\u001b[0m\n",
      "\u001b[0;32m~/.conda/envs/tf1_15/lib/python3.7/site-packages/tensorflow/python/keras/engine/training.py\u001b[0m in \u001b[0;36mfit_generator\u001b[0;34m(self, generator, steps_per_epoch, epochs, verbose, callbacks, validation_data, validation_steps, validation_freq, class_weight, max_queue_size, workers, use_multiprocessing, shuffle, initial_epoch)\u001b[0m\n\u001b[1;32m   1477\u001b[0m         \u001b[0muse_multiprocessing\u001b[0m\u001b[0;34m=\u001b[0m\u001b[0muse_multiprocessing\u001b[0m\u001b[0;34m,\u001b[0m\u001b[0;34m\u001b[0m\u001b[0;34m\u001b[0m\u001b[0m\n\u001b[1;32m   1478\u001b[0m         \u001b[0mshuffle\u001b[0m\u001b[0;34m=\u001b[0m\u001b[0mshuffle\u001b[0m\u001b[0;34m,\u001b[0m\u001b[0;34m\u001b[0m\u001b[0;34m\u001b[0m\u001b[0m\n\u001b[0;32m-> 1479\u001b[0;31m         initial_epoch=initial_epoch)\n\u001b[0m\u001b[1;32m   1480\u001b[0m \u001b[0;34m\u001b[0m\u001b[0m\n\u001b[1;32m   1481\u001b[0m   @deprecation.deprecated(\n",
      "\u001b[0;32m~/.conda/envs/tf1_15/lib/python3.7/site-packages/tensorflow/python/keras/engine/training.py\u001b[0m in \u001b[0;36m_method_wrapper\u001b[0;34m(self, *args, **kwargs)\u001b[0m\n\u001b[1;32m     64\u001b[0m   \u001b[0;32mdef\u001b[0m \u001b[0m_method_wrapper\u001b[0m\u001b[0;34m(\u001b[0m\u001b[0mself\u001b[0m\u001b[0;34m,\u001b[0m \u001b[0;34m*\u001b[0m\u001b[0margs\u001b[0m\u001b[0;34m,\u001b[0m \u001b[0;34m**\u001b[0m\u001b[0mkwargs\u001b[0m\u001b[0;34m)\u001b[0m\u001b[0;34m:\u001b[0m\u001b[0;34m\u001b[0m\u001b[0;34m\u001b[0m\u001b[0m\n\u001b[1;32m     65\u001b[0m     \u001b[0;32mif\u001b[0m \u001b[0;32mnot\u001b[0m \u001b[0mself\u001b[0m\u001b[0;34m.\u001b[0m\u001b[0m_in_multi_worker_mode\u001b[0m\u001b[0;34m(\u001b[0m\u001b[0;34m)\u001b[0m\u001b[0;34m:\u001b[0m  \u001b[0;31m# pylint: disable=protected-access\u001b[0m\u001b[0;34m\u001b[0m\u001b[0;34m\u001b[0m\u001b[0m\n\u001b[0;32m---> 66\u001b[0;31m       \u001b[0;32mreturn\u001b[0m \u001b[0mmethod\u001b[0m\u001b[0;34m(\u001b[0m\u001b[0mself\u001b[0m\u001b[0;34m,\u001b[0m \u001b[0;34m*\u001b[0m\u001b[0margs\u001b[0m\u001b[0;34m,\u001b[0m \u001b[0;34m**\u001b[0m\u001b[0mkwargs\u001b[0m\u001b[0;34m)\u001b[0m\u001b[0;34m\u001b[0m\u001b[0;34m\u001b[0m\u001b[0m\n\u001b[0m\u001b[1;32m     67\u001b[0m \u001b[0;34m\u001b[0m\u001b[0m\n\u001b[1;32m     68\u001b[0m     \u001b[0;31m# Running inside `run_distribute_coordinator` already.\u001b[0m\u001b[0;34m\u001b[0m\u001b[0;34m\u001b[0m\u001b[0;34m\u001b[0m\u001b[0m\n",
      "\u001b[0;32m~/.conda/envs/tf1_15/lib/python3.7/site-packages/tensorflow/python/keras/engine/training.py\u001b[0m in \u001b[0;36mfit\u001b[0;34m(self, x, y, batch_size, epochs, verbose, callbacks, validation_split, validation_data, shuffle, class_weight, sample_weight, initial_epoch, steps_per_epoch, validation_steps, validation_batch_size, validation_freq, max_queue_size, workers, use_multiprocessing)\u001b[0m\n\u001b[1;32m    853\u001b[0m                 \u001b[0mcontext\u001b[0m\u001b[0;34m.\u001b[0m\u001b[0masync_wait\u001b[0m\u001b[0;34m(\u001b[0m\u001b[0;34m)\u001b[0m\u001b[0;34m\u001b[0m\u001b[0;34m\u001b[0m\u001b[0m\n\u001b[1;32m    854\u001b[0m               \u001b[0mlogs\u001b[0m \u001b[0;34m=\u001b[0m \u001b[0mtmp_logs\u001b[0m  \u001b[0;31m# No error, now safe to assign to logs.\u001b[0m\u001b[0;34m\u001b[0m\u001b[0;34m\u001b[0m\u001b[0m\n\u001b[0;32m--> 855\u001b[0;31m               \u001b[0mcallbacks\u001b[0m\u001b[0;34m.\u001b[0m\u001b[0mon_train_batch_end\u001b[0m\u001b[0;34m(\u001b[0m\u001b[0mstep\u001b[0m\u001b[0;34m,\u001b[0m \u001b[0mlogs\u001b[0m\u001b[0;34m)\u001b[0m\u001b[0;34m\u001b[0m\u001b[0;34m\u001b[0m\u001b[0m\n\u001b[0m\u001b[1;32m    856\u001b[0m         \u001b[0mepoch_logs\u001b[0m \u001b[0;34m=\u001b[0m \u001b[0mcopy\u001b[0m\u001b[0;34m.\u001b[0m\u001b[0mcopy\u001b[0m\u001b[0;34m(\u001b[0m\u001b[0mlogs\u001b[0m\u001b[0;34m)\u001b[0m\u001b[0;34m\u001b[0m\u001b[0;34m\u001b[0m\u001b[0m\n\u001b[1;32m    857\u001b[0m \u001b[0;34m\u001b[0m\u001b[0m\n",
      "\u001b[0;32m~/.conda/envs/tf1_15/lib/python3.7/site-packages/tensorflow/python/keras/callbacks.py\u001b[0m in \u001b[0;36mon_train_batch_end\u001b[0;34m(self, batch, logs)\u001b[0m\n\u001b[1;32m    387\u001b[0m     \"\"\"\n\u001b[1;32m    388\u001b[0m     \u001b[0;32mif\u001b[0m \u001b[0mself\u001b[0m\u001b[0;34m.\u001b[0m\u001b[0m_should_call_train_batch_hooks\u001b[0m\u001b[0;34m:\u001b[0m\u001b[0;34m\u001b[0m\u001b[0;34m\u001b[0m\u001b[0m\n\u001b[0;32m--> 389\u001b[0;31m       \u001b[0mlogs\u001b[0m \u001b[0;34m=\u001b[0m \u001b[0mself\u001b[0m\u001b[0;34m.\u001b[0m\u001b[0m_process_logs\u001b[0m\u001b[0;34m(\u001b[0m\u001b[0mlogs\u001b[0m\u001b[0;34m)\u001b[0m\u001b[0;34m\u001b[0m\u001b[0;34m\u001b[0m\u001b[0m\n\u001b[0m\u001b[1;32m    390\u001b[0m       \u001b[0mself\u001b[0m\u001b[0;34m.\u001b[0m\u001b[0m_call_batch_hook\u001b[0m\u001b[0;34m(\u001b[0m\u001b[0mModeKeys\u001b[0m\u001b[0;34m.\u001b[0m\u001b[0mTRAIN\u001b[0m\u001b[0;34m,\u001b[0m \u001b[0;34m'end'\u001b[0m\u001b[0;34m,\u001b[0m \u001b[0mbatch\u001b[0m\u001b[0;34m,\u001b[0m \u001b[0mlogs\u001b[0m\u001b[0;34m=\u001b[0m\u001b[0mlogs\u001b[0m\u001b[0;34m)\u001b[0m\u001b[0;34m\u001b[0m\u001b[0;34m\u001b[0m\u001b[0m\n\u001b[1;32m    391\u001b[0m \u001b[0;34m\u001b[0m\u001b[0m\n",
      "\u001b[0;32m~/.conda/envs/tf1_15/lib/python3.7/site-packages/tensorflow/python/keras/callbacks.py\u001b[0m in \u001b[0;36m_process_logs\u001b[0;34m(self, logs)\u001b[0m\n\u001b[1;32m    263\u001b[0m     \u001b[0;34m\"\"\"Turns tensors into numpy arrays or Python scalars.\"\"\"\u001b[0m\u001b[0;34m\u001b[0m\u001b[0;34m\u001b[0m\u001b[0m\n\u001b[1;32m    264\u001b[0m     \u001b[0;32mif\u001b[0m \u001b[0mlogs\u001b[0m\u001b[0;34m:\u001b[0m\u001b[0;34m\u001b[0m\u001b[0;34m\u001b[0m\u001b[0m\n\u001b[0;32m--> 265\u001b[0;31m       \u001b[0;32mreturn\u001b[0m \u001b[0mtf_utils\u001b[0m\u001b[0;34m.\u001b[0m\u001b[0mto_numpy_or_python_type\u001b[0m\u001b[0;34m(\u001b[0m\u001b[0mlogs\u001b[0m\u001b[0;34m)\u001b[0m\u001b[0;34m\u001b[0m\u001b[0;34m\u001b[0m\u001b[0m\n\u001b[0m\u001b[1;32m    266\u001b[0m     \u001b[0;32mreturn\u001b[0m \u001b[0;34m{\u001b[0m\u001b[0;34m}\u001b[0m\u001b[0;34m\u001b[0m\u001b[0;34m\u001b[0m\u001b[0m\n\u001b[1;32m    267\u001b[0m \u001b[0;34m\u001b[0m\u001b[0m\n",
      "\u001b[0;32m~/.conda/envs/tf1_15/lib/python3.7/site-packages/tensorflow/python/keras/utils/tf_utils.py\u001b[0m in \u001b[0;36mto_numpy_or_python_type\u001b[0;34m(tensors)\u001b[0m\n\u001b[1;32m    521\u001b[0m     \u001b[0;32mreturn\u001b[0m \u001b[0mt\u001b[0m  \u001b[0;31m# Don't turn ragged or sparse tensors to NumPy.\u001b[0m\u001b[0;34m\u001b[0m\u001b[0;34m\u001b[0m\u001b[0m\n\u001b[1;32m    522\u001b[0m \u001b[0;34m\u001b[0m\u001b[0m\n\u001b[0;32m--> 523\u001b[0;31m   \u001b[0;32mreturn\u001b[0m \u001b[0mnest\u001b[0m\u001b[0;34m.\u001b[0m\u001b[0mmap_structure\u001b[0m\u001b[0;34m(\u001b[0m\u001b[0m_to_single_numpy_or_python_type\u001b[0m\u001b[0;34m,\u001b[0m \u001b[0mtensors\u001b[0m\u001b[0;34m)\u001b[0m\u001b[0;34m\u001b[0m\u001b[0;34m\u001b[0m\u001b[0m\n\u001b[0m\u001b[1;32m    524\u001b[0m \u001b[0;34m\u001b[0m\u001b[0m\n",
      "\u001b[0;32m~/.conda/envs/tf1_15/lib/python3.7/site-packages/tensorflow/python/util/nest.py\u001b[0m in \u001b[0;36mmap_structure\u001b[0;34m(func, *structure, **kwargs)\u001b[0m\n\u001b[1;32m    615\u001b[0m \u001b[0;34m\u001b[0m\u001b[0m\n\u001b[1;32m    616\u001b[0m   return pack_sequence_as(\n\u001b[0;32m--> 617\u001b[0;31m       \u001b[0mstructure\u001b[0m\u001b[0;34m[\u001b[0m\u001b[0;36m0\u001b[0m\u001b[0;34m]\u001b[0m\u001b[0;34m,\u001b[0m \u001b[0;34m[\u001b[0m\u001b[0mfunc\u001b[0m\u001b[0;34m(\u001b[0m\u001b[0;34m*\u001b[0m\u001b[0mx\u001b[0m\u001b[0;34m)\u001b[0m \u001b[0;32mfor\u001b[0m \u001b[0mx\u001b[0m \u001b[0;32min\u001b[0m \u001b[0mentries\u001b[0m\u001b[0;34m]\u001b[0m\u001b[0;34m,\u001b[0m\u001b[0;34m\u001b[0m\u001b[0;34m\u001b[0m\u001b[0m\n\u001b[0m\u001b[1;32m    618\u001b[0m       expand_composites=expand_composites)\n\u001b[1;32m    619\u001b[0m \u001b[0;34m\u001b[0m\u001b[0m\n",
      "\u001b[0;32m~/.conda/envs/tf1_15/lib/python3.7/site-packages/tensorflow/python/util/nest.py\u001b[0m in \u001b[0;36m<listcomp>\u001b[0;34m(.0)\u001b[0m\n\u001b[1;32m    615\u001b[0m \u001b[0;34m\u001b[0m\u001b[0m\n\u001b[1;32m    616\u001b[0m   return pack_sequence_as(\n\u001b[0;32m--> 617\u001b[0;31m       \u001b[0mstructure\u001b[0m\u001b[0;34m[\u001b[0m\u001b[0;36m0\u001b[0m\u001b[0;34m]\u001b[0m\u001b[0;34m,\u001b[0m \u001b[0;34m[\u001b[0m\u001b[0mfunc\u001b[0m\u001b[0;34m(\u001b[0m\u001b[0;34m*\u001b[0m\u001b[0mx\u001b[0m\u001b[0;34m)\u001b[0m \u001b[0;32mfor\u001b[0m \u001b[0mx\u001b[0m \u001b[0;32min\u001b[0m \u001b[0mentries\u001b[0m\u001b[0;34m]\u001b[0m\u001b[0;34m,\u001b[0m\u001b[0;34m\u001b[0m\u001b[0;34m\u001b[0m\u001b[0m\n\u001b[0m\u001b[1;32m    618\u001b[0m       expand_composites=expand_composites)\n\u001b[1;32m    619\u001b[0m \u001b[0;34m\u001b[0m\u001b[0m\n",
      "\u001b[0;32m~/.conda/envs/tf1_15/lib/python3.7/site-packages/tensorflow/python/keras/utils/tf_utils.py\u001b[0m in \u001b[0;36m_to_single_numpy_or_python_type\u001b[0;34m(t)\u001b[0m\n\u001b[1;32m    517\u001b[0m   \u001b[0;32mdef\u001b[0m \u001b[0m_to_single_numpy_or_python_type\u001b[0m\u001b[0;34m(\u001b[0m\u001b[0mt\u001b[0m\u001b[0;34m)\u001b[0m\u001b[0;34m:\u001b[0m\u001b[0;34m\u001b[0m\u001b[0;34m\u001b[0m\u001b[0m\n\u001b[1;32m    518\u001b[0m     \u001b[0;32mif\u001b[0m \u001b[0misinstance\u001b[0m\u001b[0;34m(\u001b[0m\u001b[0mt\u001b[0m\u001b[0;34m,\u001b[0m \u001b[0mops\u001b[0m\u001b[0;34m.\u001b[0m\u001b[0mTensor\u001b[0m\u001b[0;34m)\u001b[0m\u001b[0;34m:\u001b[0m\u001b[0;34m\u001b[0m\u001b[0;34m\u001b[0m\u001b[0m\n\u001b[0;32m--> 519\u001b[0;31m       \u001b[0mx\u001b[0m \u001b[0;34m=\u001b[0m \u001b[0mt\u001b[0m\u001b[0;34m.\u001b[0m\u001b[0mnumpy\u001b[0m\u001b[0;34m(\u001b[0m\u001b[0;34m)\u001b[0m\u001b[0;34m\u001b[0m\u001b[0;34m\u001b[0m\u001b[0m\n\u001b[0m\u001b[1;32m    520\u001b[0m       \u001b[0;32mreturn\u001b[0m \u001b[0mx\u001b[0m\u001b[0;34m.\u001b[0m\u001b[0mitem\u001b[0m\u001b[0;34m(\u001b[0m\u001b[0;34m)\u001b[0m \u001b[0;32mif\u001b[0m \u001b[0mnp\u001b[0m\u001b[0;34m.\u001b[0m\u001b[0mndim\u001b[0m\u001b[0;34m(\u001b[0m\u001b[0mx\u001b[0m\u001b[0;34m)\u001b[0m \u001b[0;34m==\u001b[0m \u001b[0;36m0\u001b[0m \u001b[0;32melse\u001b[0m \u001b[0mx\u001b[0m\u001b[0;34m\u001b[0m\u001b[0;34m\u001b[0m\u001b[0m\n\u001b[1;32m    521\u001b[0m     \u001b[0;32mreturn\u001b[0m \u001b[0mt\u001b[0m  \u001b[0;31m# Don't turn ragged or sparse tensors to NumPy.\u001b[0m\u001b[0;34m\u001b[0m\u001b[0;34m\u001b[0m\u001b[0m\n",
      "\u001b[0;32m~/.conda/envs/tf1_15/lib/python3.7/site-packages/tensorflow/python/framework/ops.py\u001b[0m in \u001b[0;36mnumpy\u001b[0;34m(self)\u001b[0m\n\u001b[1;32m    959\u001b[0m     \"\"\"\n\u001b[1;32m    960\u001b[0m     \u001b[0;31m# TODO(slebedev): Consider avoiding a copy for non-CPU or remote tensors.\u001b[0m\u001b[0;34m\u001b[0m\u001b[0;34m\u001b[0m\u001b[0;34m\u001b[0m\u001b[0m\n\u001b[0;32m--> 961\u001b[0;31m     \u001b[0mmaybe_arr\u001b[0m \u001b[0;34m=\u001b[0m \u001b[0mself\u001b[0m\u001b[0;34m.\u001b[0m\u001b[0m_numpy\u001b[0m\u001b[0;34m(\u001b[0m\u001b[0;34m)\u001b[0m  \u001b[0;31m# pylint: disable=protected-access\u001b[0m\u001b[0;34m\u001b[0m\u001b[0;34m\u001b[0m\u001b[0m\n\u001b[0m\u001b[1;32m    962\u001b[0m     \u001b[0;32mreturn\u001b[0m \u001b[0mmaybe_arr\u001b[0m\u001b[0;34m.\u001b[0m\u001b[0mcopy\u001b[0m\u001b[0;34m(\u001b[0m\u001b[0;34m)\u001b[0m \u001b[0;32mif\u001b[0m \u001b[0misinstance\u001b[0m\u001b[0;34m(\u001b[0m\u001b[0mmaybe_arr\u001b[0m\u001b[0;34m,\u001b[0m \u001b[0mnp\u001b[0m\u001b[0;34m.\u001b[0m\u001b[0mndarray\u001b[0m\u001b[0;34m)\u001b[0m \u001b[0;32melse\u001b[0m \u001b[0mmaybe_arr\u001b[0m\u001b[0;34m\u001b[0m\u001b[0;34m\u001b[0m\u001b[0m\n\u001b[1;32m    963\u001b[0m \u001b[0;34m\u001b[0m\u001b[0m\n",
      "\u001b[0;32m~/.conda/envs/tf1_15/lib/python3.7/site-packages/tensorflow/python/framework/ops.py\u001b[0m in \u001b[0;36m_numpy\u001b[0;34m(self)\u001b[0m\n\u001b[1;32m    925\u001b[0m     \u001b[0;31m# pylint: disable=protected-access\u001b[0m\u001b[0;34m\u001b[0m\u001b[0;34m\u001b[0m\u001b[0;34m\u001b[0m\u001b[0m\n\u001b[1;32m    926\u001b[0m     \u001b[0;32mtry\u001b[0m\u001b[0;34m:\u001b[0m\u001b[0;34m\u001b[0m\u001b[0;34m\u001b[0m\u001b[0m\n\u001b[0;32m--> 927\u001b[0;31m       \u001b[0;32mreturn\u001b[0m \u001b[0mself\u001b[0m\u001b[0;34m.\u001b[0m\u001b[0m_numpy_internal\u001b[0m\u001b[0;34m(\u001b[0m\u001b[0;34m)\u001b[0m\u001b[0;34m\u001b[0m\u001b[0;34m\u001b[0m\u001b[0m\n\u001b[0m\u001b[1;32m    928\u001b[0m     \u001b[0;32mexcept\u001b[0m \u001b[0mcore\u001b[0m\u001b[0;34m.\u001b[0m\u001b[0m_NotOkStatusException\u001b[0m \u001b[0;32mas\u001b[0m \u001b[0me\u001b[0m\u001b[0;34m:\u001b[0m\u001b[0;34m\u001b[0m\u001b[0;34m\u001b[0m\u001b[0m\n\u001b[1;32m    929\u001b[0m       \u001b[0msix\u001b[0m\u001b[0;34m.\u001b[0m\u001b[0mraise_from\u001b[0m\u001b[0;34m(\u001b[0m\u001b[0mcore\u001b[0m\u001b[0;34m.\u001b[0m\u001b[0m_status_to_exception\u001b[0m\u001b[0;34m(\u001b[0m\u001b[0me\u001b[0m\u001b[0;34m.\u001b[0m\u001b[0mcode\u001b[0m\u001b[0;34m,\u001b[0m \u001b[0me\u001b[0m\u001b[0;34m.\u001b[0m\u001b[0mmessage\u001b[0m\u001b[0;34m)\u001b[0m\u001b[0;34m,\u001b[0m \u001b[0;32mNone\u001b[0m\u001b[0;34m)\u001b[0m\u001b[0;34m\u001b[0m\u001b[0;34m\u001b[0m\u001b[0m\n",
      "\u001b[0;31mKeyboardInterrupt\u001b[0m: "
     ]
    }
   ],
   "source": [
    "model.fit_generator(generator=training_generator, validation_data=validation_generator,\n",
    "             epochs=epoch)"
   ]
  },
  {
   "cell_type": "code",
   "execution_count": null,
   "metadata": {},
   "outputs": [],
   "source": []
  },
  {
   "cell_type": "code",
   "execution_count": 6,
   "metadata": {},
   "outputs": [
    {
     "name": "stdout",
     "output_type": "stream",
     "text": [
      "Model: \"model\"\n",
      "_________________________________________________________________\n",
      "Layer (type)                 Output Shape              Param #   \n",
      "=================================================================\n",
      "input_1 (InputLayer)         [(None, 32, 32, 32, 1)]   0         \n",
      "_________________________________________________________________\n",
      "conv3d (Conv3D)              (None, 31, 31, 31, 32)    288       \n",
      "_________________________________________________________________\n",
      "conv3d_1 (Conv3D)            (None, 30, 30, 30, 32)    8224      \n",
      "_________________________________________________________________\n",
      "conv3d_2 (Conv3D)            (None, 28, 28, 28, 32)    27680     \n",
      "_________________________________________________________________\n",
      "conv3d_3 (Conv3D)            (None, 26, 26, 26, 16)    13840     \n",
      "_________________________________________________________________\n",
      "max_pooling3d_1 (MaxPooling3 (None, 13, 13, 13, 16)    0         \n",
      "_________________________________________________________________\n",
      "reshape (Reshape)            (None, 35152)             0         \n",
      "_________________________________________________________________\n",
      "dense (Dense)                (None, 256)               8999168   \n",
      "_________________________________________________________________\n",
      "dropout (Dropout)            (None, 256)               0         \n",
      "_________________________________________________________________\n",
      "dense_1 (Dense)              (None, 256)               65792     \n",
      "_________________________________________________________________\n",
      "dropout_1 (Dropout)          (None, 256)               0         \n",
      "_________________________________________________________________\n",
      "dense_2 (Dense)              (None, 4)                 1028      \n",
      "=================================================================\n",
      "Total params: 9,116,020\n",
      "Trainable params: 9,116,020\n",
      "Non-trainable params: 0\n",
      "_________________________________________________________________\n"
     ]
    }
   ],
   "source": [
    "model.summary()"
   ]
  },
  {
   "cell_type": "code",
   "execution_count": null,
   "metadata": {},
   "outputs": [],
   "source": []
  },
  {
   "cell_type": "code",
   "execution_count": 39,
   "metadata": {},
   "outputs": [],
   "source": [
    "from tensorflow.keras.callbacks import Callback\n",
    "import tensorflow.keras.backend as K\n",
    "import numpy as np\n",
    "import matplotlib.pyplot as plt\n",
    "\n",
    "class LRFinder(Callback):\n",
    "    \"\"\"\n",
    "    Up-to date version: https://github.com/WittmannF/LRFinder\n",
    "    Example of usage:\n",
    "        from keras.models import Sequential\n",
    "        from keras.layers import Flatten, Dense\n",
    "        from keras.datasets import fashion_mnist\n",
    "        !git clone https://github.com/WittmannF/LRFinder.git\n",
    "        from LRFinder.keras_callback import LRFinder\n",
    "        # 1. Input Data\n",
    "        (X_train, y_train), (X_test, y_test) = fashion_mnist.load_data()\n",
    "        mean, std = X_train.mean(), X_train.std()\n",
    "        X_train, X_test = (X_train-mean)/std, (X_test-mean)/std\n",
    "        # 2. Define and Compile Model\n",
    "        model = Sequential([Flatten(),\n",
    "                            Dense(512, activation='relu'),\n",
    "                            Dense(10, activation='softmax')])\n",
    "        model.compile(loss='sparse_categorical_crossentropy', \\\n",
    "                      metrics=['accuracy'], optimizer='sgd')\n",
    "        # 3. Fit using Callback\n",
    "        lr_finder = LRFinder(min_lr=1e-4, max_lr=1)\n",
    "        model.fit(X_train, y_train, batch_size=128, callbacks=[lr_finder], epochs=2)\n",
    "    \"\"\"\n",
    "    def __init__(self, min_lr, max_lr, mom=0.9, stop_multiplier=None, \n",
    "                 reload_weights=True, batches_lr_update=5):\n",
    "        self.min_lr = min_lr\n",
    "        self.max_lr = max_lr\n",
    "        self.mom = mom\n",
    "        self.reload_weights = reload_weights\n",
    "        self.batches_lr_update = batches_lr_update\n",
    "        if stop_multiplier is None:\n",
    "            self.stop_multiplier = -20*self.mom/3 + 10 # 4 if mom=0.9\n",
    "                                                       # 10 if mom=0\n",
    "        else:\n",
    "            self.stop_multiplier = stop_multiplier\n",
    "        \n",
    "    def on_train_begin(self, logs={}):\n",
    "        p = self.params\n",
    "        try:\n",
    "            n_iterations = p['epochs']*p['samples']//p['batch_size']\n",
    "        except:\n",
    "            n_iterations = p['steps']*p['epochs']\n",
    "            \n",
    "        self.learning_rates = np.geomspace(self.min_lr, self.max_lr, \\\n",
    "                                           num=n_iterations//self.batches_lr_update+1)\n",
    "        self.losses=[]\n",
    "        self.iteration=0\n",
    "        self.best_loss=0\n",
    "        if self.reload_weights:\n",
    "            self.model.save_weights('tmp.hdf5')\n",
    "        \n",
    "    \n",
    "    def on_batch_end(self, batch, logs={}):\n",
    "        loss = logs.get('loss')\n",
    "        \n",
    "        if self.iteration!=0: # Make loss smoother using momentum\n",
    "            loss = self.losses[-1]*self.mom+loss*(1-self.mom)\n",
    "        \n",
    "        if self.iteration==0 or loss < self.best_loss: \n",
    "                self.best_loss = loss\n",
    "                \n",
    "        if self.iteration%self.batches_lr_update==0: # Evaluate each lr over 5 epochs\n",
    "            \n",
    "            if self.reload_weights:\n",
    "                self.model.load_weights('tmp.hdf5')\n",
    "          \n",
    "            lr = self.learning_rates[self.iteration//self.batches_lr_update]            \n",
    "            K.set_value(self.model.optimizer.lr, lr)\n",
    "\n",
    "            self.losses.append(loss)            \n",
    "\n",
    "        if loss > self.best_loss*self.stop_multiplier: # Stop criteria\n",
    "            self.model.stop_training = True\n",
    "                \n",
    "        self.iteration += 1\n",
    "    \n",
    "    def on_train_end(self, logs=None):\n",
    "        if self.reload_weights:\n",
    "                self.model.load_weights('tmp.hdf5')\n",
    "                \n",
    "        plt.figure(figsize=(12, 6))\n",
    "        plt.plot(self.learning_rates[:len(self.losses)], self.losses)\n",
    "        plt.xlabel(\"Learning Rate\")\n",
    "        plt.ylabel(\"Loss\")\n",
    "        plt.xscale('log')\n",
    "        plt.show()\n"
   ]
  },
  {
   "cell_type": "code",
   "execution_count": 40,
   "metadata": {},
   "outputs": [],
   "source": [
    "lr_finder = LRFinder(min_lr=1e-6, max_lr=1)"
   ]
  },
  {
   "cell_type": "code",
   "execution_count": 41,
   "metadata": {},
   "outputs": [
    {
     "name": "stdout",
     "output_type": "stream",
     "text": [
      "Epoch 1/2\n",
      "3412/3412 [==============================] - 313s 92ms/step - loss: 1.3413 - accuracy: 0.3521 - val_loss: 1.3321 - val_accuracy: 0.3714\n",
      "Epoch 2/2\n",
      "3412/3412 [==============================] - 311s 91ms/step - loss: 711624.5000 - accuracy: 0.3172 - val_loss: 1.7773 - val_accuracy: 0.2322\n"
     ]
    },
    {
     "data": {
      "image/png": "[encoded data removed]",
      "text/plain": [
       "<Figure size 864x432 with 1 Axes>"
      ]
     },
     "metadata": {
      "needs_background": "light"
     },
     "output_type": "display_data"
    },
    {
     "data": {
      "text/plain": [
       "<tensorflow.python.keras.callbacks.History at 0x7f0817031cd0>"
      ]
     },
     "execution_count": 41,
     "metadata": {},
     "output_type": "execute_result"
    }
   ],
   "source": [
    "model.fit_generator(generator=training_generator, validation_data=validation_generator,\n",
    "            callbacks=[lr_finder], epochs=2)"
   ]
  },
  {
   "cell_type": "code",
   "execution_count": 44,
   "metadata": {},
   "outputs": [],
   "source": [
    "%matplotlib notebook"
   ]
  },
  {
   "cell_type": "code",
   "execution_count": 45,
   "metadata": {},
   "outputs": [
    {
     "data": {
      "application/javascript": [
       "/* Put everything inside the global mpl namespace */\n",
       "window.mpl = {};\n",
       "\n",
       "\n",
       "mpl.get_websocket_type = function() {\n",
       "    if (typeof(WebSocket) !== 'undefined') {\n",
       "        return WebSocket;\n",
       "    } else if (typeof(MozWebSocket) !== 'undefined') {\n",
       "        return MozWebSocket;\n",
       "    } else {\n",
       "        alert('Your browser does not have WebSocket support. ' +\n",
       "              'Please try Chrome, Safari or Firefox ≥ 6. ' +\n",
       "              'Firefox 4 and 5 are also supported but you ' +\n",
       "              'have to enable WebSockets in about:config.');\n",
       "    };\n",
       "}\n",
       "\n",
       "mpl.figure = function(figure_id, websocket, ondownload, parent_element) {\n",
       "    this.id = figure_id;\n",
       "\n",
       "    this.ws = websocket;\n",
       "\n",
       "    this.supports_binary = (this.ws.binaryType != undefined);\n",
       "\n",
       "    if (!this.supports_binary) {\n",
       "        var warnings = document.getElementById(\"mpl-warnings\");\n",
       "        if (warnings) {\n",
       "            warnings.style.display = 'block';\n",
       "            warnings.textContent = (\n",
       "                \"This browser does not support binary websocket messages. \" +\n",
       "                    \"Performance may be slow.\");\n",
       "        }\n",
       "    }\n",
       "\n",
       "    this.imageObj = new Image();\n",
       "\n",
       "    this.context = undefined;\n",
       "    this.message = undefined;\n",
       "    this.canvas = undefined;\n",
       "    this.rubberband_canvas = undefined;\n",
       "    this.rubberband_context = undefined;\n",
       "    this.format_dropdown = undefined;\n",
       "\n",
       "    this.image_mode = 'full';\n",
       "\n",
       "    this.root = $('<div/>');\n",
       "    this._root_extra_style(this.root)\n",
       "    this.root.attr('style', 'display: inline-block');\n",
       "\n",
       "    $(parent_element).append(this.root);\n",
       "\n",
       "    this._init_header(this);\n",
       "    this._init_canvas(this);\n",
       "    this._init_toolbar(this);\n",
       "\n",
       "    var fig = this;\n",
       "\n",
       "    this.waiting = false;\n",
       "\n",
       "    this.ws.onopen =  function () {\n",
       "            fig.send_message(\"supports_binary\", {value: fig.supports_binary});\n",
       "            fig.send_message(\"send_image_mode\", {});\n",
       "            if (mpl.ratio != 1) {\n",
       "                fig.send_message(\"set_dpi_ratio\", {'dpi_ratio': mpl.ratio});\n",
       "            }\n",
       "            fig.send_message(\"refresh\", {});\n",
       "        }\n",
       "\n",
       "    this.imageObj.onload = function() {\n",
       "            if (fig.image_mode == 'full') {\n",
       "                // Full images could contain transparency (where diff images\n",
       "                // almost always do), so we need to clear the canvas so that\n",
       "                // there is no ghosting.\n",
       "                fig.context.clearRect(0, 0, fig.canvas.width, fig.canvas.height);\n",
       "            }\n",
       "            fig.context.drawImage(fig.imageObj, 0, 0);\n",
       "        };\n",
       "\n",
       "    this.imageObj.onunload = function() {\n",
       "        fig.ws.close();\n",
       "    }\n",
       "\n",
       "    this.ws.onmessage = this._make_on_message_function(this);\n",
       "\n",
       "    this.ondownload = ondownload;\n",
       "}\n",
       "\n",
       "mpl.figure.prototype._init_header = function() {\n",
       "    var titlebar = $(\n",
       "        '<div class=\"ui-dialog-titlebar ui-widget-header ui-corner-all ' +\n",
       "        'ui-helper-clearfix\"/>');\n",
       "    var titletext = $(\n",
       "        '<div class=\"ui-dialog-title\" style=\"width: 100%; ' +\n",
       "        'text-align: center; padding: 3px;\"/>');\n",
       "    titlebar.append(titletext)\n",
       "    this.root.append(titlebar);\n",
       "    this.header = titletext[0];\n",
       "}\n",
       "\n",
       "\n",
       "\n",
       "mpl.figure.prototype._canvas_extra_style = function(canvas_div) {\n",
       "\n",
       "}\n",
       "\n",
       "\n",
       "mpl.figure.prototype._root_extra_style = function(canvas_div) {\n",
       "\n",
       "}\n",
       "\n",
       "mpl.figure.prototype._init_canvas = function() {\n",
       "    var fig = this;\n",
       "\n",
       "    var canvas_div = $('<div/>');\n",
       "\n",
       "    canvas_div.attr('style', 'position: relative; clear: both; outline: 0');\n",
       "\n",
       "    function canvas_keyboard_event(event) {\n",
       "        return fig.key_event(event, event['data']);\n",
       "    }\n",
       "\n",
       "    canvas_div.keydown('key_press', canvas_keyboard_event);\n",
       "    canvas_div.keyup('key_release', canvas_keyboard_event);\n",
       "    this.canvas_div = canvas_div\n",
       "    this._canvas_extra_style(canvas_div)\n",
       "    this.root.append(canvas_div);\n",
       "\n",
       "    var canvas = $('<canvas/>');\n",
       "    canvas.addClass('mpl-canvas');\n",
       "    canvas.attr('style', \"left: 0; top: 0; z-index: 0; outline: 0\")\n",
       "\n",
       "    this.canvas = canvas[0];\n",
       "    this.context = canvas[0].getContext(\"2d\");\n",
       "\n",
       "    var backingStore = this.context.backingStorePixelRatio ||\n",
       "\tthis.context.webkitBackingStorePixelRatio ||\n",
       "\tthis.context.mozBackingStorePixelRatio ||\n",
       "\tthis.context.msBackingStorePixelRatio ||\n",
       "\tthis.context.oBackingStorePixelRatio ||\n",
       "\tthis.context.backingStorePixelRatio || 1;\n",
       "\n",
       "    mpl.ratio = (window.devicePixelRatio || 1) / backingStore;\n",
       "\n",
       "    var rubberband = $('<canvas/>');\n",
       "    rubberband.attr('style', \"position: absolute; left: 0; top: 0; z-index: 1;\")\n",
       "\n",
       "    var pass_mouse_events = true;\n",
       "\n",
       "    canvas_div.resizable({\n",
       "        start: function(event, ui) {\n",
       "            pass_mouse_events = false;\n",
       "        },\n",
       "        resize: function(event, ui) {\n",
       "            fig.request_resize(ui.size.width, ui.size.height);\n",
       "        },\n",
       "        stop: function(event, ui) {\n",
       "            pass_mouse_events = true;\n",
       "            fig.request_resize(ui.size.width, ui.size.height);\n",
       "        },\n",
       "    });\n",
       "\n",
       "    function mouse_event_fn(event) {\n",
       "        if (pass_mouse_events)\n",
       "            return fig.mouse_event(event, event['data']);\n",
       "    }\n",
       "\n",
       "    rubberband.mousedown('button_press', mouse_event_fn);\n",
       "    rubberband.mouseup('button_release', mouse_event_fn);\n",
       "    // Throttle sequential mouse events to 1 every 20ms.\n",
       "    rubberband.mousemove('motion_notify', mouse_event_fn);\n",
       "\n",
       "    rubberband.mouseenter('figure_enter', mouse_event_fn);\n",
       "    rubberband.mouseleave('figure_leave', mouse_event_fn);\n",
       "\n",
       "    canvas_div.on(\"wheel\", function (event) {\n",
       "        event = event.originalEvent;\n",
       "        event['data'] = 'scroll'\n",
       "        if (event.deltaY < 0) {\n",
       "            event.step = 1;\n",
       "        } else {\n",
       "            event.step = -1;\n",
       "        }\n",
       "        mouse_event_fn(event);\n",
       "    });\n",
       "\n",
       "    canvas_div.append(canvas);\n",
       "    canvas_div.append(rubberband);\n",
       "\n",
       "    this.rubberband = rubberband;\n",
       "    this.rubberband_canvas = rubberband[0];\n",
       "    this.rubberband_context = rubberband[0].getContext(\"2d\");\n",
       "    this.rubberband_context.strokeStyle = \"#000000\";\n",
       "\n",
       "    this._resize_canvas = function(width, height) {\n",
       "        // Keep the size of the canvas, canvas container, and rubber band\n",
       "        // canvas in synch.\n",
       "        canvas_div.css('width', width)\n",
       "        canvas_div.css('height', height)\n",
       "\n",
       "        canvas.attr('width', width * mpl.ratio);\n",
       "        canvas.attr('height', height * mpl.ratio);\n",
       "        canvas.attr('style', 'width: ' + width + 'px; height: ' + height + 'px;');\n",
       "\n",
       "        rubberband.attr('width', width);\n",
       "        rubberband.attr('height', height);\n",
       "    }\n",
       "\n",
       "    // Set the figure to an initial 600x600px, this will subsequently be updated\n",
       "    // upon first draw.\n",
       "    this._resize_canvas(600, 600);\n",
       "\n",
       "    // Disable right mouse context menu.\n",
       "    $(this.rubberband_canvas).bind(\"contextmenu\",function(e){\n",
       "        return false;\n",
       "    });\n",
       "\n",
       "    function set_focus () {\n",
       "        canvas.focus();\n",
       "        canvas_div.focus();\n",
       "    }\n",
       "\n",
       "    window.setTimeout(set_focus, 100);\n",
       "}\n",
       "\n",
       "mpl.figure.prototype._init_toolbar = function() {\n",
       "    var fig = this;\n",
       "\n",
       "    var nav_element = $('<div/>');\n",
       "    nav_element.attr('style', 'width: 100%');\n",
       "    this.root.append(nav_element);\n",
       "\n",
       "    // Define a callback function for later on.\n",
       "    function toolbar_event(event) {\n",
       "        return fig.toolbar_button_onclick(event['data']);\n",
       "    }\n",
       "    function toolbar_mouse_event(event) {\n",
       "        return fig.toolbar_button_onmouseover(event['data']);\n",
       "    }\n",
       "\n",
       "    for(var toolbar_ind in mpl.toolbar_items) {\n",
       "        var name = mpl.toolbar_items[toolbar_ind][0];\n",
       "        var tooltip = mpl.toolbar_items[toolbar_ind][1];\n",
       "        var image = mpl.toolbar_items[toolbar_ind][2];\n",
       "        var method_name = mpl.toolbar_items[toolbar_ind][3];\n",
       "\n",
       "        if (!name) {\n",
       "            // put a spacer in here.\n",
       "            continue;\n",
       "        }\n",
       "        var button = $('<button/>');\n",
       "        button.addClass('ui-button ui-widget ui-state-default ui-corner-all ' +\n",
       "                        'ui-button-icon-only');\n",
       "        button.attr('role', 'button');\n",
       "        button.attr('aria-disabled', 'false');\n",
       "        button.click(method_name, toolbar_event);\n",
       "        button.mouseover(tooltip, toolbar_mouse_event);\n",
       "\n",
       "        var icon_img = $('<span/>');\n",
       "        icon_img.addClass('ui-button-icon-primary ui-icon');\n",
       "        icon_img.addClass(image);\n",
       "        icon_img.addClass('ui-corner-all');\n",
       "\n",
       "        var tooltip_span = $('<span/>');\n",
       "        tooltip_span.addClass('ui-button-text');\n",
       "        tooltip_span.html(tooltip);\n",
       "\n",
       "        button.append(icon_img);\n",
       "        button.append(tooltip_span);\n",
       "\n",
       "        nav_element.append(button);\n",
       "    }\n",
       "\n",
       "    var fmt_picker_span = $('<span/>');\n",
       "\n",
       "    var fmt_picker = $('<select/>');\n",
       "    fmt_picker.addClass('mpl-toolbar-option ui-widget ui-widget-content');\n",
       "    fmt_picker_span.append(fmt_picker);\n",
       "    nav_element.append(fmt_picker_span);\n",
       "    this.format_dropdown = fmt_picker[0];\n",
       "\n",
       "    for (var ind in mpl.extensions) {\n",
       "        var fmt = mpl.extensions[ind];\n",
       "        var option = $(\n",
       "            '<option/>', {selected: fmt === mpl.default_extension}).html(fmt);\n",
       "        fmt_picker.append(option);\n",
       "    }\n",
       "\n",
       "    // Add hover states to the ui-buttons\n",
       "    $( \".ui-button\" ).hover(\n",
       "        function() { $(this).addClass(\"ui-state-hover\");},\n",
       "        function() { $(this).removeClass(\"ui-state-hover\");}\n",
       "    );\n",
       "\n",
       "    var status_bar = $('<span class=\"mpl-message\"/>');\n",
       "    nav_element.append(status_bar);\n",
       "    this.message = status_bar[0];\n",
       "}\n",
       "\n",
       "mpl.figure.prototype.request_resize = function(x_pixels, y_pixels) {\n",
       "    // Request matplotlib to resize the figure. Matplotlib will then trigger a resize in the client,\n",
       "    // which will in turn request a refresh of the image.\n",
       "    this.send_message('resize', {'width': x_pixels, 'height': y_pixels});\n",
       "}\n",
       "\n",
       "mpl.figure.prototype.send_message = function(type, properties) {\n",
       "    properties['type'] = type;\n",
       "    properties['figure_id'] = this.id;\n",
       "    this.ws.send(JSON.stringify(properties));\n",
       "}\n",
       "\n",
       "mpl.figure.prototype.send_draw_message = function() {\n",
       "    if (!this.waiting) {\n",
       "        this.waiting = true;\n",
       "        this.ws.send(JSON.stringify({type: \"draw\", figure_id: this.id}));\n",
       "    }\n",
       "}\n",
       "\n",
       "\n",
       "mpl.figure.prototype.handle_save = function(fig, msg) {\n",
       "    var format_dropdown = fig.format_dropdown;\n",
       "    var format = format_dropdown.options[format_dropdown.selectedIndex].value;\n",
       "    fig.ondownload(fig, format);\n",
       "}\n",
       "\n",
       "\n",
       "mpl.figure.prototype.handle_resize = function(fig, msg) {\n",
       "    var size = msg['size'];\n",
       "    if (size[0] != fig.canvas.width || size[1] != fig.canvas.height) {\n",
       "        fig._resize_canvas(size[0], size[1]);\n",
       "        fig.send_message(\"refresh\", {});\n",
       "    };\n",
       "}\n",
       "\n",
       "mpl.figure.prototype.handle_rubberband = function(fig, msg) {\n",
       "    var x0 = msg['x0'] / mpl.ratio;\n",
       "    var y0 = (fig.canvas.height - msg['y0']) / mpl.ratio;\n",
       "    var x1 = msg['x1'] / mpl.ratio;\n",
       "    var y1 = (fig.canvas.height - msg['y1']) / mpl.ratio;\n",
       "    x0 = Math.floor(x0) + 0.5;\n",
       "    y0 = Math.floor(y0) + 0.5;\n",
       "    x1 = Math.floor(x1) + 0.5;\n",
       "    y1 = Math.floor(y1) + 0.5;\n",
       "    var min_x = Math.min(x0, x1);\n",
       "    var min_y = Math.min(y0, y1);\n",
       "    var width = Math.abs(x1 - x0);\n",
       "    var height = Math.abs(y1 - y0);\n",
       "\n",
       "    fig.rubberband_context.clearRect(\n",
       "        0, 0, fig.canvas.width / mpl.ratio, fig.canvas.height / mpl.ratio);\n",
       "\n",
       "    fig.rubberband_context.strokeRect(min_x, min_y, width, height);\n",
       "}\n",
       "\n",
       "mpl.figure.prototype.handle_figure_label = function(fig, msg) {\n",
       "    // Updates the figure title.\n",
       "    fig.header.textContent = msg['label'];\n",
       "}\n",
       "\n",
       "mpl.figure.prototype.handle_cursor = function(fig, msg) {\n",
       "    var cursor = msg['cursor'];\n",
       "    switch(cursor)\n",
       "    {\n",
       "    case 0:\n",
       "        cursor = 'pointer';\n",
       "        break;\n",
       "    case 1:\n",
       "        cursor = 'default';\n",
       "        break;\n",
       "    case 2:\n",
       "        cursor = 'crosshair';\n",
       "        break;\n",
       "    case 3:\n",
       "        cursor = 'move';\n",
       "        break;\n",
       "    }\n",
       "    fig.rubberband_canvas.style.cursor = cursor;\n",
       "}\n",
       "\n",
       "mpl.figure.prototype.handle_message = function(fig, msg) {\n",
       "    fig.message.textContent = msg['message'];\n",
       "}\n",
       "\n",
       "mpl.figure.prototype.handle_draw = function(fig, msg) {\n",
       "    // Request the server to send over a new figure.\n",
       "    fig.send_draw_message();\n",
       "}\n",
       "\n",
       "mpl.figure.prototype.handle_image_mode = function(fig, msg) {\n",
       "    fig.image_mode = msg['mode'];\n",
       "}\n",
       "\n",
       "mpl.figure.prototype.updated_canvas_event = function() {\n",
       "    // Called whenever the canvas gets updated.\n",
       "    this.send_message(\"ack\", {});\n",
       "}\n",
       "\n",
       "// A function to construct a web socket function for onmessage handling.\n",
       "// Called in the figure constructor.\n",
       "mpl.figure.prototype._make_on_message_function = function(fig) {\n",
       "    return function socket_on_message(evt) {\n",
       "        if (evt.data instanceof Blob) {\n",
       "            /* FIXME: We get \"Resource interpreted as Image but\n",
       "             * transferred with MIME type text/plain:\" errors on\n",
       "             * Chrome.  But how to set the MIME type?  It doesn't seem\n",
       "             * to be part of the websocket stream */\n",
       "            evt.data.type = \"image/png\";\n",
       "\n",
       "            /* Free the memory for the previous frames */\n",
       "            if (fig.imageObj.src) {\n",
       "                (window.URL || window.webkitURL).revokeObjectURL(\n",
       "                    fig.imageObj.src);\n",
       "            }\n",
       "\n",
       "            fig.imageObj.src = (window.URL || window.webkitURL).createObjectURL(\n",
       "                evt.data);\n",
       "            fig.updated_canvas_event();\n",
       "            fig.waiting = false;\n",
       "            return;\n",
       "        }\n",
       "        else if (typeof evt.data === 'string' && evt.data.slice(0, 21) == \"data:image/png;base64\") {\n",
       "            fig.imageObj.src = evt.data;\n",
       "            fig.updated_canvas_event();\n",
       "            fig.waiting = false;\n",
       "            return;\n",
       "        }\n",
       "\n",
       "        var msg = JSON.parse(evt.data);\n",
       "        var msg_type = msg['type'];\n",
       "\n",
       "        // Call the  \"handle_{type}\" callback, which takes\n",
       "        // the figure and JSON message as its only arguments.\n",
       "        try {\n",
       "            var callback = fig[\"handle_\" + msg_type];\n",
       "        } catch (e) {\n",
       "            console.log(\"No handler for the '\" + msg_type + \"' message type: \", msg);\n",
       "            return;\n",
       "        }\n",
       "\n",
       "        if (callback) {\n",
       "            try {\n",
       "                // console.log(\"Handling '\" + msg_type + \"' message: \", msg);\n",
       "                callback(fig, msg);\n",
       "            } catch (e) {\n",
       "                console.log(\"Exception inside the 'handler_\" + msg_type + \"' callback:\", e, e.stack, msg);\n",
       "            }\n",
       "        }\n",
       "    };\n",
       "}\n",
       "\n",
       "// from http://stackoverflow.com/questions/1114465/getting-mouse-location-in-canvas\n",
       "mpl.findpos = function(e) {\n",
       "    //this section is from http://www.quirksmode.org/js/events_properties.html\n",
       "    var targ;\n",
       "    if (!e)\n",
       "        e = window.event;\n",
       "    if (e.target)\n",
       "        targ = e.target;\n",
       "    else if (e.srcElement)\n",
       "        targ = e.srcElement;\n",
       "    if (targ.nodeType == 3) // defeat Safari bug\n",
       "        targ = targ.parentNode;\n",
       "\n",
       "    // jQuery normalizes the pageX and pageY\n",
       "    // pageX,Y are the mouse positions relative to the document\n",
       "    // offset() returns the position of the element relative to the document\n",
       "    var x = e.pageX - $(targ).offset().left;\n",
       "    var y = e.pageY - $(targ).offset().top;\n",
       "\n",
       "    return {\"x\": x, \"y\": y};\n",
       "};\n",
       "\n",
       "/*\n",
       " * return a copy of an object with only non-object keys\n",
       " * we need this to avoid circular references\n",
       " * http://stackoverflow.com/a/24161582/3208463\n",
       " */\n",
       "function simpleKeys (original) {\n",
       "  return Object.keys(original).reduce(function (obj, key) {\n",
       "    if (typeof original[key] !== 'object')\n",
       "        obj[key] = original[key]\n",
       "    return obj;\n",
       "  }, {});\n",
       "}\n",
       "\n",
       "mpl.figure.prototype.mouse_event = function(event, name) {\n",
       "    var canvas_pos = mpl.findpos(event)\n",
       "\n",
       "    if (name === 'button_press')\n",
       "    {\n",
       "        this.canvas.focus();\n",
       "        this.canvas_div.focus();\n",
       "    }\n",
       "\n",
       "    var x = canvas_pos.x * mpl.ratio;\n",
       "    var y = canvas_pos.y * mpl.ratio;\n",
       "\n",
       "    this.send_message(name, {x: x, y: y, button: event.button,\n",
       "                             step: event.step,\n",
       "                             guiEvent: simpleKeys(event)});\n",
       "\n",
       "    /* This prevents the web browser from automatically changing to\n",
       "     * the text insertion cursor when the button is pressed.  We want\n",
       "     * to control all of the cursor setting manually through the\n",
       "     * 'cursor' event from matplotlib */\n",
       "    event.preventDefault();\n",
       "    return false;\n",
       "}\n",
       "\n",
       "mpl.figure.prototype._key_event_extra = function(event, name) {\n",
       "    // Handle any extra behaviour associated with a key event\n",
       "}\n",
       "\n",
       "mpl.figure.prototype.key_event = function(event, name) {\n",
       "\n",
       "    // Prevent repeat events\n",
       "    if (name == 'key_press')\n",
       "    {\n",
       "        if (event.which === this._key)\n",
       "            return;\n",
       "        else\n",
       "            this._key = event.which;\n",
       "    }\n",
       "    if (name == 'key_release')\n",
       "        this._key = null;\n",
       "\n",
       "    var value = '';\n",
       "    if (event.ctrlKey && event.which != 17)\n",
       "        value += \"ctrl+\";\n",
       "    if (event.altKey && event.which != 18)\n",
       "        value += \"alt+\";\n",
       "    if (event.shiftKey && event.which != 16)\n",
       "        value += \"shift+\";\n",
       "\n",
       "    value += 'k';\n",
       "    value += event.which.toString();\n",
       "\n",
       "    this._key_event_extra(event, name);\n",
       "\n",
       "    this.send_message(name, {key: value,\n",
       "                             guiEvent: simpleKeys(event)});\n",
       "    return false;\n",
       "}\n",
       "\n",
       "mpl.figure.prototype.toolbar_button_onclick = function(name) {\n",
       "    if (name == 'download') {\n",
       "        this.handle_save(this, null);\n",
       "    } else {\n",
       "        this.send_message(\"toolbar_button\", {name: name});\n",
       "    }\n",
       "};\n",
       "\n",
       "mpl.figure.prototype.toolbar_button_onmouseover = function(tooltip) {\n",
       "    this.message.textContent = tooltip;\n",
       "};\n",
       "mpl.toolbar_items = [[\"Home\", \"Reset original view\", \"fa fa-home icon-home\", \"home\"], [\"Back\", \"Back to previous view\", \"fa fa-arrow-left icon-arrow-left\", \"back\"], [\"Forward\", \"Forward to next view\", \"fa fa-arrow-right icon-arrow-right\", \"forward\"], [\"\", \"\", \"\", \"\"], [\"Pan\", \"Pan axes with left mouse, zoom with right\", \"fa fa-arrows icon-move\", \"pan\"], [\"Zoom\", \"Zoom to rectangle\", \"fa fa-square-o icon-check-empty\", \"zoom\"], [\"\", \"\", \"\", \"\"], [\"Download\", \"Download plot\", \"fa fa-floppy-o icon-save\", \"download\"]];\n",
       "\n",
       "mpl.extensions = [\"eps\", \"jpeg\", \"pdf\", \"png\", \"ps\", \"raw\", \"svg\", \"tif\"];\n",
       "\n",
       "mpl.default_extension = \"png\";var comm_websocket_adapter = function(comm) {\n",
       "    // Create a \"websocket\"-like object which calls the given IPython comm\n",
       "    // object with the appropriate methods. Currently this is a non binary\n",
       "    // socket, so there is still some room for performance tuning.\n",
       "    var ws = {};\n",
       "\n",
       "    ws.close = function() {\n",
       "        comm.close()\n",
       "    };\n",
       "    ws.send = function(m) {\n",
       "        //console.log('sending', m);\n",
       "        comm.send(m);\n",
       "    };\n",
       "    // Register the callback with on_msg.\n",
       "    comm.on_msg(function(msg) {\n",
       "        //console.log('receiving', msg['content']['data'], msg);\n",
       "        // Pass the mpl event to the overridden (by mpl) onmessage function.\n",
       "        ws.onmessage(msg['content']['data'])\n",
       "    });\n",
       "    return ws;\n",
       "}\n",
       "\n",
       "mpl.mpl_figure_comm = function(comm, msg) {\n",
       "    // This is the function which gets called when the mpl process\n",
       "    // starts-up an IPython Comm through the \"matplotlib\" channel.\n",
       "\n",
       "    var id = msg.content.data.id;\n",
       "    // Get hold of the div created by the display call when the Comm\n",
       "    // socket was opened in Python.\n",
       "    var element = $(\"#\" + id);\n",
       "    var ws_proxy = comm_websocket_adapter(comm)\n",
       "\n",
       "    function ondownload(figure, format) {\n",
       "        window.open(figure.imageObj.src);\n",
       "    }\n",
       "\n",
       "    var fig = new mpl.figure(id, ws_proxy,\n",
       "                           ondownload,\n",
       "                           element.get(0));\n",
       "\n",
       "    // Call onopen now - mpl needs it, as it is assuming we've passed it a real\n",
       "    // web socket which is closed, not our websocket->open comm proxy.\n",
       "    ws_proxy.onopen();\n",
       "\n",
       "    fig.parent_element = element.get(0);\n",
       "    fig.cell_info = mpl.find_output_cell(\"<div id='\" + id + \"'></div>\");\n",
       "    if (!fig.cell_info) {\n",
       "        console.error(\"Failed to find cell for figure\", id, fig);\n",
       "        return;\n",
       "    }\n",
       "\n",
       "    var output_index = fig.cell_info[2]\n",
       "    var cell = fig.cell_info[0];\n",
       "\n",
       "};\n",
       "\n",
       "mpl.figure.prototype.handle_close = function(fig, msg) {\n",
       "    var width = fig.canvas.width/mpl.ratio\n",
       "    fig.root.unbind('remove')\n",
       "\n",
       "    // Update the output cell to use the data from the current canvas.\n",
       "    fig.push_to_output();\n",
       "    var dataURL = fig.canvas.toDataURL();\n",
       "    // Re-enable the keyboard manager in IPython - without this line, in FF,\n",
       "    // the notebook keyboard shortcuts fail.\n",
       "    IPython.keyboard_manager.enable()\n",
       "    $(fig.parent_element).html('<img src=\"' + dataURL + '\" width=\"' + width + '\">');\n",
       "    fig.close_ws(fig, msg);\n",
       "}\n",
       "\n",
       "mpl.figure.prototype.close_ws = function(fig, msg){\n",
       "    fig.send_message('closing', msg);\n",
       "    // fig.ws.close()\n",
       "}\n",
       "\n",
       "mpl.figure.prototype.push_to_output = function(remove_interactive) {\n",
       "    // Turn the data on the canvas into data in the output cell.\n",
       "    var width = this.canvas.width/mpl.ratio\n",
       "    var dataURL = this.canvas.toDataURL();\n",
       "    this.cell_info[1]['text/html'] = '<img src=\"' + dataURL + '\" width=\"' + width + '\">';\n",
       "}\n",
       "\n",
       "mpl.figure.prototype.updated_canvas_event = function() {\n",
       "    // Tell IPython that the notebook contents must change.\n",
       "    IPython.notebook.set_dirty(true);\n",
       "    this.send_message(\"ack\", {});\n",
       "    var fig = this;\n",
       "    // Wait a second, then push the new image to the DOM so\n",
       "    // that it is saved nicely (might be nice to debounce this).\n",
       "    setTimeout(function () { fig.push_to_output() }, 1000);\n",
       "}\n",
       "\n",
       "mpl.figure.prototype._init_toolbar = function() {\n",
       "    var fig = this;\n",
       "\n",
       "    var nav_element = $('<div/>');\n",
       "    nav_element.attr('style', 'width: 100%');\n",
       "    this.root.append(nav_element);\n",
       "\n",
       "    // Define a callback function for later on.\n",
       "    function toolbar_event(event) {\n",
       "        return fig.toolbar_button_onclick(event['data']);\n",
       "    }\n",
       "    function toolbar_mouse_event(event) {\n",
       "        return fig.toolbar_button_onmouseover(event['data']);\n",
       "    }\n",
       "\n",
       "    for(var toolbar_ind in mpl.toolbar_items){\n",
       "        var name = mpl.toolbar_items[toolbar_ind][0];\n",
       "        var tooltip = mpl.toolbar_items[toolbar_ind][1];\n",
       "        var image = mpl.toolbar_items[toolbar_ind][2];\n",
       "        var method_name = mpl.toolbar_items[toolbar_ind][3];\n",
       "\n",
       "        if (!name) { continue; };\n",
       "\n",
       "        var button = $('<button class=\"btn btn-default\" href=\"#\" title=\"' + name + '\"><i class=\"fa ' + image + ' fa-lg\"></i></button>');\n",
       "        button.click(method_name, toolbar_event);\n",
       "        button.mouseover(tooltip, toolbar_mouse_event);\n",
       "        nav_element.append(button);\n",
       "    }\n",
       "\n",
       "    // Add the status bar.\n",
       "    var status_bar = $('<span class=\"mpl-message\" style=\"text-align:right; float: right;\"/>');\n",
       "    nav_element.append(status_bar);\n",
       "    this.message = status_bar[0];\n",
       "\n",
       "    // Add the close button to the window.\n",
       "    var buttongrp = $('<div class=\"btn-group inline pull-right\"></div>');\n",
       "    var button = $('<button class=\"btn btn-mini btn-primary\" href=\"#\" title=\"Stop Interaction\"><i class=\"fa fa-power-off icon-remove icon-large\"></i></button>');\n",
       "    button.click(function (evt) { fig.handle_close(fig, {}); } );\n",
       "    button.mouseover('Stop Interaction', toolbar_mouse_event);\n",
       "    buttongrp.append(button);\n",
       "    var titlebar = this.root.find($('.ui-dialog-titlebar'));\n",
       "    titlebar.prepend(buttongrp);\n",
       "}\n",
       "\n",
       "mpl.figure.prototype._root_extra_style = function(el){\n",
       "    var fig = this\n",
       "    el.on(\"remove\", function(){\n",
       "\tfig.close_ws(fig, {});\n",
       "    });\n",
       "}\n",
       "\n",
       "mpl.figure.prototype._canvas_extra_style = function(el){\n",
       "    // this is important to make the div 'focusable\n",
       "    el.attr('tabindex', 0)\n",
       "    // reach out to IPython and tell the keyboard manager to turn it's self\n",
       "    // off when our div gets focus\n",
       "\n",
       "    // location in version 3\n",
       "    if (IPython.notebook.keyboard_manager) {\n",
       "        IPython.notebook.keyboard_manager.register_events(el);\n",
       "    }\n",
       "    else {\n",
       "        // location in version 2\n",
       "        IPython.keyboard_manager.register_events(el);\n",
       "    }\n",
       "\n",
       "}\n",
       "\n",
       "mpl.figure.prototype._key_event_extra = function(event, name) {\n",
       "    var manager = IPython.notebook.keyboard_manager;\n",
       "    if (!manager)\n",
       "        manager = IPython.keyboard_manager;\n",
       "\n",
       "    // Check for shift+enter\n",
       "    if (event.shiftKey && event.which == 13) {\n",
       "        this.canvas_div.blur();\n",
       "        // select the cell after this one\n",
       "        var index = IPython.notebook.find_cell_index(this.cell_info[0]);\n",
       "        IPython.notebook.select(index + 1);\n",
       "    }\n",
       "}\n",
       "\n",
       "mpl.figure.prototype.handle_save = function(fig, msg) {\n",
       "    fig.ondownload(fig, null);\n",
       "}\n",
       "\n",
       "\n",
       "mpl.find_output_cell = function(html_output) {\n",
       "    // Return the cell and output element which can be found *uniquely* in the notebook.\n",
       "    // Note - this is a bit hacky, but it is done because the \"notebook_saving.Notebook\"\n",
       "    // IPython event is triggered only after the cells have been serialised, which for\n",
       "    // our purposes (turning an active figure into a static one), is too late.\n",
       "    var cells = IPython.notebook.get_cells();\n",
       "    var ncells = cells.length;\n",
       "    for (var i=0; i<ncells; i++) {\n",
       "        var cell = cells[i];\n",
       "        if (cell.cell_type === 'code'){\n",
       "            for (var j=0; j<cell.output_area.outputs.length; j++) {\n",
       "                var data = cell.output_area.outputs[j];\n",
       "                if (data.data) {\n",
       "                    // IPython >= 3 moved mimebundle to data attribute of output\n",
       "                    data = data.data;\n",
       "                }\n",
       "                if (data['text/html'] == html_output) {\n",
       "                    return [cell, data, j];\n",
       "                }\n",
       "            }\n",
       "        }\n",
       "    }\n",
       "}\n",
       "\n",
       "// Register the function which deals with the matplotlib target/channel.\n",
       "// The kernel may be null if the page has been refreshed.\n",
       "if (IPython.notebook.kernel != null) {\n",
       "    IPython.notebook.kernel.comm_manager.register_target('matplotlib', mpl.mpl_figure_comm);\n",
       "}\n"
      ],
      "text/plain": [
       "<IPython.core.display.Javascript object>"
      ]
     },
     "metadata": {},
     "output_type": "display_data"
    },
    {
     "data": {
      "text/html": [
       "<img src=\"data:image/png;base64,iVBORw0KGgoAAAANSUhEUgAAA8AAAALQCAYAAABfdxm0AAAgAElEQVR4XuzdB3gVxdrA8TeB0LtIEUIRpEknEAggLRTFK1WwISh4BRG7+CkgvYhX7IgIggUUsGIB6U0goRPp0nvvIaTxPTMhoYeTnDNn95z97/Pw3AvZnXnn9+7IvOw5OwGXLl26JBwIIIAAAggggAACCCCAAAII+LlAAAWwn2eY4SGAAAIIIIAAAggggAACCGgBCmBuBAQQQAABBBBAAAEEEEAAAUcIUAA7Is0MEgEEEEAAAQQQQAABBBBAgAKYewABBBBAAAEEEEAAAQQQQMARAhTAjkgzg0QAAQQQQAABBBBAAAEEEKAA5h5AAAEEEEAAAQQQQAABBBBwhAAFsCPSzCARQAABBBBAAAEEEEAAAQQogLkHEEAAAQQQQAABBBBAAAEEHCFAAeyINDNIBBBAAAEEEEAAAQQQQAABCmDuAQQQQAABBBBAAAEEEEAAAUcIUAA7Is0MEgEEEEAAAQQQQAABBBBAgAKYewABBBBAAAEEEEAAAQQQQMARAhTAjkgzg0QAAQQQQAABBBBAAAEEEKAA5h5AAAEEEEAAAQQQQAABBBBwhAAFsCPSzCARQAABBBBAAAEEEEAAAQQogLkHEEAAAQQQQAABBBBAAAEEHCFAAeyINDNIBBBAAAEEEEAAAQQQQAABCmDuAQQQQAABBBBAAAEEEEAAAUcIUAA7Is0MEgEEEEAAAQQQQAABBBBAgAKYewABBBBAAAEEEEAAAQQQQMARAhTAjkgzg0QAAQQQQAABBBBAAAEEEKAA5h5AAAEEEEAAAQQQQAABBBBwhAAFsCPSzCARQAABBBBAAAEEEEAAAQQogLkHEEAAAQQQQAABBBBAAAEEHCFAAeyINDNIBBBAAAEEEEAAAQQQQAABCmDuAQQQQAABBBBAAAEEEEAAAUcIUAA7Is0MEgEEEEAAAQQQQAABBBBAgAKYewABBBBAAAEEEEAAAQQQQMARAhTAjkgzg0QAAQQQQAABBBBAAAEEEKAA5h5AAAEEEEAAAQQQQAABBBBwhAAFsCPSzCARQAABBBBAAAEEEEAAAQQogLkHEEAAAQQQQAABBBBAAAEEHCFAAeyINDNIBBBAAAEEEEAAAQQQQAABCmDuAQQQQAABBBBAAAEEEEAAAUcIUAA7Is0MEgEEEEAAAQQQQAABBBBAgAKYewABBBBAAAEEEEAAAQQQQMARAhTAjkgzg0QAAQQQQAABBBBAAAEEEKAA5h5AAAEEEEAAAQQQQAABBBBwhAAFsCPSzCARQAABBBBAAAEEEEAAAQQogLkHEEAAAQQQQAABBBBAAAEEHCFAAeyINDNIBBBAAAEEEEAAAQQQQAABCmDuAQQQQAABBBBAAAEEEEAAAUcIUAA7Is0MEgEEEEAAAQQQQAABBBBAgAKYewABBBBAAAEEEEAAAQQQQMARAhTAjkgzg0QAAQQQQAABBBBAAAEEEKAA5h5AAAEEEEAAAQQQQAABBBBwhAAFsCPSzCARQAABBBBAAAEEEEAAAQQogLkHEEAAAQQQQAABBBBAAAEEHCFAAeyINDNIBBBAAAEEEEAAAQQQQAABCmDuAQQQQAABBBBAAAEEEEAAAUcIUAA7Is0MEgEEEEAAAQQQQAABBBBAgAKYewABBBBAAAEEEEAAAQQQQMARAhTAjkgzg0QAAQQQQAABBBBAAAEEEKAA5h5AAAEEEEAAAQQQQAABBBBwhAAFsCPSzCARQAABBBBAAAEEEEAAAQQogLkHEEAAAQQQQAABBBBAAAEEHCFAAeyINDNIBBBAAAEEEEAAAQQQQAABCmDuAQQQQAABBBBAAAEEEEAAAUcIUAA7Is0MEgEEEEAAAQQQQAABBBBAgAKYewABBBBAAAEEEEAAAQQQQMARAhTAjkgzg0QAAQQQQAABBBBAAAEEEKAA5h5AAAEEEEAAAQQQQAABBBBwhAAFsCPSzCARQAABBBBAAAEEEEAAAQQogLkHEEAAAQQQQAABBBBAAAEEHCFAAeyINDNIBBBAAAEEEEAAAQQQQAABCmDuAQQQQAABBBBAAAEEEEAAAUcIUAA7Is0MEgEEEEAAAQQQQAABBBBAgAKYewABBBBAAAEEEEAAAQQQQMARAhTAjkgzg0QAAQQQQAABBBBAAAEEEKAA5h5AAAEEEEAAAQQQQAABBBBwhAAFsCPSzCARQAABBBBAAAEEEEAAAQQogLkHEEAAAQQQQAABBBBAAAEEHCFAAeyINDNIBBBAAAEEEEAAAQQQQAABCmDuAQQQQAABBBBAAAEEEEAAAUcIUAA7Is0MEgEEEEAAAQQQQAABBBBAgAKYewABBBBAAAEEEEAAAQQQQMARAhTAjkgzg0QAAQQQQAABBBBAAAEEEKAA5h5AAAEEEEAAAQQQQAABBBBwhAAFsCPSzCARQAABBBBAAAEEEEAAAQQogLkHEEAAAQQQQAABBBBAAAEEHCFAAeyINDNIBBBAAAEEEEAAAQQQQAABCmDuAQQQQAABBBBAAAEEEEAAAUcIUAA7Is0MEgEEEEAAAQQQQAABBBBAgAKYewABBBBAAAEEEEAAAQQQQMARAhTAfpzmQoUKyfnz56VYsWJ+PEqGhgACCCCAAAIIIICAbwjs2bNHsmfPLocOHfKNgP0wSgpgP0xq8pBy5swpcXFxUqpUKT8eJUNDAAEEEEAAAQQQ8JbA+YvxcuhMjCQmXukxR5YMUjBXVgkM8FYUvtvP9u3bJSgoSM6ePeu7g/DxyCmAfTyBqYV/77336h9v2LDBj0fJ0BBAAAEEEEAAAQS8ITApYrf0/eUfuXTpSm8vh5eRXo1LSyDVr0spYH3uEpPRkyiAjfJa2zgTzFp/ekcAAQQQQAABBPxFYOex89L8g0USG5/06Dd7pgwyqmNVaX5vIX8ZolfGwfrcK8ypdkIBbH0OjEXABDNGS8MIIIAAAggggIBjBC5duiRPjI+Qv/89rsd8Z87MMqlbqJQpmNMxBp4aKOtzT0mmvx0K4PTb2f5KJpjtU0SACCCAAAIIIICA7QV+WbNfXpqyNiXO0Y9XlwcqFbZ93HYMkPW59VmhALY+B8YiYIIZo6VhBBBAAAEEEEDAEQKno+OkyagFcuxcrB5vo7J3ypddakpAAG+8Ss8NwPo8PWqevYYC2LOetmqNCWardBAMAggggAACCCDgcwJv/hQl30Xu0XFnCQqU2S83kOB82XxuHHYJmPW59ZmgALY+B8YiYIIZo6VhBBBAAAEEEEDA7wVW7T4h7T5bljLON1qUkx4N2V7TncSzPndHzzPXUgB7xtGWrTDBbJkWgkIAAQQQQAABBGwvEJeQKA9+tES2HE7ar7ZswZzy+wv1JChDoO1jt3OArM+tzw4FsPU5MBYBE8wYLQ0jgAACCCCAAAJ+LTBm4XYZMWNzyhh/7FFHahTP59dj9sbgWJ97Qzn1PiiArc+BsQiYYMZoaRgBBBBAAAEEEPBbgb0noqXp+wslJi5pz99HawXL8LaV/Xa83hwY63Nvat+8Lwpg63NgLAImmDFaGkYAAQQQQAABBPxSQO352/WrlTJv8xE9vjuyZ5K5rzaQPNky+eV4vT0o1ufeFr+xPwpg63NgLAImmDFaGkYAAQQQQAABBPxSYEbUQekxaXXK2N7vWEXaVCvql2O1YlCsz61Qv7ZPCmDrc2AsAiaYMVoa9qJAQuIl+W3dAVHbDf6n8l0SGMi+g17kpysEEEAAAQcJnI2Jk/BRC+XwmYt61HVL3yHfdg1lz18P3gOszz2Imc6mKIDTCecLlzHBfCFLxJiagPoYltp/8PsVe/Vp7WsUlZHtKlMEc9sggAACCCBgQGDA9A0yceku3XKmDIEy86X6cvedOQz05NwmWZ9bn3sKYOtzYCwCJpgxWhr2ksCn8/+Vd//ack1vT9QuJoNbVeRfo72UA7pBAAEEEHCGQNS+09Lq0yWSeClpvC+F3yMvhZdxxuC9OErW517EvkVXFMDW58BYBEwwY7Q07AWBX9fulxe/X3vTnrrVKyl9WpanCPZCHugCAQQQQMD/BdTXjVp/+rdE7T+tB3t3/uwy46X6kjljBv8fvJdHyPrcy+A36Y4C2PocGIuACWaMloYNC6zYdUIe/yJCYhOStl8ocUc2/fbJtXtPpfTcq3FpebVZWcOR0DwCCCCAAAL+LzDh750y8LeNKQOd/EyohJXK7/8Dt2CErM8tQL+uSwpg63NgLAImmDFaGjYosOPoOWn72VI5FR2ne8mbLUh+eq6u5MueSR77YrlsOHAmpffXm5eVno1KG4yGphFAAAEEEPBvgUOnY/SLr85djNcDbVutiIzqWNW/B23h6FifW4h/uWsKYOtzYCwCJpgxWho2JHD83EVd/O4+Hq17yJQxUCZ3C5WQEvn070+cj5VHxy6XLYfPpkTQt2V56Vb/bkMR0SwCCCCAAAL+LdDj21Uy459DepC5swbpPX/z58js34O2cHSszy3EpwC2Ht90BEww08K070mBmLgE/YR39Z4rH3P++NFq8p8qd13TzZGzMfLI58tlx7HzKX8+pHVFeaJ2cU+GQ1sIIIAAAgj4vcDcTYel61crU8Y5om0leaRWMb8ft5UDZH1upX5S3zwBtj4HxiJgghmjpWEPCyQmXpJe362RP6IOprT8Roty0qNhqZv2dPD0Benw+TLZe+JCys//93AVvU0SBwIIIIAAAgjcXiA6Nl6ajlok+08l/V0aUjyvTH22DlsN3p7OrTNYn7vF55GLKYA9wmjPRphg9swLUd0oMHzGJvl84Y6UHzxaq5gMa5P6Vkd7T0TrIvjg6Rh9XWCAyIeP3PjEGG8EEEAAAQQQuMnfvX9uks8XJf3dmzEwQP58sb6UKZgTKsMCrM8NA7vQPAWwC0i+egoTzFcz56y4J0Xslj4//5My6PvK3Clfdg6RjBkCbwuhXpjVcexyOXr2oj43Q2CAfPZ4dWl2b6HbXssJCCCAAAIIOFVg08Ez8uDHS0Rtf6SO5xqWkt4tyjmVw6vjZn3uVe6bdkYBbH0OjEXABDNGS8MeEpi/5Yh0+2plyl/A5QrllGnd60jOLEEu97D18Fnp+PkyOXn5rdGZMgTK2CdrSMOyBVxugxMRQAABBBBwioD62lG7MUtlzeV3bgTnyyqzXmogWTOx56837gHW595QTr0PCmDrc2AsAiaYMVoa9oDAxgNn5OExS+V8bIJurWCuzPJLz7pSOHfWNLf+z/7T+gVaZ2KStnDInDFQJjxV06U9DGPjE2XPifOy4+h5/WKtfSejpXzhXPJYrWISEBCQ5li4AAEEEEAAATsLXP/Jq4lP1eQfjb2YMNbnXsS+RVcUwNbnwFgETDBjtDTspoB6iVWbT5fKoTNJ39/NnimDTO1eR+69K3e6W16z56Q8MS4ipaDOlimDfNO1ltQonk8uXbqk+9p59LxsP3Ze/+/OY+d0wau+S3z5E2DX9P15pxrSnI9SpzsfXIgAAgggYD8B9ZWhJu8tSPkH45aVC8unj1W3X6B+HBHrc+uTSwFsfQ6MRcAEM0ZLw24InI2Jk4fHLJPNh5L28lXf2x3XOUQaeeAjyxE7jkvnCZESE5eo286ROaMUy5dNdh0/L9GXnzS7GnrHkGB5p31lV0/nPAQQQAABBGwv8OL3a+TXtQd0nDkzZ9R7/hbIlcX2cftTgKzPrc8mBbD1OTAWARPMGC0Np1MgPiFR7ze4cOvRlBaGtqkoj4d6bg/fJduOydNfrRD10WZXD1WEB+fNKtkyZZSNB8/oy0rdmV3mvtrQ1SY4DwEEEEAAAVsLLN52VDqNj0yJcVCre+XJOiVsHbM/Bsf63PqsUgBbnwNjETDBjNHScDoFRs3eKh/N3ZZy9bMN7pY37y+fztZufdncTYfl2W9WSfx1n22+M2dmKZk/uy5u1f+WzJ9D7r4zuwTnzSaZMgbKrmPnpeH/FqQ0vKZfU8mbPZPH46NBBBBAAAEEvCkQE5cgLT5YJLuOR+tuqxTNLT89V1d/CovDuwKsz73rfbPeKICtz4GxCJhgxmhpOJ0C9UfOk70nLuirW1YqLB8/Wk0CDf3lu37fKVm6/bgUzp3lcrGb/bZvl1bfFa45dI4cOxerYxzfOUSalC+YztFyGQIIIIAAAvYQGDVri3w0718djPprd/rz9aRikfS/d8Meo/LNKFifW583CmDrc2AsAiaYMVoaTofA+Yvxcm//v1KuXPR6Iyl2R7Z0tGT2kv9+vVJmbTysO2FfRLPWtI4AAgggYF5gz/FoCR+1UGITkr4a1LVeSen3YAXzHdPDTQVYn1t/Y1AAW58DYxEwwYzR0nA6BNbuPSWtP/1bX6ne0PzPgObGnv6mI7yUS8Yu2i7D/tysf1+rZD6Z+mwdd5rjWgQQQAABBCwVePablfLXhqR/2C2UK4vMebWBfkkkhzUCrM+tcb+6Vwpg63NgLAImmDFaGk6HwNQVe6X3j+v1lVWC88ivPeumoxXzl6zafULafbZMd6T2E/5nYHMJyhBovmN6QAABBBBAwMMCf/97TB4fF5HS6oePVJVWVYt4uBeaS4sA6/O0aJk5lwLYjKstWmWC2SINBHFZYPDvG2X8kp36dx1CisrI9lVsaXMxPkEq9Z+V8lGxX3rWlarBeWwZK0EhgAACCCBwKwG180LLj5bIlsNJ2w7WKJ5XfuheRwICePGVlXcN63Mr9ZP6pgC2PgfGImCCGaOl4XQIdBofIYu3HdNX9m1ZXrrVvzsdrXjnknafLZVVu0/qztT3pNT3pTgQQAABBBDwJYFvlu2Sfr9uSAl5+vN1pXJR/kHX6hyyPrc6AxTA1mfAYARMMIO4NJ1mgVpD58iRsxf1dd90rSX177kzzW1464Lhf26Szxft0N09UKmQjH68hre6ph8EEEAAAQTcFjgVHau39TsVHafberhGUXn3YXt+8srtwfpYA6zPrU8YT4Ctz4GxCJhgxmhpOI0CJ8/HSrXBs1OuinyriRTIlSWNrXjv9L82HNL7CKujYK7MsvzNJnxkzHv89IQAAggg4KbAgOkbZOLSXbqV7JkyyPzXG0qBnPb9e9fN4frU5azPrU8XBbD1OTAWARPMGC0Np1EgYsdx6Th2ub4qT7YgWdOvqa0LymPnLkrIkDkpo1zcu5EE57Pflk1pTAOnI4AAAgg4QGDr4bNy/4eLJSHxkh7t/91fTro3KOWAkfvGEFmfW58nCmDrc2AsAiaYMVoaTqPA1d9D8pWthRq+O192HY/WI+WtmWlMOKcjgAACCFgicOnSJXnyy8iUd24UvyObzHr5PsmcMYMl8dDpjQKsz62/KyiArc+BsQiYYMZoaTiNAn1/iZJvl+/RV3WqXVwGt66Yxha8f/qrU9fJj6v3+VTM3leiRwQQQAABOwnM3nhYnvl6ZUpIXzwZIk0rFLRTiI6PhfW59bcABbD1OTAWARPMGC0Np1Ggw5hlErnrhL5KFb+qCLb7MTlij7z1c5QOs0LhXPLni/XtHjLxIYAAAgg4WEBt49fs/UWy+/Knl+rfk1++frqWrb9y5MR0sT63PusUwNbnwFgETDBjtDScBgH1cawqA2fJmZh4fdXUZ+uI+hi03Q/1HSq1kFBHYIDI+gHNJUfmjHYPm/gQQAABBBwqMGbhdhkxY7MefYbAAJnxYn0pUzCnQzXsO2zW59bnhgLY+hwYi4AJZoyWhtMgcOh0jNQePjflirVvN5U82TKloQVrTk1MvCRVB10p3L/tGir17slvTTD0igACCCCAQCoCR87GSKN3F8j52AR9VpewEjLgoXsxs6EA63Prk0IBbH0OjEXABDNGS8NpEFi49ah0/jJSX6G2FIp4KzwNV1t7apcJkbJgy1EdxEvh98hL4WWsDYjeEUAAAQQQuInA69PWybRVSe+tULstLHitoU/8Y7MTk8n63PqsUwBbnwNjETDBjNHScBoEvli0Q4b+uUlfob6P9E3X0DRcbe2pH8/dJu/N3uqTsVsrR+8IIIAAAt4SWLf3lLT69O+U7ga3ulc61Snhre7pJ40CrM/TCGbgdApgA6h2aZIJZpdMODuO16atkx8u/6t0t3olpe+DFXwGZOn2Y/LYFxE6XvX933X9m+nvVXEggAACCCBgBwH1no12ny2V1XtO6XDKFswpf7xQTzJmCLRDeMRwEwHW59bfFhTA1ufAWARMMGO0NJwGgYc+WSLr953WV4xsX1k6hASn4WprT42OjZdKA2ZJQuIlHYh6oUj5wrmsDYreEUAAAQQQuCzw69r98uL3a1M8JnULlbqleV+FnW8Q1ufWZ4cC2PocGIuACWaMloZdFFAvkqrQf6bExCXqK37tWVeqBOdx8Wp7nPafj5dI1P6kAt5XtnCyhxxRIIAAAgiYFFD/SNv4fwvl0JkY3U3zewvK551CTHZJ2x4QYH3uAUQ3m7BVAbxq1SqZPXu2REZG6l/79+/Xw1Mf70jLER8fL0OGDJEVK1bIpk2b5OjRoxIXFyfBwcHStGlTeeONN6R48Rv3IZ04caLMnDlT1q1bJ4cPH5Zz585J/vz5JSwsTF5++WWpW7fuDWGoa5566qlbhtexY0f5/vvvb/rzDRs2yIABA2TBggW6r9KlS0vXrl3lhRdekMBA9z+6wgRLy13DuSYEdh8/Lw3eXZDS9MZBzSVbJt/aSmjA9A0ycekuPYY21YrI+x2rmqCiTQQQQAABBNIkMGrWFvlo3r/6mkwZAmXOKw2k2B3Z0tQGJ3tfgPW5982v79FWBXDr1q3l119/vUElrQWwKiZz5swpOXLkkMqVK8tdd90lsbGxsnbtWtmzZ4/kypVL5s6dKyEh1/4rmfq9Kn4rVaokRYsWlSxZssiWLVtk/fr1ehPx0aNHS/fu3a+JL7kArlKlilSteuPCODQ0VHr06HHDmJYtWyZNmjSRCxcuSK1ataREiRKyaNEiOXTokDz88MMyZcoUtzcuZ4JZP8GcHsGsDYfkv9+s0gzF8mWTRb0b+RzJb+sOSK/v1ui4g/NllcW9G/vcGAgYAQQQQMC/BPaeiJbwUQvlYnzSJ6yea1hKerco51+D9NPRsD63PrG2KoDfeecdOX/+vNSsWVP/UkXhxYsX0/UEOCIiQlTxmTHjladNCQkJ0rdvXxkxYoTUqFFDVq5ceU0G1DUVKlTQxfPVx/Tp06Vt27YSFBQke/fu1U+Fk4/kArh///76aa4rh3oaXbZsWdm5c6eMGjVKP11WhyrcmzVrJqo4njBhgnTp0sWV5m55DhPMLT4u9oDAJ/O2yf9mJb1FObx8QRnX2fc+mnXg1AUJGzEvRSPyrSZSIFcWD+jQBAIIIIAAAukT6DlptfwRdVBfXCBnZpn3WkP9skYO+wuwPrc+R7YqgK/nUE9g01MAp8aqPh6tCtyYmBg5deqU5M6d26UshIeH66fG6gn1Qw895FYBPHXqVFEfjVZPjdVT6auP1atX6+K8YsWKEhUV5VJstzqJCeYWHxd7QEA9OVVPUNXRs1Epeb25b/7rdNjwuXLgdNJ3rD57vLrcX6mwB3RoAgEEEEAAgbQLLN9xXB4ZuzzlwvceriLtahRNe0NcYYkA63NL2K/p1HEFsHoKrIre6Oho/bQ5a9asLmXh/vvv198PnjFjhrRo0cKtArhz587y9ddfy+DBg/UT6euPUqVKyY4dO/QTYvUUPL0HEyy9clznKYHm7y+SLYfP6uY+fKSqtKpaxFNNe7Wd5yevlt/XJ/1Lu69t5eRVKDpDAAEEEDAqoHYlePDjJbLp4BndT9XgPPJTjzAJZIs+o+6ebJz1uSc109eWowpg9V3i4cOHS58+faRx48b6ia4rhzrvgQcekOzZs+vCNE+eK2+xTf4I9IMPPijlypWTM2fOSKFChXT7DRo0uGnz6rvC6rvGf/zxh273+kN9B/iHH3644WmzK7FefQ4TLK1inO9Jgdj4RKnw9kyJv7yF0MyX6ku5Qr65hdDEv3fKgN82piw2ful54wvxPGlHWwgggAACCNxMYHLEHnnr5yufEPz5uTCpViwvWD4kwPrc+mT5fQGs3vis3uisClP1Mqvt27dL+fLldfFZsmTJm2ZAff924cKF+mPS6nz1XWH11Fi9mKp58+bXXJPaW6BVAayuKViw4DXX5MuXT06ePKmLYPWSrusP9Z3gDz74QD766CPp1atXuu8SJli66bjQAwJbD5+VZu8v0i1lDAyQjYNaSKaM7r/d3AOhpbmJqH2n5T+fLNHXBWUIkKgBzSVLUIY0t8MFCCCAAAIIpFfg9IU4afS/BXLifKxuom31IjKqAzsTpNfTqutYn1slf6Vfvy+A1dZCqohNPlTB+e233+o3Pd/q6Natm4wfPz7lx6pg/eKLL/SLsK4//vrrL1m+fLm0atVK7r77bv1WZ7WFU+/evWXz5s36TdPq5xkyXFksZ8qUSW/LtG3bNr310fWH+lj00KFD9a+33nrrtndJ8kS6/kQ1bvVxarXdEgcC3ha4+u3J9xTIIbNfufknIrwdV3r6i09IlEoDZsmFuAR9+dRn60itkvnS0xTXIIAAAgggkC6Bwb9vlPFLduprs2XKIPNfaygFeSljuiytvIgC2Er9pL79vgBOJj527JiofYbVx5/Vk2BV0Krv4qZ2qLcyq22QRo4cKerFVc8884yMHTvWpaypa9XLrLZu3SqTJ0+WRx99NOU6CmCXCDnJxwXem7VFPr68P2HLyoXl08eq+/SIHh27XJbtOK7H8EaLctKjYSmfHg/BI4AAAgj4jsC/R85Jiw8WpXyt6PXmZaVnoxsfovjOiJwbKQWw9bl3TAGcTH369Gn99FcVxKq4DQ4OdikL6gmv2g5JfTe3Xbt2Ll3z6aefyvPPP68LbfVR6eSDj0C7xMdJPi7w369XyqyNh/UoXmlaRl5oco9Pj+jqgj68fAEZ17mmT4+H4BFAAAEEfEegy4RIWbDlqA5Y7Uk/++UGfBXHd9J3TaQUwNYnzuvn+sAAACAASURBVHEFsCLv2bOnjB49Wn/M+emnn3YpC9OmTZMOHTpIp06d9BucXTlmzZqlvzOs9vZVH5VOPngJlit6nOPrAg3fnS+7jkfrYYx5ooa0qFjIp4c0f8sReWrCCj2GvNmCZHW/phIQEODTYyJ4BBBAAAH7C8zffESempj094+//J1qf3VzEVIAm7N1tWVHFsD9+/eXQYMGyYgRI0S9JMuVY/78+frNzmoLJLUVkiuHegHWI488Im3atJGffvop5RK2QXJFj3N8WeBCbIJU6D9TLl1KGoX6nlLJ/Nl9eUiiXj5SZeCslDHMfbWBlLozh0+PieARQAABBOwtoHZUUB993nHsvA40rNQdMqlbKP8Aa++0pRodBbD1yXNkAdywYUP9lmf1VLd9+/YuZWHAgAEycOBA/fT4k08+ceka9cRY9XH9fr/q+8QdO3aUKlWqyNq1a69pa82aNVK9enWpWLGiREVdec29Sx1edxITLD1qXOMJgavfmpw5Y6B+A3QGP9ijsNn7C2Xr4XOaaGT7ytIhxLWvUHjClDYQQAABBJwnMG7xDhnyxyY9cPXX6J8v+u6Wgs7L3s1HzPrc+jvBpwtgVYiqX+oJq9rfN/lQWxzlzZtXwsLCrhGOjo7Wb1YeNmyY3qtXvYU5R46kJzibNm3SBWfr1q1FvaQq+VB7B6snueqj0mpbpIiICKlZ88p3/1S/6uVY+fPnT7lGveFZ9aGK5qxZs+p+ihQpcs3Py5YtKzt37pRRo0aJ2vZIHefPn5emTZvKsmXLRG3F1KVLF7fuECaYW3xc7IbAD6v2yWvT1ukWKhbJJb/3qu9Ga/a59M2fouS7yD06oI4hwfJO+xu3MbNPtESCAAIIIODLAhfjE6T2sLlyMjpOD6NT7eIyuHVFXx4SsYsI63PrbwNbFcCqcFVPS5MPtZ2QKkBDQ0NT/qxfv37SsmVL/fvkp7LXv2Qq+c9V0am+b6v28D106JB+2nrixAn9+99++03q17+yKF+wYIE0atRI/0y9vVkVyKdOnZKNGzfKrl27JDAwUN577z156aWXrsma+g5g5syZ9XZH6oVaar9h1c+BAwckS5YsMmnSpJtun7R06VIJDw/X2yap8RUvXlwWL14sBw8e1E+l1VNid79fyASzfoI5NYJhf26SsYt26OH70z6FVxf2pQvkkDk+vLWTU+9Nxo0AAgj4isCfUQfluUmrdbhZggJl6f81kXzZrzyk8ZVxEOe1AqzPrb8jbFUAqzclP/XUU6mqXP1k9FYFsNrm6KuvvtIF5e7du3XRq57Eqj131Xd4e/XqJYULF76mn6NHj8qYMWNEFcJq6yL1e1X0Fi1aVBfK6qPP6qPJ1x/q+8Tqia16o7S6RhXs6pomTZroJ7vqSe+tDrU/r7pe9ame/qo9e7t27Sovvvii7tvdgwnmriDXp1eg85eRsnBr0tsq37y/nDzbwD+2DNp17Lw0/N+CFJa1bzeVPNlYjKT3PuE6BBBAAIFbCzw9cYXM23xEn9CmWhF5v2NVuPxAgPW59Um0VQFsPYd/RcAE8698+tJo6gyfKwdPx+iQJzxVUxqVLeBL4d8yVvUPXCFD5sjx87H6nC+7hEjjcgX9YmwMAgEEEEDAPgJHzsRInRHzJCEx6W2S6sVXdUtf+bqdfSIlkrQKsD5Pq5jnz6cA9rypbVpkgtkmFY4K5Pq3JS/9v8ZyV56sfmNw9f7GzzUsJb1blPObsTEQBBBAAAF7CIxdtF2G/blZB3NX7iyy5I3GEugHL5O0h661UbA+t9Zf9U4BbH0OjEXABDNGS8OpCKzcdULaj1mmz8iZOaOsH9DM7e+z2wn884XbZfiMpEVJaMl8MuXZOnYKj1gQQAABBHxcQH3aqPkHi1J2HejVuLS82uzWX6nz8eE6LnzW59annALY+hwYi4AJZoyWhlMRmBSxW/r8/I8+o0bxvPJjj2vfxu7reKt2n5B2nyUV+OqlJFEDmktQBve/s+/rLsSPAAIIIOAZgfX7TslDn/yd0tiC1xpKifzZPdM4rVguwPrc8hTwBNj6FJiLgAlmzpaWby3Q/9d/5Ktlu/UJj9YqJsPbVvIrrpi4BKk8YJbEJiTqcf3as65UCc7jV2NkMAgggAAC1gm8/es/8vXlv0drlsgr07r71z8kWydrj55Zn1ufB54AW58DYxEwwYzR0nAqAo+MXSbLd5zQZwz4TwXpUrek33m1+2yprNp9Uo+r34MVpGs9/xuj3yWNASGAAAI+IKD2/q01dK6o92mo4512laRjzWI+EDkhuirA+txVKXPnUQCbs7W8ZSaY5SlwXADqe0vVB8+Wk9FJf3FPfiZUwkr531srr97nuGWlwvLp4zdukea45DNgBBBAAAG3Ba7f+3dFn3DJmSXI7XZpwD4CrM+tzwUFsPU5MBYBE8wYLQ3fQuDo2YtSc+iclJ+u6hsud+TI7Hdef204JM9+s0qPq2CuzLL8zSZ+9aIvv0sYA0IAAQR8RIC9f30kUW6EyfrcDTwPXUoB7CFIOzbDBLNjVvw7pr//PSaPj4vQg8yfI5Os7NvULwd8faG/5I1GUjRvNr8cK4NCAAEEEPCOAHv/esfZ6l5Yn1udAbZBsj4DBiNgghnEpembCny5ZKcM+n2j/llYqTtk8jO1/Vaq4bvzZdfxaD2+Dx+pKq2qFvHbsTIwBBBAAAHzAuz9a97YDj2wPrc+CzwBtj4HxiJgghmjpeFbCPzfj+vl+xV79U+7hJWQAQ/d67dWr0xdKz+t3q/H92Sd4jKoVUW/HSsDQwABBBAwK8Dev2Z97dQ663Prs0EBbH0OjEXABDNGS8O3EGgz+m9Zs+eU/qna/khtg+Svx+SIPfLWz1F6eBUK55I/X6zvr0NlXAgggAAChgXY+9cwsI2aZ31ufTIogK3PgbEImGDGaGn4JgLqX68r9v9Lzscm6J/+2CNMahTP67dWWw6dleYfLNLjCwwQWT+gueTInNFvx8vAEEAAAQTMCbD3rzlbu7XM+tz6jFAAW58DYxEwwYzR0vBNBPadjJZ678xP+UnUgGZ+vXVDYuIlqTJolpyNiddj/rZrqNS7x/+2fOJmRwABBBAwK8Dev2Z97dY663PrM0IBbH0OjEXABDNGS8M3EZi3+bA8PXGl/kmRPFnl7/9r7PdOnb+MlIVbj+pxvhxeRl4Mv8fvx8wAEUAAAQQ8K8Dev571tHtrrM+tzxAFsPU5MBYBE8wYLQ3fROCzBdvlnZmb9U8alb1TJjxVy++dPp67Td6bvVWPs/49+eWbrqF+P2YGiAACCCDgWQH2/vWsp91bY31ufYYogK3PgbEImGDGaGn4JgIvT1krP69Jeivysw3uljfvL+/3Tkv/PSaPXd73OGfmjLK2fzPJoL4QzIEAAggggIALAtfv/Tu5W6iElebrNC7Q+ewprM+tTx0FsPU5MBYBE8wYLQ3fROCBDxfLxoNn9E9GdagibasX9Xun8xfjpfLAWZKQeEmPdcaL9aV84Vx+P24GiAACCCDgGYGr9/5VXx9a3LuRBPIPqZ7BtWkrrM+tTwwFsPU5MBYBE8wYLQ1fJxCfkCgV+v8lsfGJ+ie/96onFYvkdoTTgx8vln/2JxX+Q1pXlCdqF3fEuBkkAggggIB7Atfv/ftC49LySrOy7jXK1bYXYH1ufYoogK3PgbEImGDGaGn4OoHtR89Jk/cW6j9V/3C9cVALyRKUwRFOA6ZvkIlLd+mxtqlWRN7vWNUR42aQCCCAAALuCVy/9+/C1xtK8Tuyu9coV9tegPW59SmiALY+B8YiYIIZo6Xh6wRmRB2UHpNW6z+9O392mfdaQ8cYTV93QF74bo0eb7F82WRR70aOGTsDRQABBBBIv8DVe//WKpFPpnavk/7GuNJnBFifW58qCmDrc2AsAiaYMVoavk7ggzlb5YM52/Sf3l+xkHz2RA3HGB04dUHCRsxLGe8vPetK1eA8jhk/A0UAAQQQSLvA9Xv/jmxXWTrUDE57Q1zhcwKsz61PGQWw9TkwFgETzBgtDV8n8NykVfJn1CH9py82uUdeblrGUUatPv1b1u09pcdcr3R++bYb2yE56gZgsAgggEAaBa7e+zdrUAZZ0TdccmTOmMZWON0XBVifW581CmDrc2AsAiaYMVoavk6gyXsLZPvR8/pPRz9eXR6oVNhRRou3HZVO4yNTxsw2Fo5KP4NFAAEE0ixw9d6/basVkVG8PyLNhr56Aetz6zNHAWx9DoxFwAQzRkvDVwnExCXIvf3/StkKaM4rDaR0gRyOMlJv8nz0i+WyfMcJPe5qxfLITz3CJCCAPYEddSMwWAQQQMAFAbX3b+3hc+XyDnrCP5q6gOZHp7A+tz6ZFMDW58BYBEwwY7Q0fJXAhgOnpeVHS/SfZMoQKBsHNZeMGQIdZ7Rq9wlp99mylHGPezJEwisUdJwDA0YAAQQQSF3g84XbZfiMzfok9v513t3C+tz6nFMAW58DYxEwwYzR0vBVAj+v2ScvT1mn/6R84Vwy48X6jvXpOnGFzN18RI+/XKGc8ucL9SVQ7QvFgQACCCCAgIioTww1e3+RbDtyTnuw96/zbgvW59bnnALY+hwYi4AJZoyWhq8SGDFjs4xZuF3/Seuqd8kHj1RzrM/GA2fkgY8Wp4z/w0eqSquqRRzrwcARQAABBK4VUC9MVC9OTD7Y+9d5dwjrc+tzTgFsfQ6MRcAEM0ZLw1cJXP0ij94tyspzDUs72qfXd2vkt3UHtEGJO7LJ7FcaSJADPxLu6JuAwSOAAAK3EOj3yz/yzfLd+qfs/evM24T1ufV5pwC2PgfGImCCGaOl4asE6o6YJ/tPXdB/Mr5ziDQp7+zvve44ek6avr8o5aVgw9tWkkdrFeOeQQABBBBwuIB6aWTosLly+kKclmDvX2feEKzPrc87BbD1OTAWARPMGC0NXxY4GxMnlQbMSvFY3LuRBOfL5nif//txvXy/Yq92KJQriyx4vaFkCcrgeBcAEEAAAScL/LH+oPScvFoTsPevc+8E1ufW554C2PocGIuACWaMloYvC6zec1Lajl6qf5c9UwaJGtCclz6JyIFTF6ThuwskNiFR2/RtWV661b+b+wYBBBBAwMECT02IlPlbjmoB9v517o3A+tz63FMAW58DYxEwwYzR0vBlge8j98j//RSlf1c1OI/80rMuNpcFBv22Ub78e6f+Xb7smWRR70aSI3NGfBBAAAEEHCjA3r8OTPothsz63Pp7gQLY+hwYi4AJZoyWhi8LDPxtg0z4e5f+XceQYHmnfWVsLgscO3dR7hs5X6JjE/SfvNK0jLzQ5B58EEAAAQQcKMDevw5MOgWwbZNOAWzb1LgfGAWw+4a0kLrA4+OWy9//Htcn9XuwgnStVxKyqwTem7VFPp73r/6TnJkz6qfAebNnwggBBBBAwEEC7P3roGS7MFTW5y4gGT6FAtgwsJXNM8Gs1HdG3yFD5oh60qmOb7uGSr178jtj4C6OUr3pUz0FTn7j57MN7pY37y/v4tWchgACCCDgDwLs/esPWfTcGFife84yvS1RAKdXzgeuY4L5QJJ8OMTj5y5KjSFzUkYQ2aeJFMiZxYdHZCb0zxZsl3dmbtaNZwkKlIWvN5KCuXAyo02rCCCAgP0Ertn7t2Q+mfpsHfsFSUReE2B97jXqW3ZEAWx9DoxFwAQzRkvDIrJs+3F59Ivl2iJvtiBZ3a+pBAQEYHOdQHRsvDR4d4EcPZv0pPyJ2sVkSOtKOCGAAAIIOEDghr1/21eWDiHBDhg5Q7yVAOtz6+8NCmDrc2AsAiaYMVoaFpGvlu6S/tM3aIvQkvlkCv+ifcv74utlu+TtX5OsMgYGyLxXG0qxO9gvmYmEAAII+LsAe//6e4bTPj7W52k38/QVFMCeFrVRe0wwGyXDD0N56+comRyxR4/syTrFZVCrin44Ss8MKTY+URq/t0D2nbygG2T/R8+40goCCCBgd4Fr9v6tXkRGdahq95CJz7AA63PDwC40TwHsApKvnsIE89XM+Ubc7T9bKit3n9TBDmldUZ6oXdw3Arcoyh9W7ZPXpq3TvatPiv/10n1SpmBOi6KhWwQQQAAB0wI37P37TKiEleJlkabd7d4+63PrM0QBbH0OjEXABDNG6/iG1ZYOlQfOkrMx8dpiWvc6UrNEPse7pAaQkHhJmn+wSP49ck6f1vzegvJ5pxDMEEAAAQT8VIC9f/00sW4Oi/W5m4AeuJwC2AOIdm2CCWbXzPh+XGrro3rvzJOYuEQ9mHVvN5Pc2YJ8f2CGRzAj6qD0mLQ6pZdfe9aVKsF5DPdK8wgggAAC3ha4Ye/fJvfIK03LeDsM+rOhAOtz65NCAWx9DoxFwAQzRkvDIqKeaO49ES07j52XRuUKYOKCgFoQPfTJ3xK1/7Q+u/49+eWbrqEuXMkpCCCAAAK+JMDev76ULe/Gyvrcu943640C2PocGIuACWaMloYRSLfAwq1HpfOXkSnXT+Y7Yem25EIEEEDArgLs/WvXzFgfF+tz63NAAWx9DoxFwAQzRkvDCKRbQD0F7jh2uUTuPKHbqF4sj/zYI4w9lNMtyoUIIICAvQTUm/9Dh82Rk9FxOrCR7SpLh5rs/WuvLFkXDetz6+yTe6YAtj4HxiJgghmjpWEE3BJYseuEPDxmWUob4zuHSJPyBd1qk4sRQAABBOwhMGfjYen29UodTOaMgbKyb7jkzMJ7MuyRHeujYH1ufQ4ogK3PgbEImGDGaGkYAbcFrt4bsmpwHvmlZ12326QBBBBAAAHrBZ6fvFp+X39QB9KyUmH59PHq1gdFBLYRYH1ufSoogK3PgbEImGDGaGkYAbcF1u87pV+IlXwse7OxFM6d1e12aQABBBBAwDqBszFxEjJkjlyMT9ol4YsnQ6RpBT7hY11G7Ncz63Prc0IBbH0OjEXABDNGS8MIuC2gvgvc8H8LZPfxaN3W4NYVpVPt4m63SwMIIIAAAtYJ/LBqn7w2bZ0OIE+2IIl8K1wyZQy0LiB6tp0A63PrU0IBbH0OjEXABDNGS8MIeERg8O8bZfySnbqt+8rcKV8/Xcsj7dIIAggggIA1Ak+Mi5Al/x7TnT8eWkyGtqlkTSD0alsB1ufWp8ZWBfCqVatk9uzZEhkZqX/t379fC6knJWk54uPjZciQIbJixQrZtGmTHD16VOLi4iQ4OFiaNm0qb7zxhhQvfuOTlokTJ8rMmTNl3bp1cvjwYTl37pzkz59fwsLC5OWXX5a6dV37jl7Xrl3lyy+/1CEvXrxY6tWrd034u3btkpIlS95ySAULFpRDhw6lZcg3PZcJ5jYhDSBgVGD5juPyyNjluo+gDAGyul9TXpRiVJzGEUAAAXMCh8/ESJ3hcyXx8rJ1Wvc6UrNEPnMd0rJPCrA+tz5ttiqAW7duLb/++usNKmktgFXhmjNnTsmRI4dUrlxZ7rrrLomNjZW1a9fKnj17JFeuXDJ37lwJCQm5pi/1e1X8VqpUSYoWLSpZsmSRLVu2yPr16/UWJaNHj5bu3bunmrX58+dL48aN9fkq7tQKYFXotmjR4ob2cufOLR9++KHbdwcTzG1CGkDAqEB8QqKEDJ0jpy5vlfHpY9WlZeXCRvukcQQQQAABMwLjFu+QIX9s0o0XzZtVFr3eSAIDA8x0Rqs+K8D63PrU2aoAfuedd+T8+fNSs2ZN/atEiRJy8eLFdD0BjoiIkNDQUMmYMWOKckJCgvTt21dGjBghNWrUkJUrk15Rn3yoaypUqKCL56uP6dOnS9u2bSUoKEj27t2rnwrf7IiJidEFd6ZMmUQVsUuXLk21AG7QoIEsWLDA2F3ABDNGS8MIeEzglSlr5ac1SZ92aVOtiLzfsarH2qYhBBBAAAHvCTz48WL5Z/8Z3WHPRqXk9eblvNc5PfmMAOtz61NlqwL4eg71BDY9BXBqrOrj0arAVcXqqVOndKHqyhEeHq6fGqsn1A899NBNL+nTp48MHz5cFi1apAvthQsXUgC7gss5CDhY4M+og/LcpNVaIHfWIFnVN1wyZuCFKQ6+JRg6Agj4oMC/R85K+KhFKZHPfvk+uafgtQ9UfHBYhGxAgALYAGoam3RcAayeAquiNzo6Wj9tzprVtW1H7r//fv394BkzZtz0Y8tRUVH6qfKTTz4p48aNk4YNG1IAp/Fm5HQEnChw7mK8VB80W2ITkrbM+O6Z2lKn1B1OpGDMCCCAgM8K/O+vLfLJ/H91/PfelUv+eKG+z46FwM0KUACb9XWldUcVwOo7ueoJrXpSq76nq57ounKo8x544AHJnj277NixQ/LkyXPNZYmJifoFWdu3b5fNmzdLvnz5XCqAy5UrJx06dJCDBw/qolx9ZFs9XVYfofbEwQTzhCJtIGBeoPOXkbJw61HdUdd6JaXfgxXMd0oPCCCAAAIeEVDry/oj58u+kxd0e31blpdu9e/2SNs04n8CrM+tz6nfF8Dqjc/qjc5nzpzRL7NSRWr58uXljz/+uOWbmCdMmKCf3qqPSavz1XeFVYE6ZcoUad68+Q1Z+/jjj+WFF16Qr776Sj8BVocrT4Bvlv5ixYrJtGnTpFYt97dDYYJZP8GIAAFXBL5dvlv6/vKPPrVYvmyy8PWG+kV6HAgggAAC9hdYueuEtB+zTAeq/tO9/M0mUjBXFvsHToSWCLA+t4T9mk79vgAuXbq0LmKTD/WSqm+//Va/6flWR7du3WT8+PEpP1ZPdL/44gv9Iqzrj3379ukXZ6mPP6s3QCcfqRXA6onv4MGDpWPHjroYVx/D3rBhg/6zP//8Uz9hVm+svtlWTTeLOXkiXf8zNe5SpUrptjkQQMC+AodOx0jt4Vc+kTLr5fukDN8ds2/CiAwBBBC4SqDPz1EyKWKP/pN6pfPLt91C8UHglgIUwNbfHH5fACcTHzt2TNQ+w+rjz+pJsCpoO3funGoG1HZKahukkSNHytSpU+WZZ56RsWPHXnNNq1atUvYOVh9pdqUATq3Txx9/XCZPniz//e9/5fPPP3fpDqEAdomJkxCwtcBDnyyR9ftO6xhfb15WejYqbet4CQ4BBBBAQCQ2PlFqDbuynd277SvLwyHB0CBAAWzje8AxBXByDk6fPq2f/qqCWBW3wcGu/UdKFbpqO6QffvhB2rVrp5v78ccfpX379tKvXz8ZNGjQNWlO7QlwaveDelpbsWJF/fR3165dbt06/AuTW3xcjIBXBT6au01Gzd6q+6wanEd+6VnXq/3TGQIIIIBA2gVmbzwsz3ydtK1m5oyBsrJvuOTMEpT2hrjCMQKsz61PteMKYEXes2dPGT16tP6Y89NPP+1SFtT3ctULqzp16iRff/21vqZLly76e7+1a9eWzJkzX9OO+gizKrarVq2qvz+szlW/bnfExsbqttSLsNQWUO4cTDB39LgWAe8KbDp4Ru7/cHFKp5FvNZECfIfMu0mgNwQQQCCNAj0nr5Y/1h/UV7WsXFg+fax6GlvgdKcJsD63PuOOLID79++vn9iOGDFC1EuyXDnU93vVm6NbtGiht0K6ugB25XrV54ABA257qnphV6FChSRv3rxy4sSJ256f2glMMLf4uBgBrwqot4jWe2e+7D+V9BbR4W0ryaO1ink1BjpDAAEEEHBd4GxMnIQMmSMX45O2sRv3ZIiEVyjoegOc6UgB1ufWp92RBXDyx5PVU131EWZXDlW8Dhw4UD89/uSTT257SXo/Aq2eTKs+mjRpInPmzLltPxTAbhFxMQK2EhgwfYNMXJr01Ycm5QrI+C41bRUfwSCAAAIIXBGYtnKvvP7Dev0HebIFSeRb4ZIpYyBECKQqQAFs/Q3i0wWwKkTVrzZt2uj9fZMPtcWReoIaFhZ2jXB0dLQMHTpUhg0bpp+ybtu2TXLkyKHP2bRpk0RFRUnr1q2v2YdXPZVR2x+pj0qrbZEiIiKkZs3bL0pTK4DVC7jq168vV780S8Xw008/6Y9Jnz17Vv9/NS53DiaYO3pci4D3Bf7+95g8Pi5Cd6y+S7bm7aaSLVNG7wdCjwgggAACtxV4YlyELPn3mD7vidrFZEjrW+8wctvGOMExAqzPrU+1rQpgVbiqrYCSj8jISFEFaGjoldfJqxdOtWzZUp+S/FRWvc154sSJKdcl/3mRIkVSvoN76NAhvbWQ+lix+k7ub7/9povQ5GPBggXSqFEj/TO1pZEqkE+dOiUbN27UL6MKDAyU9957T1566SWXspZaAZz8M7UlU5kyZSQxMVH3s3nzZt3266+/rt887e7BBHNXkOsR8K5AXEKiVB88W87GxOuOP+9UQ5rfW8i7QdAbAggggMBtBQ6fSdq+7tKlpFN/6F5HQkrku+11nIAA63Pr7wFbFcCqiH3qqadSVZkwYULKy6RuVQCrbY7Uy6kWL14su3fv1kWv2mtX7QmsvsPbq1cvKVy48DX9HD16VMaMGSOqEN66dauo36uit2jRorpQVh9Lrl7d9RcbpFYAT5o0SX755RddkB85ckQuXLggd955p36ZVo8ePSQ8PNwjdwYTzCOMNIKAVwVe+G6NTF93QPfZvkZR+d/DVbzaP50hgAACCNxeYNziHTLkj036xKJ5s8ri3o0kICDg9hdyhuMFWJ9bfwvYqgC2nsO/ImCC+Vc+GY0zBFTxq4pgdeTLnklW9AmXDIEsqpyRfUaJAAK+ItDyo8Wy4cAZHe7zjUrLa83L+kroxGmxAOtzixMgIhTA1ufAWARMMGO0NIyAMYEzMXFSfdBsiU9M+lzdtO51pCYfqzPmTcMIIIBAWgW2HT4rTd9flHLZnFfuk9IFcqa1Gc53qADrc+sTTwFsfQ6MRcAEM0ZLwwgYFbj6xSrP3ne3vPlAeaP90TgCCCCAgOsC7/61WT6dv11fULFILvm915V3yrjeCmc6VYD1ufWZpwC2PgfGImCCGaOlYQSMCny1dJf0n75B93F3/uwy77WGRvujcQQQQAAB9V2mqgAAIABJREFU1wQSEy/Jfe/Ol30nk/Zs79uyvHSrf7drF3MWAiLC+tz624AC2PocGIuACWaMloYRMCqw72S01Htnfkofc19tIKXuTNqyjQMBBBBAwDqBFbtOyMNjlukA1OsZlr/ZRArkymJdQPTscwKsz61PGQWw9TkwFgETzBgtDSNgXOCBDxfLxoNJL1h58/5y8myDUsb7pAMEEEAAgdQF+vwcJZMi9uiT6t+TX77pemWrTuwQcEWA9bkrSmbPoQA262tp60wwS/npHAG3BEbN3iofzd2m2wgpnld+6BHmVntcjAACCCDgnkBsfKLUGjZHTkXH6YbUNnVquzoOBNIiwPo8LVpmzqUANuNqi1aZYLZIA0EgkC6Bf/aflgc/XqKvVVtLruwTLnfkyJyutrgIAQQQQMB9gdkbD8szX6/UDWUJCtTb1OXMEuR+w7TgKAHW59anmwLY+hwYi4AJZoyWhhEwLnDp0iWpM3yeHDoTo/sa2b6ydAgJNt4vHSCAAAII3Fyg56TV8kfUQf3DBysXlk8eqw4VAmkWYH2eZjKPX0AB7HFS+zTIBLNPLogEgfQI9P0lSr5dnvRds2YVCsrYJ0PS0wzXIIAAAgi4KaD2aK85ZI5cjE/ULY3vHCJNyhd0s1Uud6IA63Prs04BbH0OjEXABDNGS8MIeEVg4daj0vnLSN1X1qAMsubtppIlKINX+qYTBBBAAIErAlNX7pXeP6zXf5A3W5BE9gmXoAyBECGQZgHW52km8/gFFMAeJ7VPg0ww++SCSBBIj8DF+ASpMXiOnLsYry/niUN6FLkGAQQQcF/g8XHL5e9/j+uGOtUuLoNbV3S/UVpwpADrc+vTTgFsfQ6MRcAEM0ZLwwh4TeDq75w9UjNYRrSr7LW+6QgBBBBAQOTQ6RipM2KuXLqUpPFjjzpSo3g+aBBIlwDr83SxefQiCmCPctqrMSaYvfJBNAikR+DnNfvk5Snr9KX5c2SWyLeaSGBgQHqa4hoEEEAAgXQIfLFohwz9c5O+MjhfVln0eiMJUK/n50AgHQKsz9OB5uFLKIA9DGqn5phgdsoGsSCQPoFT0bFSY8gcSUhMevTw83NhUq1Y3vQ1xlUIIIAAAmkWeODDxbLx4Bl9Xa/GpeXVZmXT3AYXIJAswPrc+nuBAtj6HBiLgAlmjJaGEfCqwCNjl8nyHSd0n881LCW9W5Tzav90hgACCDhVYOvhs9Ls/UUpw5/zSgMpXSCHUzkYtwcEWJ97ANHNJiiA3QS08+VMMDtnh9gQcF1g/JKdMvj3jfqCMgVzyKyXG7h+MWcigAACCKRbYOTMzTJ6wXZ9faUiueW3XvXS3RYXIqAEWJ9bfx9QAFufA2MRMMGM0dIwAl4V2HM8Wu57d35KnwtfbyjF78ju1RjoDAEEEHCaQGLiJak/cr7sP3VBD71vy/LSrf7dTmNgvB4WYH3uYdB0NEcBnA40X7mECeYrmSJOBG4v0Pz9RbLl8FkWYben4gwEEEDAIwKRO09Ih8+X6bbUuweXv9lECuTK4pG2acS5AqzPrc89BbD1OTAWARPMGC0NI+B1gXf/2iyfzk/6GF5oyXwy5dk6Xo+BDhFAAAEnCbz1c5RMjtijh1z/nvzyTddQJw2fsRoSYH1uCDYNzVIApwHL105lgvlaxogXgVsLrN17Slp/+rc+IUNggKzsEy55s2eCDAEEEEDAgEBsfKLUHDpHTl+I062/93AVaVejqIGeaNJpAqzPrc84BbD1OTAWARPMGC0NI+B1AfVdtNrD58qRsxd136M6VJG21VmMeT0RdIgAAo4QmLXhkPz3m1V6rFmCAmVl36aSI3NGR4ydQZoVYH1u1teV1imAXVHy0XOYYD6aOMJG4BYCb/4UJd9FJn0c74FKhWT04zWwQgABBBAwIPDcpFXyZ9Qh3fJ/qtwlHz9azUAvNOlEAdbn1medAtj6HBiLgAlmjJaGEbBEYN7mw/L0xJW67+yZMsjqt5tK5owZLImFThFAAAF/FTgTEychQ+aI+hi0OsZ3DpEm5Qv663AZl5cFWJ97Gfwm3VEAW58DYxEwwYzR0jAClgjExCVItUGz5UJcgu5/4lM1pWHZApbEQqcIIICAvwpMXbFXev+4Xg8vb7YgiewTLkEZAv11uIzLywKsz70MTgFsPbg3I2CCeVObvhDwjsCz36yUvzYc1p09HlpMhrap5J2O6QUBBBBwiMBjXyyXpduP69F2ql1cBreu6JCRM0xvCLA+94Zy6n3wBNj6HBiLgAlmjJaGEbBMYNrKvfL6D0lPJkrdmV3mvtrQsljoGAEEEPA3gUOnY6TOiLly6VLSyH7sESY1iuf1t2EyHgsFWJ9biH+5awpg63NgLAImmDFaGkbAMoFth89K0/cX6f7VdkgbBzXne8CWZYOOEUDA3wS+Xb5b+v7yjx5WcL6ssuj1RhIQEOBvw2Q8FgqwPrcQnwLYenzTETDBTAvTPgLeF4hLSJQKb8+UuISkxxMzX6ov5Qrl8n4g9IgAAgj4oUC3r1bKnE1JXzN5um5Jefs/FfxwlAzJSgHW51bqJ/XNE2Drc2AsAiaYMVoaRsBSgWbvL5Sth8/pGD56tJo8VOUuS+OhcwQQQMAfBNRbn6sOmiXRsUkvGvzq6VrSoMyd/jA0xmAjAdbn1ieDAtj6HBiLgAlmjJaGEbBU4PnJq+X39Qd1DL0al5ZXm5W1NB46RwABBPxBYOm/x+SxcRF6KFmCAmXt280kSxBbzflDbu00Btbn1meDAtj6HBiLgAlmjJaGEbBU4KO522TU7K06hub3FpTPO4VYGg+dI4AAAv4gMOzPTTJ20Q49lEZl75QJT9Xyh2ExBpsJsD63PiEUwNbnwFgETDBjtDSMgKUCM/85KN2/Xa1juDt/dpn3Gm+CtjQhdI4AAn4h0Pz9RbLl8Fk9lgH/qSBd6pb0i3ExCHsJsD63Ph8UwNbnwFgETDBjtDSMgKUC24+ekybvLdQxBAaIbBzUgo/pWZoROkcAAV8XOHDqgoSNmJcyjAWvNZQS+bP7+rCI34YCrM+tTwoFsPU5MBYBE8wYLQ0jYKlAvH4T9F8Sm5Co4/jjhXpy7125LY2JzhFAAAFfFvg+co/8309Reggl7sgmC15v5MvDIXYbC7A+tz45FMDW58BYBEwwY7Q0jIDlAi0+WCSbDyV9VO+DjlWldbUilsdEAAgggICvCnT/ZpXM3HBIh9+5TnEZ2Kqirw6FuG0uwPrc+gRRAFufA2MRMMGM0dIwApYLvPDdGpm+7oCO47mGpaR3i3KWx0QACCCAgC8KqP3Vqw+aLWcvxuvwJ3SpKY3KFfDFoRCzDwiwPrc+SRTA1ufAWARMMGO0NIyA5QKfzv9X3v1ri44jvHxBGdeZN0FbnhQCQAABnxSI2HFcOo5drmPPlDFQ1r3dTLJmYvsjn0ymDwTN+tz6JFEAW58DYxEwwYzR0jAClgvM2nBI/vvNKh1H8TuyyUK+r2Z5TggAAQR8U+CdmZvlswXbdfD178kv33QN9c2BELVPCLA+tz5NFMDW58BYBEwwY7Q0jIDlAruOnZeG/1ug4whQb4Ie2IInFpZnhQAQQMAXBR74cLFsPHhGh97vwQrStR7bH/liHn0lZtbn1meKAtj6HBiLgAlmjJaGEbBcICHxklR4e6ZcjE96E/Rvz9eTSkV5E7TliSEABBDwKYEjZ2Kk1rC5KTHPeaWBlC6Qw6fGQLC+JcD63Pp8UQBbnwNjETDBjNHSMAK2EGj50WLZcCDpqcV7D1eRdjWK2iIugkAAAQR8RWDqyr3S+4f1OtyiebPK4t6NJEB9rIYDAUMCrM8NwaahWQrgNGD52qlMMF/LGPEikDaBl6eslZ/X7NcXPdvgbnnz/vJpa4CzEUAAAYcL9Jy8Wv5Yf1ArPB5aTIa2qeRwEYZvWoD1uWnh27dPAXx7I589gwnms6kjcARcElAvbVEvb1FH43IF5MsuNV26jpMQQAABBETi1fZHg2fLmZik7Y++eDJEmlYoCA0CRgVYnxvldalxCmCXmHzzJCaYb+aNqBFwVWDupsPS9auV+nT10b0lbzR29VLOQwABBBwvsGr3CWn32TLtEJQhQNa+3UyyZ87oeBcAzAqwPjfr60rrFMCuKPnoOUwwH00cYSPgosDeE9FSf+T8lLM3DGzO4s1FO05DAAEE3pu1RT6e96+GCCt1h0x+pjYoCBgXYH1unPi2HVAA35bId09ggvlu7ogcAVcEEhMvyb39/5ILcQn69F961pWqwXlcuZRzEEAAAccL/OfjJRK1/7R2eOuBcvLf+0o53gQA8wKsz80b364HCuDbCfnwz5lgPpw8QkfARYGHPlki6/clLeBGtq8sHUKCXbyS0xBAAAHnChw7d1FChsxJAZj18n1SpmBO54Iwcq8JsD73GvUtO6IAtj4HxiJgghmjpWEEbCPw6tR18uPqfTqeZ+qXlD4tK9gmNgJBAAEE7Crw0+p98srUdTq8wrmzyNL/a8z2R3ZNlp/Fxfrc+oRSAFufA2MRMMGM0dIwArYR+Hzhdhk+I+lN0A3K3ClfPV3LNrERCAIIIGBXgRe+WyPT1x3Q4T1aK1iGt61s11CJy88EWJ9bn1AKYOtzYCwCJpgxWhpGwDYC87cckacmrNDx3KWeYrzZxDaxEQgCCCBgR4GExEsSMmS2nIyO0+GNeaK6tKhY2I6hEpMfCrA+tz6ptiqAV61aJbNnz5bIyEj9a//+/Vro0qVLaZKKj4+XIUOGyIoVK2TTpk1y9OhRiYuLk+DgYGnatKm88cYbUrx48RvanDhxosycOVPWrVsnhw8flnPnzkn+/PklLCxMXn75Zalbt65LcXTt2lW+/PJLfe7ixYulXr16N71uw4YNMmDAAFmwYIHuq3Tp0qKufeGFFyQwMNClvlI7iQnmNiENIGB7gf2nLkjdEfNS4owa0ExyZgmyfdwEiAACCFglsGbPSWkzeqnuPmNggKx5uyn/3bQqGQ7sl/W59Um3VQHcunVr+fXXX29QSWsBrIrJnDlzSo4cOaRy5cpy1113SWxsrKxdu1b27NkjuXLlkrlz50pISMg1fanfq+K3UqVKUrRoUcmSJYts2bJF1q9fr78XMnr0aOnevXuqWZs/f740bpz0PRIV960K4GXLlkmTJk3kwoULUqtWLSlRooQsWrRIDh06JA8//LBMmTLF7e+iMMGsn2BEgIBpAfXfmUoDZsm5i/G6qx97hEmN4nlNd0v7CCCAgM8KfDBnq3wwZ5uOP7RkPpnybB2fHQuB+54A63Prc2arAvidd96R8+fPS82aNfUvVRRevHgxXU+AIyIiJDQ0VDJmvLKheUJCgvTt21dGjBghNWrUkJUrV16TAXVNhQoVdPF89TF9+nRp27atBAUFyd69e/VT4ZsdMTExuuDOlCmT5M6dW5YuXXrTAlg9jS5btqzs3LlTRo0apZ8uq0MV7s2aNRNVHE+YMEG6dOni1h3CBHOLj4sR8BmB1p/+LWv3ntLxjmhbSR6pVcxnYidQBBBAwNsCV/83s3eLsvJcw9LeDoH+HCzA+tz65NuqAL6eQz2BTU8BnBqr+ni0KnBVsXrq1CldqLpyhIeH66fG6gn1Qw89dNNL+vTpI8OHD9dPclWhvXDhwpsWwFOnTpWOHTtKlSpV9FPpq4/Vq1fr4rxixYoSFRXlSmi3PIcJ5hYfFyPgMwK9f1gnU1cmvQn66bol5e3/8CZon0kegSKAgFcFTpyPlRpDZkvyt+v+fKG+VLgrl1djoDNnC7A+tz7/jiuA1VNgVfRGR0frp81Zs2Z1KQv333+//n7wjBkzpEWLFjdco4pVVbg++eSTMm7cOGnYsOEtC+DOnTvL119/LYMHD9aF8vVHqVKlZMeOHfoJsXoKnt6DCZZeOa5DwLcExi3eIUP+2KSDrn9Pfvmma6hvDYBoEUAAAS8J/Lp2v7z4fdLDhwI5M0vEW03c/sqZl0KnGz8RYH1ufSIdVQCr78qpJ7TqSa36nq56ouvKoc574IEHJHv27LowzZMnzzWXJSYm6hdkbd++XTZv3iz58uVLtQCuWrWq/q7xH3/8odu9/lDfAf7hhx9SfdrsStxMMFeUOAcB3xdYtPWoPPllpB5IwVxqQRfu+4NiBAgggIABgVemrJWf1iS9ZPXhGkXl3YerGOiFJhG4tQDrc+vvDr8vgNUbn9Ubnc+cOaNfZqWK1PLly+vis2TJkjfNgPr+rfr4svqYtDpffVdYPTVWL6Zq3rz5Ddd8/PHH+s3NX331lX4CrI7UngCrAvnkyZO6CFbfGb7+UN8J/uCDD+Sjjz6SXr16pfsuYYKlm44LEfApgUOnY6T28Cv/oLeufzPJnZU3QftUEgkWAQSMCyQmXpJaw+bIsXOxuq9PH6suLSuz/ZFxeDq4RoD1ufU3hN8XwGprIVXEJh+q4Pz222/1m55vdXTr1k3Gjx+f8mNVsH7xxRf6RVjXH/v27dMvzlIff1ZvgE4+UiuA1Uuy1Iuwtm3bprc+uv5QH4seOnSo/vXWW2/d9i5JnkjXn6jGrT5OrbZb4kAAAf8VUJ9uqTxwlpyNSXoT9A/d60hIiXz+O2BGhgACCKRDIGrfafnPJ0v0lYEBImv6NZPc2fjHwnRQcokbAhTAbuB56FK/L4CTnY4dOyZqn2H18Wf1JFgVtOq7uKkd6q3MahukkSNHinpx1TPPPCNjx4695pJWrVql7B1crlw5CmAP3Zg0gwACaRNo99lSWbX7pL5oaJuK8njojXudp61FzkYAAQT8S+Djudvkvdlb9aBCiueVH3qE+dcAGY1PCFAAW58mxxTAydSnT5/WT39VQayK2+DgYJeyoApdtR2S+m5uu3bt9DU//vijtG/fXvr16yeDBg26ph0+Au0SKychgICHBN78ab18F7lXt9YlrIQMeOheD7VMMwgggIB/CLT/bKmsvPwPha82LSO9mtzjHwNjFD4lQAFsfbocVwAr8p49e8ro0aP1x5yffvppl7Iwbdo06dChg3Tq1Em/wVkvMrt00d/7rV27tmTOnPmadtT2RqrYVi+8Ut8fVucm7+vLS7BcIuckBBBIg8CXS3bKoN836ivCSt0hk5+pnYarORUBBBDwb4HT0XFSbfAsSbyUNM7fnq8nlYq6thWmf8swOm8LUAB7W/zG/hxZAPfv318/sR0xYoSol2S5cqjv96o3R6stkNRWSFcXwK5cr/ocMGCAPpVtkFwR4xwEEEiLwJJtx+SJ8RH6kvw5MsvKvrwJOi1+nIsAAv4t8Pv6A/L85DWX/xuZSSLfCpdA9UVgDgS8LEAB7GXwm3TnyAI4+ePJ6qmu+gizK4cqXgcOHKifHn/yySe3vSS1j0Cr7xN37NhRqlSpIupJ8dXHmjVrpHr16lKxYkVRewu7czDB3NHjWgR8S+DI2RipNfTKm6DX9GsqebNn8q1BEC0CCCBgSOD1aetk2qp9uvW21YrIqI5VDfVEswikLsD63Po7xKcLYFWIql9t2rTR+/smH2qLo7x580pY2LUvN4iOjtZvVh42bJgUKlRIv4U5R44c+rJNmzbpgrN169ai3tKcfKi3q6rtj9RHpdW2SBEREVKzZs3bZi61Ali9Abps2bKyc+dOGTVqlKhtj9Rx/vx5adq0qSxbtkzUVkzJH5m+bWe3OIEJll45rkPA9wTUf6uqDZ4tp6LjdPBT/ltbQu++w/cGQsQIIICAhwXUfx9Dh82VI2cv6pY/fKSqtKpaxMO90BwCrgmwPnfNyeRZtiqAVeE6ePDglPFGRkaK/o9WaGjKn6kXTrVs2VL/PvmprPpI8cSJE1POSf7zIkWKpHwH99ChQ/pp64kTJ/R3cn/77TepX79+yjULFiyQRo0a6Z+pLY1UgXzq1CnZuHGj7Nq1SwIDA+W9996Tl156yaV8pFYAqwaWLl0q4eHhcuHCBT2+4sWLy+LFi+XgwYP6qbR6ShwQ4N5Hc5hgLqWKkxDwG4EOY5ZJ5K4TejyDW1eUTrV5E7TfJJeBIIBAugU2HjgjD3y0WF+vllar+/IJmXRjcqHbAqzP3SZ0uwFbFcCqiH3qqadSHdTVT0ZvVQCrbY7Uy6lUQbl7925d9GbNmlXvuau+w9urVy8pXPjajc+PHj0qY8aMEVUIb926VdTvVdFbtGhRXSirjz6rjya7etyuAFbtqP151XeDVZ/q6a/as7dr167y4osv6r7dPZhg7gpyPQK+JdDn5yiZFLFHB62KX1UEcyCAAAJOFxi94F8ZOXOLZqganEd+6VnX6SSM30IB1ucW4l/u2lYFsPUc/hUBE8y/8sloELidwFdLd0n/6Rv0aaEl88mUZ+vc7hJ+jgACCPi9QIfPl0nkzqRPx7wUfo+8FF7G78fMAO0rwPrc+txQAFufA2MRMMGM0dIwArYUWLr9mDz2RdKboPNlzySr+zW1ZZwEhQACCHhL4ExMnFQfNFviL+9/9PNzYVKtWF5vdU8/CNwgwPrc+puCAtj6HBiLgAlmjJaGEbClwLFzFyVkyJyU2NRWSGpLJA4EEEDAqQIz/zko3b9drYefN1uQrOzbVDKw/ZFTbwdbjJv1ufVpoAC2PgfGImCCGaOlYQRsK1Bj8Gw5fj5Wxzf5mVAJK5XftrESGAIIIGBa4M2f1st3kXt1N62q3iUfPlLNdJe0j0CqAqzPrb9BKICtz4GxCJhgxmhpGAHbCjwydpks35H0XbeBD90rncNK2DZWAkMAAQRMCqidRMJGzJODp2N0N6M6VJG21Yua7JK2EbitAOvz2xIZP4EC2DixdR0wwayzp2cErBJ4+9d/5Otlu3X3j4UWk2FtKlkVCv0igAAClgpsOXRWmn+wKCUGvhZiaTro/LIA63PrbwUKYOtzYCwCJpgxWhpGwLYC3yzfLf1++UfHV7NEXpnWPcy2sRIYAgggYFJg7KLtMuzPzbqLSkVyy2+96pnsjrYRcEmA9blLTEZPogA2ymtt40wwa/3pHQErBCJ2HJeOY5frrnNnDZK1bzeVgIAAK0KhTwQQQMBSgce+WC5Ltx/XMfRqXFpebVbW0njoHAElwPrc+vuAAtj6HBiLgAlmjJaGEbCtwMnzsVJt8OyU+CLfaiIFcmWxbbwEhgACCJgQOHcxXqoNmiVxCZd08z/2qCM1iucz0RVtIpAmAdbnaeIycjIFsBFWezTKBLNHHogCAW8L1Bw6R46evai7/bZrqNS7hzdBezsH9IcAAtYKzN54WJ75eqUOIleWjHpf9IwZAq0Nit4R4AmwLe4BCmBbpMFMEBTAZlxpFQG7Czw+brn8/W/Sx/7efrCCPF2vpN1DJj4EEEDAowJ9fo6SSRF7dJstKxeWTx+r7tH2aQyB9AqwPk+vnOeuowD2nKXtWmKC2S4lBISAVwQGTN8gE5fu0n09WitYhret7JV+6QQBBBCwg4Da/qj+yPmy7+QFHc677SvLwyHBdgiNGBDgO8A2uAcogG2QBFMhUACbkqVdBOwtMDlij7z1c5QOsnqxPPLTc3XtHTDRIYAAAh4U+PfIOQkftTClRd6F4EFcmnJbgPW524RuN0AB7DahfRtggtk3N0SGgEmBlbtOSPsxy3QXOTNnlPUDmvEmaJPgtI0AArYSGLd4hwz5Y5OOqULhXPLni/VtFR/BOFuA9bn1+acAtj4HxiJgghmjpWEEbC1w+kKcVBk4KyXGZW82lsK5s9o6ZoJDAAEEPCXQaXyELN52TDfXo2EpeaNFOU81TTsIuC3A+txtQrcboAB2m9C+DTDB7JsbIkPAtEDosDly+EzSm6C/erqWNChzp+kuaR8BBBCwXOBCbIJUGTRLYuMTdSxT/ltbQu++w/K4CACBZAHW59bfCxTA1ufAWARMMGO0NIyA7QWufgLSt2V56Vb/btvHTIAIIICAuwLzNx+Rpyau0M2or4CsfrupBLH9kbusXO9BAdbnHsRMZ1MUwOmE84XLmGC+kCViRMCMwODfN8r4JTt14x1CisrI9lXMdESrCCCAgI0E+v/6j3y1bLeOqMW9hWRMpxo2io5QEBDeAm2Dm4AC2AZJMBUCBbApWdpFwP4CU1bskTd+THoTdNXgPPJLT94Ebf+sESECCLgr0ODd+bL7eLRuZkTbSvJIrWLuNsn1CHhUgPW5RznT1RgFcLrYfOMiJphv5IkoETAhsHrPSWk7eqluOnumDPLPwOa8CdoENG0igIBtBHb9P3vnAR5V0YXhLz1AQu+E3nsnEFpCglSlg2ADRBERBaUXRekgiqAIWEAQ/SmigAhCIAk9obfQQ4dQpBPS8z8zMSudTXZn77273zxPnt9kZ8585z13+OfszJ25dg/+n4ea9PAAQN2EhkIeIMD5ufaPAxNg7WOgTAEHmDK0NEwCuidwJzYBlUf/dxL05iEB8MmRWfe6KZAESIAEMkpg3pZTGL0yUjYvm88bfw9olFFTbEcCyghwfq4MrdmGmQCbjcp4FTnAjBczKiYBaxLwm7AeF2/FSpNzu9dGQLm81jRPWyRAAiSgKwIPHv7Xu1EJDGtZXlf6KIYEBAHOz7V/DpgAax8DZQo4wJShpWESMASB7nMjEHr0qtQ6rEU59G5c0hC6KZIESIAE0kvg+r141B4XjKTkFNmU1x+llyDr24oA5+e2Iv30fpgAax8DZQo4wJShpWESMASB8X8dxpyNUVJrhxo+mNqZJ0EbInAUSQIkkG4Cv4SfxfDfUw/+y5fVA9uGBsLZ2SnddtiABFQT4PxcNeHn22cC/HxGhq3BAWbY0FE4CViFwJKd5zBo6X5pq4pPNqx4r4FV7NIICZAACeiNwCvfb8eWE/9IWT3qF8MnL1bUm0TqIQFJgPNz7R8EJsDax0CZAg4wZWhpmAQMQWDfuZto880WqTWTmwsOfdqMKyKGiBxFkgAJpIfA1Ttx8B0fjH93P+O3PvVQs2jO9JhgXRKwGQHOz22G+qkdMQHWPgaNucXHAAAgAElEQVTKFHCAKUNLwyRgCAL34hJR8ZO/TVo3DgpAkVw8CdoQwaNIEiABswks2H4Go/44KOsXzOaJzUOa8Ms+s+mxoq0JcH5ua+KP98cEWPsYKFPAAaYMLQ2TgGEINJi0Aedv3Jd6v3+9FoIq5DOMdgolARIgAXMIvDxnG7ZHXZdVezUojpGtK5jTjHVIQBMCnJ9rgv2hTpkAax8DZQo4wJShpWESMAyBnvN2YMORK1Lv4OZl8a5/KcNop1ASIAESeB6BK7dj4TthPVJSD3/G7+/6oXqRHM9rxs9JQDMCnJ9rht7UMRNg7WOgTAEHmDK0NEwChiEwcfURzAo7KfW2q14IX3apZhjtFEoCJEACzyPw09bT+GTFIVmtUPZM2DwkAE5OPP35edz4uXYEOD/Xjn1az0yAtY+BMgUcYMrQ0jAJGIbAst3n8eHifVJvxYJZser9hobRTqEkQAIk8DwCnWdtQ8Tp1O3PvRuVwLCW5Z/XhJ+TgKYEOD/XFL/snAmw9jFQpoADTBlaGiYBwxA4eOEWWs/YLPV6uDoj8rPmcOHdmIaJH4WSAAk8nUD0rVjUm/jf9ucV79VHFZ/sREYCuibA+bn24WECrH0MlCngAFOGloZJwDAE7scnocIna0zvx4UM9Efx3FkMo59CSYAESOBpBH7cfAqf/RkpPy6SMzPCBvlz+zMfF90T4Pxc+xAxAdY+BsoUcIApQ0vDJGAoAo2nhODMPzFS8+zXaqJZxfyG0k+xJEACJPAkAu1nbsHuszflR338S2JI83IERQK6J8D5ufYhYgKsfQyUKeAAU4aWhknAUAR6/bQTwYcvS80DXyiD95qUNpR+iiUBEiCBRwlcuHkf9SduMP151fsNULFgNoIiAd0T4Pxc+xAxAdY+BsoUcIApQ0vDJGAoAlP+PoJvQlJPgn6pakFM71rdUPoplgRIgAQeJfD9piiMXXVY/lm81rHho8bc/szHxBAEOD/XPkxMgLWPgTIFHGDK0NIwCRiKwPK9F/DB//ZKzeXye2NN/0aG0k+xJEACJPAogTbfbMG+c6nbn98LKIWBzcoSEgkYggDn59qHiQmw9jFQpoADTBlaGiYBQxGIvHgbLadvkprdXcRJ0M3g6uJsKB8olgRIgATSCJy7HoOGk0NMQNb0b4hy+bMSEAkYggDn59qHiQmw9jFQpoADTBlaGiYBQxGITUhChY/XIDklVXbwh41RKq+XoXygWBIgARJIIzAr7CQmrj4ify2ZJ4v8N83JyYmASMAQBDg/1z5MTIC1j4EyBRxgytDSMAkYjkCTz0MRde2e1P3tKzXQonIBw/lAwSRAAiQgCLw4YzMOXLglYbwfWBofNi1DMCRgGAKcn2sfKibA2sdAmQIOMGVoaZgEDEeg94Kd+PtQ6knQA4LK4IMgngRtuCBSMAmQAM78cw+Np4SaSKwd0Ahl8nmTDAkYhgDn59qHigmw9jFQpoADTBlaGiYBwxGYuvYoZmw4IXW3qlIA33SrYTgfKJgESIAEvgk5gSl/H5UgyuTzwtoBjQmFBAxFgPNz7cPFBFj7GChTwAGmDC0Nk4DhCKzcdxH9ft0jdRfJmRlhg/z5zpzhokjBJEACLb/ahMhLtyUIsfVZbIFmIQEjEeD8XPtoMQHWPgbKFHCAKUNLwyRgOALnb8SgwaT/Tk39qWcdNC6Tx3B+UDAJkIDjEoi6ehdNpoaZAPBAP8d9FozsOefn2kePCbD2MVCmgANMGVoaJgFDEnhz3g6sP3JFam9UJg/m96xjSD8omgRIwDEJzFh/HFPXHZPO805zx3wG7MFrzs+1jyITYO1joEwBB5gytDRMAoYksPXENXT7Ptykfd2ARijNw2MMGUuKJgFHJNB82kYcib4jXR/UrCz6BpRyRAz02eAEOD/XPoBMgLWPgTIFHGDK0NIwCRiSQEpKClp8tck0gexapzAmtK9iSF8omgRIwLEInLhyB0FfbDQ5HTLQH8VzZ3EsCPTWLghwfq59GJkAax8DZQo4wJShpWESMCyBJTvPYdDS/VK/h6sztg0LRM4s7ob1h8JJgAQcg8C04GOYFnxcOluxYFaser+hYzhOL+2OAOfn2oeUCbD2MVCmgANMGVoaJgHDEohLTEL9iSG4djdO+vBR0zLox1NUDRtPCicBRyAgdq80/XIjTly5K90d0rwc+viXdATX6aMdEuD8XPugMgHWPgbKFHCAKUNLwyRgaAJfBR/Hl8GpB8nk8fbA5iEB8HB1MbRPFE8CJGC/BI5G30Gzaf9tf944KABFcmW2X4fpmV0T4Pxc+/AyAdY+BsoUcIApQ0vDJGBoAmL112/iBsQnJks/pnaqig41fQztE8WTAAnYL4Ev1h7F9A0npINVfbJh+XsN7NdZemb3BDg/1z7EukqAd+3ahXXr1iEiIkL+XLhwQRISW1/SUxITEzF27Fjs2LEDhw8fxtWrV5GQkIDChQujadOmGDJkCIoWLfqYyXnz5mHNmjXYt28fLl++jLt37yJ37tzw8/PDgAEDUL9+/cfabNy4EQsWLIDQLvTeuHEDXl5eqFq1Knr27IlXX30VTk5OD7U7ffo0ihcv/lSX8uXLh+jo6PS4/MS6HGAWI6QBErBbAkOW7seineekfxUKiPfpGjz2b5XdOk/HSIAEDENAzAEDp4Yh6to9qXl4y3J4uxG3PxsmgBT6GAHOz7V/KHSVALdt2xbLly9/jEp6E2CRuHp7e8tEtEqVKihYsCDi4+Oxd+9enD17FlmzZsX69etRq1ath/oSv4vkt3LlyvDx8YGnpyeOHj2K/fv3y4nhzJkz8c477zzUZuDAgZg6dSrKlCkjk9ocOXLIRHjr1q1ISkpC165d8csvvzwxARaJbvPmzR/zN1u2bPjqq68sfjo4wCxGSAMkYLcEHt1S+OtbdVGvZC679ZeOkQAJGJNA5MXbaDl9k0m8eGXDJwe3PxszmlQtCHB+rv1zoKsEeNKkSbh37x5q164tf4oVK4a4uLgMrQCHh4fD19cXrq6uJsoiIR05ciQmTpyImjVrYufOnQ9FQLSpUKGCTJ4fLCtWrED79u3h5uaGc+fOyVXhtBIZGYns2bPLJPvBcuLECTRq1AiXLl3CypUr0bp1a9PHaSvAjRs3RmhoqLKngANMGVoaJgG7IPDaD+HYdPya9CWofD58/8bDXwrahZN0ggRIwNAEpvx9BN+EnJQ+VC+SHb+/+/huPEM7SPEOR4Dzc+1DrqsE+FEcYgU2Iwnws7CK7dEiwY2NjcXNmzchVlvNKUFBQXLVWKxQv/TSS+Y0kduwR40aJbdPf/HFF0yAzaLGSiRAArYiEHL0CnrM3SG7E29qhHzkj2K8V9NW+NkPCZDAcwiIHYD+n4fizD8xsubIVuXRq2EJciMBQxNgAqx9+BwuARarwCLpjYmJkavNmTJlMisKLVq0kO8Hr169+onblp9kRKxoDx06VL5zLFad0wpXgM1CzkokQAKKCSQni6tFwnDyauq7dW/UK4pP21RS3CvNkwAJkIB5BA5euIXWMzabKm8d2gQFs5s3bzOvB9YiAdsTYAJse+aP9uhQCbD4JnHChAkYMWIEmjRpIld0zSmiXsuWLZElSxZERUXJLc/PK2KrtNgCLZLdsLAw+d+PJsDlypVD586d5TZpkZSLLdtiddnd3f155s36nAPMLEysRAIOTWBh+BmM+P2gZJDZ3QXbhgUiWyY3h2ZC50mABPRBYMLqw5gdFiXF1CqaA0v7+OlDGFWQgAUEOD+3AJ6Vmtp9AixWX8WJzrdv35aHWZ08eRLly5fHqlWrnnoS89y5c2XSKrZJi/riXWGRoC5atAjNmjV7Ivpt27Zh9uzZ8uCrixcvYvPmzRDbrT/77DOZcD9YnnUKdJEiRbBkyRLUqVPH4hBzgFmMkAZIwO4J3I9PQr2J63EzJkH6OqxFOfRuzBNW7T7wdJAEdE5ALFo0nByC8zfuS6WfvFgBPeo//QYNnbtDeSRgIsD5ufYPg90nwKVKlZJJbFoRp0L//PPP8qTnp5VevXrhhx9+MH2cM2dOfPfdd/IgrKcVYfO1114zfezi4oJPP/0U4pRoDw+Ph5qJFd8xY8agS5cuMhkX27APHTok//bXX3/JFWZxYvWTrmp6Uv9pA+nRz4TfJUuWlLZZSIAESOBpBB48ZKZgNk9sHBwAVxdnAiMBEiABzQjsO3cTbb7ZIvsXZxRsHxaIfFk9NdPDjknAWgSYAFuLZMbt2H0CnIbm2rVr8q5esRorVoJFQvvGG288k5y4TklcgzR58mQsXrwYb731FubMmfPMNuK6JbHCO3/+fEyZMgXVq1eX7w2L65HMKa+88oq8Nuntt9+WK8rmFCbA5lBiHRIggacRuHw7Fg0mbUBCUuqd6zO6VseLVR8+2Z70SIAESMCWBMatisR3m07JLusUz4nFvevZsnv2RQLKCDABVobWbMMOkwCnEbl165Zc/RUJsUhuCxcubBasNm3aQFyHtHTpUnTo0MGsNuLk548++gjvvfceZsyYYVYbsVpbqVIluforEmlLCgeYJfTYlgQci8CARXvx+54L0ulqhbPjj768asSxngB6SwL6ISC2P9efuAEXb8VKUZ+1qYjX6xXTj0AqIQELCHB+bgE8KzV1uARYcOvbty9mzpwptzn37NnTLJTivVxxYJXY5ixWd80pV69eRd68eWWSffbsWXOaQKwgiy3T4iAscQWUJYUDzBJ6bEsCjkXg0dNWf+vjh5pFzdu54lik6C0JkIBqArvO3ECHb7fKbpzF9ufhgcjrze3PqrnTvm0IcH5uG87P6sUhE+BPPvlEHk4lriYSh2SZU0JCQuTJ0c2bN5dbms0p4kAskciKn/v3Uw9xeF4RB3blz59fbpm+fv3686o/83MOMIvwsTEJOByBzrO3IeJU6r87rSoXwDev1HA4BnSYBEhAewKfrYzEj1tStz/XK5ELv75dV3tRVEACViLA+bmVQFpgxiETYH9/f3nKs1jV7dixo1n4Ro8eLQ+1EqvHX3/9tVltQkNDERAQAPGgHzyYes3I84pYmRZ9BAYGIjg4+HnVmQBbRIiNSYAEHiTw96Fo9F6wS/5JrLqIw7B8cmQmJBIgARKwGQFxP7nfxA2Ivp26/Xls20p4tW5Rm/XPjkhANQEmwKoJP9++oRNgkYiKn3bt2sn7fdOKuOJIrKD6+T18X1xMTAzGjRuH8ePHy1XW48ePw8vLSzY7fPgwDhw4gLZt2z50D694D0VcfyS2SotrkcLDw1G7dm1TX+KgK3Fq9KOHXO3YsQPdunXDiRMn8Pnnn8t3gdOKOICrYcOGEPcAP1iWLVuG7t27486dOxD/LfyypHCAWUKPbUnA8QgkJacg4PNQnL0eI51/q2FxjGhVwfFA0GMSIAHNCOw4fR2dZm2T/Ysv4naMCEIur4dv09BMHDsmASsQ4PzcChAtNKGrBFgkruIqoLQSEREBkYD6+vqa/jZq1Ci0atVK/p62KitOc543b56pTtrfCxUqhGrVqsk7fKOjo+XVQmJbsfh95cqVMglNK2mrteKzmjVrygT55s2biIyMlIdROTs7Y+rUqejfv/9DyJ2cnGTCLE57LlasmHyHNyoqCvv27ZP1xHvDCxcuhKurq6ld2gq0uJKpTJkySE5Olv0cOXJE1hk0aJA8edrSwgFmKUG2JwHHIzB3yyl8ujJSOu7t4YptwwPh5fHfv1+OR4QekwAJ2JLA6BWHMG9r6iGgDUrlxs+9/psD2lIH+yIBVQQ4P1dF1ny7ukqARRLbo0ePZ6qfO3euXCUV5WkJsLjm6KeffsKmTZtw5swZmfSKu3bFncDiHd5+/fqhQIECD/UjDqyaNWsWRCJ87NgxiN9F0uvj4yMTZbEtuUaNx9+HEyvQ4v1gkVyL93cTEhKQJ08e1KpVS+oUK8qPFpEQ//HHH7LNlStX5PvBok3dunXRp08fBAUFmR/BZ9TkALMKRhohAYcicDcuEfXGr8eduETp9ycvVkCP+sUdigGdJQES0IaA2IVSd8J6XL2TegjoxPaV8XKdItqIYa8koIgA5+eKwKbDrK4S4HToZlUzCHCAmQGJVUiABB4j8OD9m0VyZkbIQH+4iL2ILCRAAiSgkMD2qH/w8pztsgfxb87OEUHIkcVdYY80TQK2J8D5ue2ZP9ojE2DtY6BMAQeYMrQ0TAJ2TeD8jRg0mhyC5JRUN2e/VhPNKua3a5/pHAmQgPYERv1xEAu2n5FCGpXJg/k962gvigpIwMoEOD+3MtAMmGMCnAFoRmnCAWaUSFEnCeiPQN+Fu7HqwCUprE7xnFjcu57+RFIRCZCA3RBITEqW25+v3Y2XPk3uWAWdaxW2G//oCAmkEeD8XPtngQmw9jFQpoADTBlaGiYBuyew68x1dPg29SRWUf7s1wCVCmWze7/pIAmQgDYEtp64hm7fh8vO3VzE9uemyJbZTRsx7JUEFBLg/FwhXDNNMwE2E5QRq3GAGTFq1EwC+iAgTuBvO3Mr9p27KQW1q14IX3appg9xVEECJGB3BIYtO4BfI85KvwLK5sHcHtz+bHdBpkOSAOfn2j8ITIC1j4EyBRxgytDSMAk4BIEV+y7i/V/3SF9dnZ2wZWgT5Mvq6RC+00kSIAHbERCnP9cZF4x/7qVuf57aqSo61PSxnQD2RAI2JMD5uQ1hP6UrJsDax0CZAg4wZWhpmAQcgkBCUrI8DOvSrVjpb9+AkhjUrJxD+E4nSYAEbEdg5+nr6Dgr9ZUL8WXbrlFNkS0Ttz/bLgLsyZYEOD+3Je0n98UEWPsYKFPAAaYMLQ2TgMMQmBV2EhNXH5H+enu4YlHveqhQMKvD+E9HSYAE1BOY8NdhzN4YJTtqUCo3fu7lq75T9kACGhHg/Fwj8A90ywRY+xgoU8ABpgwtDZOAwxC4FZOA+pM24G5covQ5R2Y3/Pp2XZTLzyTYYR4COkoCigk0mRqKqKv3ZC+jX6yA7vWLK+6R5klAOwKcn2vHPq1nJsDax0CZAg4wZWhpmAQcisCag5fQ95c9EO/piZIri7tMgsvk83YoDnSWBEjA+gROXr2LwKlhJsObBgegcM7M1u+IFklAJwQ4P9c+EEyAtY+BMgUcYMrQ0jAJOByBlfsu4oP/7cG/OTBye7nj17fqojSTYId7FugwCViTwOywk5jw72sW5fJ7Y03/RtY0T1skoDsCnJ9rHxImwNrHQJkCDjBlaGmYBBySwPK9FzBg0d4HkmAP/O/tuiiV18shedBpEiABywl0mrUVO07fkIbeb1IKH75Q1nKjtEACOibA+bn2wWECrH0MlCngAFOGloZJwGEJ/L7nPD5cvA8pqbuhkdc7NQkukYdJsMM+FHScBDJI4J+7cag9Ltj0pdqK9+qjik/2DFpjMxIwBgHOz7WPExNg7WOgTAEHmDK0NEwCDk3gt13nMXDpf0lwvqwiCa6H4rmzODQXOk8CJJA+AkvFvyVL9slG4t+RbUMD4ezslD4jrE0CBiPA+bn2AWMCrH0MlCngAFOGloZJwOEJLN55DkN+229aCc6f1ROLetdF0VxMgh3+4SAAEjCTQO8FO/H3ocuy9iu+RTCuXWUzW7IaCRiXAOfn2seOCbD2MVCmgANMGVoaJgESALBox1kM+e2AiUXBbJ5yJbhILp7gygeEBEjg2QRiE5JQ/bN1uJ+QJCvO7VEbAWXzEhsJ2D0Bzs+1DzETYO1joEwBB5gytDRMAiTwL4Ffws9i+O//JcGFsmeS7wTzGhM+IiRAAs8iEHLkCnrM2yGrZHZ3we5RTeHp5kJoJGD3BDg/1z7ETIC1j4EyBRxgytDSMAmQwAMEFmw/g1F/HDT9xSdHahLsk4MrwXxQSIAEnkxAfHEmvkATpXnF/Jj1Wk2iIgGHIMD5ufZhZgKsfQyUKeAAU4aWhkmABB4hMH/baXy8/JDpr4VzZsKit+uhYPZMZEUCJEACDxFITk5B3QnrceVOnPz71E5V0aGmDymRgEMQ4Pxc+zAzAdY+BsoUcIApQ0vDJEACTyAwd8spfLoy0vRJ0VyZ5UpwgWxMgvnAkAAJ/Edg37mbaPPNFvkHcejzzpFNkTOLOxGRgEMQ4Pxc+zAzAdY+BsoUcIApQ0vDJEACTyHw/aYojF112PSpuBpJJMH5snqSGQmQAAlIAlPXHsWMDSfkf9cplhOL36lHMiTgMAQ4P9c+1EyAtY+BMgUcYMrQ0jAJkMAzCMzZeBLj/zpiqlEidxZ8/0YtlMjjRW4kQAIkgObTNuJI9B1JYkTL8nirUQlSIQGHIcD5ufahZgKsfQyUKeAAU4aWhkmABJ5D4NvQk5i05r8kWJzyOrZtJbSvwff8+PCQgCMTOHc9Bg0nh5gQhAz0h9gpwkICjkKA83PtI80EWPsYKFPAAaYMLQ2TAAmYQeCbkBOY8vfRh2q2r1EIY9pUQhYPVzMssAoJkIC9EXjwrICSebJg/Uf+9uYi/SGBZxLg/Fz7B4QJsPYxUKaAA0wZWhomARIwk8Cag9EY8tt+3LqfYGohVntmdK2OSoWymWmF1UiABOyFwCvfb8eWE/9Id3o3LoFhLcrbi2v0gwTMIsD5uVmYlFZiAqwUr7bGOcC05c/eSYAEUglcuHkfH/y6BzvP3DAhcXdxxrCW5dDdrxicnJyIigRIwAEIiC/Cao5Zh8TkFOntb33qoWbRnA7gOV0kgf8IcH6u/dPABFj7GChTwAGmDC0NkwAJpJNAYlIypgUfxzehJ5CSOveVJah8XkzpWBU5eAVKOomyOgkYj8DyvRfwwf/2SuG5srgjYkQQXMQ9SCwk4EAEOD/XPthMgLWPgTIFHGDK0NIwCZBABglsPXENHyzai6t34kwW8mf1xFcvV4NviVwZtMpmJEACRiDQ79c9WLnvopTaqaYPpnSqagTZ1EgCViXA+blVcWbIGBPgDGEzRiMOMGPEiSpJwNEIXLsbh4FL9iH06FWT62IR6P3A0ujXpDRXhBztgaC/DkEgPjFZbn++E5co/Z3zWk28UDG/Q/hOJ0ngQQKcn2v/PDAB1j4GyhRwgClDS8MkQAIWEkhOTsEPm0/Jq5LS3gcUJn2L58S0l6uhQLZMFvbA5iRAAnoisPn4Nbz6Q7iU5OHqjD0fN0Vmd54Gr6cYUYttCHB+bhvOz+qFCbD2MVCmgANMGVoaJgESsBKBfeduQmyLPHs9xmQxR2Y3fN6pKgLL57NSLzRDAiSgNYHRKw5h3tbTUkZgubz4oXttrSWxfxLQhADn55pgf6hTJsDax0CZAg4wZWhpmARIwIoE7sQmYPjvB03vBqaZ7lG/GIa2KAcPVxcr9kZTJEACtiaQkpKCBpNC5InwokxoXxld6xSxtQz2RwK6IMD5ufZhYAKsfQyUKeAAU4aWhkmABKxMQEyQl+w8j49XHERsQrLJ+otVC8o7g1lIgASMSyDy4m20nL7J5EDEiEDk9fY0rkNUTgIWEOD83AJ4VmrKBNhKIPVohgNMj1GhJhIggWcROHHlDt77ZQ+ORN8xVds0OACFc2YmOBIgAYMSmL7+OL5Yd0yqr1Y4O/7oW9+gnlA2CVhOgPNzyxlaaoEJsKUEddyeA0zHwaE0EiCBpxKITUhCy682IeraPVln4Atl8F6T0iRGAiRgUAIvfb0Z+8/fkuoHNSuLvgGlDOoJZZOA5QQ4P7ecoaUWmABbSlDH7TnAdBwcSiMBEngmgRnrj2PqvytGpfJ6Yd2ARnByciI1EiABgxGIvhWLuhPWm1SvHdAIZfJ5G8wLyiUB6xHg/Nx6LDNqiQlwRskZoB0HmAGCRIkkQAJPJHD2nxg0mhJi+uzPfg1QqVA20iIBEjAYgZ+3n8HIPw5K1UVyZkbYIH9+mWWwGFKudQlwfm5dnhmxxgQ4I9QM0oYDzCCBokwSIIEnEujw7VbsOnNDfvZWw+IY0aoCSZEACRiMQPe5EQg9elWq7lm/OD5+kePYYCGkXCsT4PzcykAzYI4JcAagGaUJB5hRIkWdJEACTyKwYNtpjFp+SH6UL6sHtg4NhIszt0HzaSEBoxC4F5eI6p+tQ3xS6snuv7zlC7+SuY0inzpJQAkBzs+VYE2XUSbA6cJlrMocYMaKF9WSAAk8TOD6vXjUGReMxOQU+cHCXr6oX4qTZz4nJGAUAqsPXEKfhbul3GyZ3LBzZBDcXJyNIp86SUAJAc7PlWBNl1EmwOnCZazKHGDGihfVkgAJPE6g57wd2HDkivygU00fTOlUlZhIgAQMQuDDxXuxbPcFqbZttYKY9jLv9DZI6ChTIQHOzxXCNdM0E2AzQRmxGgeYEaNGzSRAAg8SWL73Aj743175J28PV+wYGQRPNxdCIgES0DmBxKRk1B4XjBsxCVLp192qo3WVgjpXTXkkoJ4A5+fqGT+vBybAzyNk4M85wAwcPEonARKQBGLiE1FrbDBi4pPk7zNfqYGWlQuQDgmQgM4JRJy6js6zt0mVbi5O2D2qKbw93XSumvJIQD0Bzs/VM35eD0yAn0fIwJ9zgBk4eJROAiRgIvDhor1Ytid1G+ULFfJhzuu1SIcESEDnBMatisR3m05JlQ1L58aCN311rpjySMA2BDg/tw3nZ/XCBFj7GChTwAGmDC0NkwAJ2JBA2LGreOPHCNmju4szIkYEIntmdxsqYFckQALpIZCSkoKAz0Nx+p8Y2eyzNhXxer1i6THBuiRgtwQ4P9c+tEyAtY+BMgUcYMrQ0jAJkIANCYh3CetOWI9rd+Nlr+PbVUY33yI2VMCuSIAE0kPgxJW7CPoizNRky9AmKJQ9U3pMsC4J2C0Bzs+1Dy0TYO1joEwBB5gytDRMAiRgYwKjVxzCvK2nZa91iufE4t71bKyA3ZEACZhL4NvQk5i05oisXrFgVqx6v6G5TVmPBOyeAOfn2oeYCbD2MVCmgANMGVoaJgESsDGBveduou03W0y9ckXJxgFgd+3+L1EAACAASURBVCSQDgIdvt2KXWduyBYfBJbGgKZl0tGaVUnAvglwfq59fJkAax8DZQo4wJShpWESIAEbE3j0ncIhzcuhj39JG6tgdyRAAs8jcO1unLz+KCUlteaf/RqgUqFsz2vGz0nAYQhwfq59qJkAax8DZQo4wJShpWESIAENCEwLPoZpwcdlz+Xye2NN/0YaqGCXJEACzyKweOc5DF66X1YpkM0TW4c2gZOTE6GRAAn8S4Dzc+0fBSbA2sdAmQIOMGVoaZgESEADAqev3YP/56Gmnld/0BDlC2TVQAm7JAESeBqBt+bvxLrIy/Lj1+oWxZi2lQiLBEjgAQKcn2v/OOgqAd61axfWrVuHiIgI+XPhQuq9j2LrW3pKYmIixo4dix07duDw4cO4evUqEhISULhwYTRt2hRDhgxB0aJFHzM5b948rFmzBvv27cPly5dx9+5d5M6dG35+fhgwYADq16//WJuNGzdiwYIFENqF3hs3bsDLywtVq1ZFz5498eqrrz71m89Dhw5h9OjRCA0NlX2VKlUKb775Jt5//304Ozunx+Un1uUAsxghDZAACeiMQJtvtmDfuZtSVe/GJTCsRXmdKaQcEnBcArEJSaj22VrEJiRLCD/1rIPGZfI4LhB6TgJPIMD5ufaPha4S4LZt22L58uWPUUlvAiySSW9vb5mIVqlSBQULFkR8fDz27t2Ls2fPImvWrFi/fj1q1ar1UF/id5H8Vq5cGT4+PvD09MTRo0exf/9+mcTOnDkT77zzzkNtBg4ciKlTp6JMmTIoXrw4cuTIIRPhrVu3IikpCV27dsUvv/zymE/btm1DYGAg7t+/jzp16qBYsWIQyXR0dDQ6deqERYsWWbxliANM+wFGBSRAAtYlMHfLKXy6MlIaLZjNE5uHNIGzM7dXWpcyrZFAxgisP3wZb/60Uzb28nDFrlFB8HB1yZgxtiIBOyXA+bn2gdVVAjxp0iTcu3cPtWvXlj8iKYyLi8vQCnB4eDh8fX3h6upqoiwS0pEjR2LixImoWbMmdu5M/Uc6rYg2FSpUkMnzg2XFihVo37493NzccO7cObkqnFYiIyORPXt2mWQ/WE6cOIFGjRrh0qVLWLlyJVq3bm36WKxGly1bFqdOncIXX3whV5dFEYn7Cy+8AJEcz507F927d7foCeEAswgfG5MACeiQwNU7cfJO4KTk1J1B/3u7LuqWyKVDpZREAo5HYOhv+/G/Heek460qF8A3r9RwPAj0mASeQ4Dzc+0fEV0lwI/iECuwGUmAn4VVbI8WCW5sbCxu3ryJbNnMO5kwKChIrhqLFeqXXnrJrMiJbdijRo2SCa5IdNPK4sWL0aVLF7lNWqxKP1h2794tk/NKlSrhwIEDZvXztEocYBbhY2MSIAGdEnjjxwiEHbsq1XWtUxgT2lfRqVLKIgHHIZCcnII649dDnAItypddqqJddR/HAUBPScBMApyfmwlKYTWHS4DFKrBIemNiYuRqc6ZMmczC26JFC/l+8OrVq9G8eXOz2ogV7aFDh8p3jsWqc1p54403MH/+fIwZM0auSD9aSpYsiaioKLlCLFbBM1o4wDJKju1IgAT0TOD3PecxYNE+KTGrpyt2jOQ2Sz3Hi9ocg8CeszfQbuZW6ayLsxN2jQxC9szujuE8vSSBdBDg/DwdsBRVdagEWLxLPGHCBIwYMQJNmjSRK7rmFFGvZcuWyJIli0xMxZbn5xWxVVpsgT59+jTCwsLkf6eVatWqyXeNV61aJe0+WsQ7wEuXLk3XavOT9HCAPS9K/JwESMCIBO7FJaLW2GDcT0iS8me9WhPNK+U3oivUTAJ2Q2DK30fwTchJ6U/dEjnxv7fr2Y1vdIQErEmA83Nr0syYLbtPgMXqqzjR+fbt2/Iwq5MnT6J8+fIy+RSHVj2piPdvRdIqtkmL+uJdYbFqLA6matas2RPbiPd2Z8+eLQ++unjxIjZv3gyx3fqzzz6TCfeDJWfOnPK0aJEEi0O6Hi1iy/S0adMwffp09OvXL2ORBcABlmF0bEgCJKBzAu//ugcr9l2UKltUyo9vX62pc8WURwL2TeCFL8Nw7PJd6eTIVuXRq2EJ+3aY3pFABglwfp5BcFZsZvcJsLhaSCSxaUUknD///LM86flppVevXvjhhx9MH4uE9bvvvpMHYT2tCJuvvfaa6WMXFxd8+umnEKdEe3h4PNTM3d1dXst0/PhxefXRo0Vsix43bpz8GT58+HPDnTaQHq0o/BbbqcV1SywkQAIkYE8ENhy5jJ7zUg8ydHd1xs6RQcjq6WZPLtIXEjAMgTP/3EPjKf/d0R02yB9Fc2UxjH4KJQFbEmACbEvaT+7L7hPgNLevXbsm7+oVq7FiJVgktOJd3GcVcSqzuAZp8uTJEAdXvfXWW5gzZ84z24jrlsS2Z/GO75QpU1C9enX53rC4HimtMAHW/sGnAhIgAWMTSEhKhu/49bh+L146MrlDFXSuXdjYTlE9CRiUwA+bT2HMn6nXk5XO64V1HzY2qCeUTQLqCTABVs/4eT04TAKcBuLWrVty9VckxCK5LVzYvAlTmzZtIK5DEu/mdujQ4Xlc5efi5OePPvoI7733HmbMmGFqwy3QZuFjJRIgARJ4JoGPlx/E/G1nZB2/krnwy1t1SYwESEADAl3nbMe2qH9kz+/6l8Tg5uU0UMEuScAYBJgAax8nh0uABfK+ffti5syZcptzz549zYrCkiVL0LlzZ7nNWazumlOuXr2KvHnzyiT77NmzpiY8BMsceqxDAiRAAs8msOvMDXT4NvXUWScnYNvQQOTP5klsJEACNiRwMyYeNccGm+7mXvauH2oU+W/Xmw2lsCsSMAQBJsDah8khE+BPPvlEHk4lriYSh2SZU0JCQuTJ0eIKJLGl2ZwiDsQS253Fz/37901NeA2SOfRYhwRIgASeTUCc7C/eOzx7PUZWHN6yHN5uVJLYSIAEbEjgt13n8dGS1GvJcnt5IGJ4IJydnWyogF2RgLEIMAHWPl4OmQD7+/vLU57Fqm7Hjh3NisLo0aPloVZi9fjrr782q01oaCgCAgLkacwHDx40tRHvE3fp0gVVq1bF3r17H7K1Z88e1KhRA5UqVcKBAwfM6udplTjALMLHxiRAAgYgMHXtUczYcEIqrVAgK/76oKEBVFMiCdgPgd4LduLvQ5elQ13rFMGE9k8/ZNR+vKYnJJBxApyfZ5ydtVoaOgEWiaj4adeunbzfN62IK47EoVN+fn4PcYqJiZEnK48fPx758+eXpzB7eXnJOocPH5YJZ9u2beWKbVoRKwzi+iOxVVpcixQeHo7atWubPhcHXYlTox885Ep8uGPHDnTr1g0nTpzA559/Lt8FTiviBOiyZcvi1KlT8j1hce2RKPfu3UPTpk0hrlQSVzF1797dojhzgFmEj41JgAQMQODElbsI+iLMpHTdgEYonc/bAMopkQSMT+B+fBKqj1mL2IRk6czcHrURUDav8R2jBySgkADn5wrhmmlaVwmwSFzHjBljkh4REQGRgPr6+pr+NmrUKLRq1Ur+nrYqK7YUz5s3z1Qn7e+FChWCeN9W3OEbHR0tV1uvX78uf1+5ciUaNvxvpSBttVZ8VrNmTZkg37x5E5GRkfJUZ2dnZ0ydOhX9+/d/CK2Tk5NMmMVpz8WKFYM4BToqKkre8SuKeG944cKFcHV1fajd1q1bERQUJLdGC/+KFi2KTZs24dKlS3JVWqwSC9uWFA4wS+ixLQmQgFEItJ6xCQcv3JZy+waUxKBmPIDHKLGjTmMTWBd5GW/NT72OzMvDFbtGBcHD1cXYTlE9CSgmwPm5YsBmmNdVAiyS2B49ejxT9oMro09LgMU1Rz/99JNMKM+cOSOT3kyZMsk7d8U7vP369UOBAgUe6kccWDVr1iyIRPjYsWMQv4uk18fHRybKYuuz2Jr8aBEr0OL9YJFcX758Wd7vmydPHtSqVUuu4IoV5acVcT+veB9Z9ClWf8WdvW+++SY++OAD2belhQPMUoJsTwIkYAQC32+KwthVh6VUnxyZsHFQAN9BNELgqNHwBAYt2Yclu85LP1pXKYCvuz0+TzK8k3SABKxMgPNzKwPNgDldJcAZ0M8mzyDAAcbHgwRIwBEIXLkdi7oT1iM5JdXbJe/UQ+1iOR3BdfpIApoRSExKRu1xwbgRkyA1TO9aHS9VLaiZHnZMAkYhwPm59pFiAqx9DJQp4ABThpaGSYAEdEbg1e/DsfnENanqFd8iGNeOB/HoLESUY2cEwqP+QZc526VXbi5O2DWqKbJ6utmZl3SHBKxPgPNz6zNNr0UmwOklZqD6HGAGChalkgAJWERgyc5zGLR0v7SRPbMbIoYHwd3V8ldJLBLFxiRgxwTG/BmJHzafkh42KpMH83vWsWNv6RoJWI8A5+fWY5lRS0yAM0rOAO04wAwQJEokARKwCoE7sQmoNTYYcYmpp9F+/3otBFXIZxXbNEICJPAwAXFAaaMpITh3/b78YGzbSni1blFiIgESMIMA5+dmQFJchQmwYsBamucA05I++yYBErA1gb4Ld2PVgUuyWx7IY2v67M+RCERevI2W0zeZXA4fHoh8WT0dCQF9JYEME+D8PMPorNaQCbDVUOrPEAeY/mJCRSRAAuoIPHgli4erM3aODII330lUB5yWHZbAtOBjmBZ8XPpfrXB2/NG3vsOyoOMkkF4CnJ+nl5j16zMBtj5T3VjkANNNKCiEBEjABgTiE5NRZ3wwbv57Km31ItnRukpBNC2fD0VyZbaBAnZBAo5BoOVXmxB5KfXu7cHNy+Jd/1KO4Ti9JAErEOD83AoQLTTBBNhCgHpuzgGm5+hQGwmQgAoCw38/gF/Czz5mumw+bwRVyIug8vlQ1Sc77wlWAZ82HYLAuesxaDg5xORr8IeNUSqvl0P4TidJwBoEOD+3BkXLbDABtoyfrltzgOk6PBRHAiSggICYnL/6QzjO/BPzVOt5vD0QVD41Ga5fKjc83VwUKKFJErBPAj9uPoXP/oyUzpXMkwXrP/K3T0fpFQkoIsD5uSKw6TDLBDgdsIxWlQPMaBGjXhIgAWsQSE5Owd7zNxEceRniveDjV+4+1WwmNxc0LJ1bnhgdWC4vcnl5WEMCbZCA3RJ4ec42bI+6Lv3r418SQ5qXs1tf6RgJqCDA+bkKqumzyQQ4fbwMVZsDzFDholgSIAFFBE5fu4fgw5flz47TN5CUnPLEnpycgJpFcqB9DR90rVMYTuIPLCRAAiYCN+7Fo+bYdUgbQr+/64fqRXKQEAmQQDoIcH6eDliKqjIBVgRWD2Y5wPQQBWogARLQEwExgQ89dgXBkVcQevQK7sUnPVHel12qol11Hz1JpxYS0JzA0l3nMXDJPqkjr7cHtg8L5Pv0mkeFAoxGgPNz7SPGBFj7GChTwAGmDC0NkwAJ2AGBuMQkuZVTbJUWq8OXbsWavCqUPRM2DGwMD1e+H2wHoaYLViLw9vydWBt5WVp7xbcIxrWrbCXLNEMCjkOA83PtY80EWPsYKFPAAaYMLQ2TAAnYGYGUlBS5Pbrbd9uR+O/+zo9bV0DPBsXtzFO6QwIZI3A/PgnVx6xFbEKyNPBTzzpoXCZPxoyxFQk4MAHOz7UPPhNg7WOgTAEHmDK0NEwCJGCnBD5efhDzt52R3uXM4o6NgwPg5eFqp97SLRIwn8Dfh6LRe8Eu2cDbwxW7RjWFu6uz+QZYkwRIQBLg/Fz7B4EJsPYxUKaAA0wZWhomARKwUwJX78Sh8ZQQxPz7bnD/oNLoH1TGTr2lWyRgPoGPFu/Db7vPywYvVi2IGV2rm9+YNUmABEwEOD/X/mFgAqx9DJQp4ABThpaGSYAE7JjA1LVHMWPDCelhFncXhA0OQG5ej2THEadrzyOQmJSMWuOCcTMmQVYVya9IgllIgATST4Dz8/Qzs3YLJsDWJqojexxgOgoGpZAACRiGwO3YBDSeHIIb/072e9Qvhk9erGgY/RRKAtYmsO3kP+j63XZp1t3FGbtGBcHb083a3dAeCTgEAc7PtQ8zE2DtY6BMAQeYMrQ0TAIkYOcEvt8UhbGrDpsm/Os/aozCOTPbudd0jwSeTODTlYcwd8tp+aF/2TyY16MOUZEACWSQAOfnGQRnxWZMgK0IU2+mOMD0FhHqIQESMAqB2IQkBHwearoaqX2NQviiczWjyKdOErAaAXFCeoNJIbhw8760Ob5dZXTzLWI1+zREAo5GgPNz7SPOBFj7GChTwAGmDC0NkwAJOACBxTvOYfBv+6WnTk7Amg8aoWx+bwfwnC6SwH8EDl28hVbTN5vGQfjwQOT19iQiEiCBDBLg/DyD4KzYjAmwFWHqzRQHmN4iQj0kQAJGIiAO/mn+1SacuHJXyg4qnw/fv1HLSC5QKwlYTODLdcfw1frj0k6NItmx7N36FtukARJwZAKcn2sffSbA2sdAmQIOMGVoaZgESMBBCKw5GI13fk69+1SUpe/UQ61iOR3Ee7pJAkCLrzbh8KXbEsXQFuXwTuOSxEICJGABAc7PLYBnpaZMgK0EUo9mOMD0GBVqIgESMBIB8f5ju5lbsffcTSm7drEcWNy7HpzEnmgWErBzAueux6Dh5BCTlxs+aowSebzs3Gu6RwJqCXB+rpavOdaZAJtDyaB1OMAMGjjKJgES0BWBB6+AEcLmdq+NgHJ5daWRYkhABYEHT0MvldcLwR82VtENbZKAQxHg/Fz7cDMB1j4GyhRwgClDS8MkQAIORuD1HyOw8dhV6XW5/N746/2GcHbmKrCDPQYO527n2dsQceq69Ptd/5IY3LycwzGgwyRgbQKcn1ubaPrtMQFOPzPDtOAAM0yoKJQESEDnBA5euIXWM1JPwhVlWpdqaFu9kM5VUx4JZJzAP3fjUHtcMJJTUm380bc+qhXOnnGDbEkCJCAJcH6u/YPABFj7GChTwAGmDC0NkwAJOCCBfr/uwcp9F6XnhXNmwvoP/eHu6uyAJOiyIxBYvPMcBi9NvQYsf1ZPbB3ahLseHCHw9FE5Ac7PlSN+bgdMgJ+LyLgVOMCMGzsqJwES0B+B09fuIeiLMCT+uyT26UsV8YZfMf0JpSISsAKBXj/tRPDhy9LSa3WLYkzbSlawShMkQAKcn2v/DDAB1j4GyhRwgClDS8MkQAIOSmDE7wewMPys9D63lzvCBgUgi4erg9Kg2/ZKICY+EdU/W4e4xGTp4oI366Bh6Tz26i79IgGbEuD83Ka4n9gZE2DtY6BMAQeYMrQ0TAIk4KAErtyORaMpIYhNSE0MPmpaBv0CSzsoDbptrwQevP/a29MVu0Y25XZ/ew02/bI5Ac7PbY78sQ6ZAGsfA2UKOMCUoaVhEiABByYwec0RzAw9KQl4ebhi4+AA5Mzi7sBE6Lq9Efhw8V4s231ButWmWkF89XJ1e3OR/pCAZgQ4P9cMvaljJsDax0CZAg4wZWhpmARIwIEJ3LqfgEaTQyD+V5ReDYpjZOsKDkyErtsTgYSkZNQaG2x6vr/pVgOtqhSwJxfpCwloSoDzc03xy86ZAGsfA2UKOMCUoaVhEiABBycwO+wkJqw+Iim4uzgjZJA/CmXP5OBU6L49ENh64hq6fR9uerZ3f9xU7nRgIQESsA4Bzs+tw9ESK0yALaGn87YcYDoPEOWRAAkYlkBsQhIaTwnB5dtx0odONX0wpVNVw/pD4SSQRmD0ikOYt/W0/DWgbB7M7VGHcEiABKxIgPNzK8LMoCkmwBkEZ4RmHGBGiBI1kgAJGJXArxFnMWzZASnf2Qn4u38jlM7nbVR3qJsEkJKSgvoTN+DirVhJY0L7yuhapwjJkAAJWJEA5+dWhJlBU0yAMwjOCM04wIwQJWokARIwKoHEpGS88OVGRF27J114oUI+zHm9llHdoW4SwMELt9B6xmZJwskJiBgehDzeHiRDAiRgRQKcn1sRZgZNMQHOIDgjNOMAM0KUqJEESMDIBP46cAnvLtxtcmHZu36oUSSHkV2idgcm8MXao5i+4YQkUKtoDizt4+fANOg6CaghwPm5Gq7pscoEOD20DFaXA8xgAaNcEiABwxEQW0bbfLMF+8/fktp9i+fE/96uCyexfMZCAgYj0HzaRhyJviNVD29ZDm83KmkwDyiXBPRPgPNz7WPEBFj7GChTwAGmDC0NkwAJkICJwJYT1/DKv6fmij9+1qYiXq9XjIRIwFAEzvxzD42nhJo0hwz0R/HcWQzlA8WSgBEIcH6ufZSYAGsfA2UKOMCUoaVhEiABEniIwGs/hGPT8Wvyb2Lx9+uuvDuVj4ixCHy/KQpjVx2Wosvk88LaAY2N5QDVkoBBCHB+rn2gmABrHwNlCjjAlKGlYRIgARJ4iMClW/fRfuZWXPr39FxxN/C8HrXhVyo3SZGAIQh0mrUVO07fkFrfCyiFgc3KGkI3RZKA0Qhwfq59xJgAax8DZQo4wJShpWESIAESeIzA8ct30Gn2NtyMSZCfeXm4yveBKxXKRlokoGsC1+7Gofa4YKSkpMpc8V59VPHJrmvNFEcCRiXA+bn2kWMCrH0MlCngAFOGloZJgARI4IkEdp25gVe+347YhGT5eW4vd/zWxw9Fc/FdSj4y+iWwaMdZDPkt9U7r/Fk9sW1YEx7kpt9wUZnBCXB+rn0AmQBrHwNlCjjAlKGlYRIgARJ4KoENRy7jrfm7kJScupxWJGdmmQTzPlU+NHol8Oa8HVh/5IqU93q9ovisTSW9SqUuEjA8Ac7PtQ8hE2DtY6BMAQeYMrQ0TAIkQALPJPDbrvP4aMk+U52KBbPK7dDenm4kRwK6InAvLhHVx6xDfGLqroWf3/RFg9J8d11XQaIYuyLA+bn24WQCrH0MlCngAFOGloZJgARI4LkEZoedxITVR0z16pXIhXk9a8PD1eW5bVmBBGxFYPWBS+izcLfsLqunK3aNago3F2dbdc9+SMDhCHB+rn3ImQBrHwNlCjjAlKGlYRIgARIwi8C4VZH4btMpU92WlfNjRtcacHF2Mqs9K5GAagIDFu3F73suyG7aVS+EL7tUU90l7ZOAQxPg/Fz78DMB1j4GyhRwgClDS8MkQAIkYBaB5OQUuRU6LcEQjV6rK96xrMhDhswiyEoqCcQmJKH22GDciUuU3Xz7Sg20qFxAZZe0TQIOT4Dzc+0fASbA2sdAmQIOMGVoaZgESIAEzCaQkJSMXj/tRNixq6Y2A4LK4IOg0mbbYEUSUEHgrwOX8O6/258zu7tg58ggZHZ3VdEVbZIACfxLgPNz7R8FJsDax0CZAg4wZWhpmARIgATSRSAmPhFdvwvHvnM3Te3GtauEV3yLpssOK5OANQm8NX8n1kVelia5/dmaZGmLBJ5OgPNz7Z8OJsDax0CZAg4wZWhpmARIgATSTeD6vXh0nLUVUVfvybbiNeCZr9RA80rccppumGxgMYGbMfGoPS4YCUmp13X91LMOGpfJY7FdGiABEng2Ac7PtX9CdJUA79q1C+vWrUNERIT8uXAh9VCGlJTUf5zNLYmJiRg7dix27NiBw4cP4+rVq0hISEDhwoXRtGlTDBkyBEWLPv6t+7x587BmzRrs27cPly9fxt27d5E7d274+flhwIABqF+//mMShOaVK1di7dq1iIyMRExMDPLly4fGjRtj8ODBqFKlymNtTp8+jeLFiz/VHdE+OjraXHefWo8DzGKENEACJEACViVw4eZ9dJi5FdG3Y6Vdd1dnzO9ZB3VL5LJqPzRGAs8j8Ev4WQz//YCsltvLHduHBcKVpz8/Dxs/JwGLCXB+bjFCiw3oKgFu27Ytli9f/phT6U2AReLq7e0NLy8vmYAWLFgQ8fHx2Lt3L86ePYusWbNi/fr1qFWr1kN9id9F8lu5cmX4+PjA09MTR48exf79++VhJTNnzsQ777xjaiMSbTe31Dsdc+bMCV9fX2TJkgV79uzByZMn4e7ujoULF6Jjx44P9ZOWAItEt3nz5o/5my1bNnz11VcWB5cDzGKENEACJEACVidwNPoOOs3aituxqQcPeXu4YlHveqhQMKvV+6JBEngagc6ztiHi9HX5cXe/Yhj9UkXCIgESsAEBzs9tAPk5XegqAZ40aRLu3buH2rVry59ixYohLi4uQyvA4eHhMiF1df3vMIekpCSMHDkSEydORM2aNbFz586H8Ig2FSpUkMnzg2XFihVo3769THbPnTsnV4VFEQmwWB0eMWIEWrduDReX1Lsdk5OT8fHHH2PcuHHSVlRUlKmN+DwtARarxKGhocqeAg4wZWhpmARIgAQsIrDj9HW8+n044hKTpZ083h747R0/FMmV2SK7bEwC5hA4fyMGDSaFmKou71sfVQtnN6cp65AACVhIgPNzCwFaobmuEuBH/RErsBlJgJ/FRSStIimNjY3FzZs3IVZbzSlBQUFy1VisUL/00kvPbSJWrcuXLy9XkMXW6jfeeMPUhgnwc/GxAgmQAAnYPYHgyMvo/fMuJCWnvuZTLFdm/NG3PrJndrd73+mgtgRmhp7A5DVHpYjiubNgw0eNeS2XtiFh7w5EgAmw9sF2uARYrAKLpFe8qytWmzNlymRWFFq0aCHfD169evUTty0/yUjnzp2xZMkSjB8/HsOGDWMCbBZpViIBEiABxyGweMc5DP5tv8nh3o1KYFjL8o4DgJ7anID4gr7ZtI04dvmu7Lt/UGn0Dypjcx3skAQclQATYO0j71AJsPhHf8KECXLLcpMmTeSKrjlF1GvZsqV8v1dsZ86e3bxtQuKdYnFI1o8//ogePXo8lgCXK1cOIkm+dOmSTMrFlm2xuizeHbZG4QCzBkXaIAESIAG1BKauPYoZG07ITsT7wFuHNYG3Z+r5EiwkYG0CkRdvo+X0TSazoQP9USx3Fmt3Q3skQAJPIcD5ufaPht0nwOLEZ3Gi8+3bt+VhVuJwKrE1edWqVU89iXnu3LkICwuT26RFffGusEhQFy1amPhcOQAAIABJREFUhGbNmpkVtc2bN6Nhw4YymRVbngsU+O+ai2edAl2kSBG5alynTh2z+nlWJQ4wixHSAAmQAAkoJ3A3LhH1JqzHnX8PxRrZqjx6NSyhvF924JgEJvx1GLM3RknnqxXOLrfds5AACdiOAOfntmP9tJ7sPgEuVaqUTGLTijgV+ueff5YnPT+t9OrVCz/88IPpY3HC83fffScPwjKniGRbrP4eP35cXrkkDt16sIgV3zFjxqBLly4yGRfbsA8dOiT/9tdff8kVZnFi9ZOuanpS/2kD6dHPhN8lS5aUtllIgARIgAT0S2Di6iOYFZb6/1UFs3kibHAA3HgljX4DZlBlyckp8Ju4wXQN1+gXK6B7/adfy2hQNymbBHRNgAmw9uGx+wQ4DfG1a9fkdmSx/VmsBIuE9sGDqZ4UCnGdkjjEavLkyVi8eDHeeustzJkz55lRE+8Yi+uc/vzzT7mKu2nTpnRtaX7llVfwyy+/4O2338bs2bPNekKYAJuFiZVIgARIQLcEom/FouHkDUhISj0Q66uXq6FNtUK61UthxiSw9eQ1dPsuXIp3cXZC+PBA5PbyMKYzVE0CBiXABFj7wDlMApyG+tatW3L1VyTEIrktXLiwWVFo06YNxHVIS5cuRYcOHZ7aRiSuIrkuW7YsxDbotCuTzOoEkKu1lSpVkqu/Yqu0JYUDzBJ6bEsCJEACtiXw0eJ9+G33edlphQJZser9BjyZ17YhsPvehizdj0U7z0k//cvmwbwelr9uZffQ6CAJWJkA5+dWBpoBcw6XAAtGffv2xcyZM+U25549e5qFTbyXKw6seu211zB//vwnthk6dCjEXcYiqd6yZYvZyfWDxuLj4+Hh4SFXjcUVUJYUDjBL6LEtCZAACdiWwJHo22g+7b/DiRb28kX9Uqn3zrOQgKUEYhOSUHtcsOld82ldqqFtde4ysJQr25NAeglwfp5eYtav75AJ8CeffILPPvtMvpsr3tE1p4SEhMiTo5s3by6vQnq0iG3SwlbevHmxceNGuQKckSIO7MqfPz9y5MiB69evZ8SEqQ0HmEX42JgESIAEbE7gjR8jEHbsquy3cZk8+KknV+hsHgQ77XD1gUvos3C39C6zuwt2jgxCZndXO/WWbpGAfglwfq59bBwyAfb395enPItV3Y4dO5oVhdGjR+PTTz+Vq8dff/31Q23Elmex9VkcXiUS5WrVqpll80mVxMq06CMwMBDBwcEZtiMacoBZhI+NSYAESMDmBLacuIZXvk99R1OUv/s3Qtn83jbXwQ7tj0DvBTvx96HL0rG21Qpi2svV7c9JekQCBiDA+bn2QTJ0AiwSUfHTrl07eb9vWhFXHIkVVD8/v4cIx8TEYNy4cRg/frxcZRWnNHt5eck6hw8fxoEDB+QBVg/ewyvuDhbXH4mt0uJapPDwcNSuXdtkV7wTLE5zzpw5M9auXYt69eo9N6oiYRZXJIl7gB8sy5YtQ/fu3XHnzh2I/xZ+WVI4wCyhx7YkQAIkYHsC4v9zWk3fjMhLt2XnHWr4YGrnqrYXwh7tisCtmAS5/Tk+KVn6NbdHbQSUzWtXPtIZEjAKAc7PtY+UrhJgkbiKq4DSSkREBMRkwNfX1/S3UaNGoVWrVvL3tFVZcZrzvHnzTHXS/l6oUCG5Givu8I2OjpZXC4ltxeL3lStXyiQ0rYSGhiIgIEB+VrNmTZkg37x5E5GRkfIwKmdnZ0ydOhX9+/c3tbly5Yp8z1e8tysO1qpRo8YTIyqSavGTVtJWoMWVTGXKlEFycrLs58iRI7LKoEGD5MnTlhYOMEsJsj0JkAAJ2J7AH3suoP+ivbJjNxcnbBrcBPmzedpeCHu0GwK/RpzFsGUHpD+5srjL059dec2W3cSXjhiLAOfn2sdLVwmwSGJ79OjxTCpz586Vq6TPSoDFNUc//fSTvILozJkzMukVd+2KO4HFO7z9+vVDgQIFHurn6tWrmDVrFkQifOzYMYjfRdLr4+MjE2WxLfnRBFckxsWLP//+PPHOsUjK08rChQvxxx9/yIRcJNH3799Hnjx5ULduXfTp0wdBQUFWeTI4wKyCkUZIgARIwKYEEpKS0XhyCC7eipX9vtO4JIa2eHjHkE0FsTPDE+gyexvCT6WeK9LdrxhGv1TR8D7RARIwKgHOz7WPnK4SYO1x2JcCDjD7iie9IQEScBwC32+KwthVh6XD3p6u2DYsEF4ePLDIcZ4A63l64eZ91J+4wWTw93f9UL1IDut1QEskQALpIsD5ebpwKanMBFgJVn0Y5QDTRxyoggRIgATSS+BObAL8JmzAnbhE2XRkq/Lo1bBEes2wPgng29CTmLQm9RWrorkyI3SgP++X5nNBAhoS4PxcQ/j/ds0EWPsYKFPAAaYMLQ2TAAmQgHICE/46jNkbo2Q/hbJnQuggf7jxvU3l3O2tg+bTNuJI9B3p1geBpTGgaRl7c5H+kIChCHB+rn24mABrHwNlCjjAlKGlYRIgARJQTiD6ViwaTNqAxOQU2ddXL1dDm2qFlPfLDuyHwJHo22g+bZPJoZCB/iieO4v9OEhPSMCABDg/1z5oTIC1j4EyBRxgytDSMAmQAAnYhMCHi/di2e4Lsq+KBbPiz34NuH3VJuTto5OJq49gVthJ6UxVn2xY/l4D+3CMXpCAgQlwfq598JgAax8DZQo4wJShpWESIAESsAmBw5duo8VX/63g/dLLF36lctukb3ZibALJySlyB0HaaeKfvFgBPeo//+YKY3tN9SSgfwKcn2sfIybA2sdAmQIOMGVoaZgESIAEbEbg9R8jsPHYVdmff9k8mNejjs36ZkfGJbA96h+8PGe7dMDF2QnbhwUij7eHcR2ichKwEwKcn2sfSCbA2sdAmQIOMGVoaZgESIAEbEZg8/FrePWHcFN/f/dvhLL5vW3WPzsyJoFhy/bj14hzUnyjMnkwvye/ODFmJKna3ghwfq59RJkAax8DZQo4wJShpWESIAESsBmBlJQUtJy+GWI7tCgda/rg805VbdY/OzIegbjEJNQeG4zbsanXaH3ZpSraVfcxniNUTAJ2SIDzc+2DygRY+xgoU8ABpgwtDZMACZCATQn8vuc8BizaJ/t0c3HC5iFNkC+rp001sDPjEFhzMBrv/LxLCs7k5oKdI4OQxcPVOA5QKQnYMQHOz7UPLhNg7WOgTAEHmDK0NEwCJEACNiWQkJSMRpNDcOlWrOy3j39JDGlezqYa2JlxCPT5eRdWH4yWgl+qWhDTu1Y3jngqJQE7J8D5ufYBZgKsfQyUKeAAU4aWhkmABEjA5gS+2xiFcX8dlv16e7pi27BAeHFVz+Zx0HuHt+4nyO3P8UnJUurc7rURUC6v3mVTHwk4DAHOz7UPNRNg7WOgTAEHmDK0NEwCJEACNidwJzYBfhM24E5c6nudo1pXwJsNeK2NzQOh8w4X7TiLIb8dkCpzZnFH+PBAuLk461w15ZGA4xDg/Fz7WDMB1j4GyhRwgClDS8MkQAIkoAmB8X8dxpyNUbLvQtkzIWyQP1yZ3GgSC7122nXOdmyL+kfKe71eUXzWppJepVIXCTgkAc7PtQ87E2DtY6BMAQeYMrQ0TAIkQAKaELh06z4aTgpBYnKK7F+82yne8WQhAUFAPB9+EzcgJfXxwLJ3/VCjSA7CIQES0BEBzs+1DwYTYO1joEwBB5gytDRMAiRAApoR+HDRXizbc0H2X6lQVqx8rwGcnJw008OO9UNgdthJTFh9RAoqmiszQgf689nQT3iohAQkAc7PtX8QmABrHwNlCjjAlKGlYRIgARLQjEDkxdtoOX2Tqf9f3vKFX8ncmulhx/oh0OKrTab7ot9vUgofvlBWP+KohARIgAmwTp4BJsA6CYQKGUyAVVClTRIgARLQnsBrP4Rj0/FrUkhA2TyY26OO9qKoQFMCR6PvoNm0jSYN6z9qjJJ5vDTVxM5JgAQeJ8D5ufZPBRNg7WOgTAEHmDK0NEwCJEACmhLYdPwqXvshwqRh7YBGKJPPW1NN7FxbApPWHMG3oSeliCo+2bDivQbaCmLvJEACTyTA+bn2DwYTYO1joEwBB5gytDRMAiRAApoSSElJgdjueiT6jtTRqaYPpnSqqqkmdq4dgeTkFDScHIILN+9LEbwiS7tYsGcSeB4Bzs+fR0j950yA1TPWrAcOMM3Qs2MSIAESUE5g2e7z+HDxPtmPm4sTtgxpgrxZPZX3yw70RyDi1HV0nr1NCnN2ArYPD0Rebz4L+osUFZEAD8HSwzPABFgPUVCkgQmwIrA0SwIkQAI6IBCfmIxGk0MQfTtWqnnXvyQGNy+nA2WUYGsCw5YdwK8RZ2W3DUvnxoI3fW0tgf2RAAmYSYDzczNBKazGBFghXK1Nc4BpHQH2TwIkQAJqCczZeBLj/0q99iZXFndsHdYEHq4uajuldV0REF+E1B4XjFv3E6SuqZ2qokNNH11ppBgSIIH/CHB+rv3TwARY+xgoU8ABpgwtDZMACZCALgjciklAnfHBiEtMlnqmd62Ol6oW1IU2irANgbWHovH2gl2yM083Z+wc2RReHq626Zy9kAAJpJsA5+fpRmb1BkyArY5UPwY5wPQTCyohARIgAVUEBi7Zh6W7zkvzvsVzYlHveqq6ol0dEnh34S78dSBaKnuxakHM6FpdhyopiQRIII0A5+faPwtMgLWPgTIFHGDK0NIwCZAACeiGwJ6zN9Bu5laTnuAPG6FUXl6JpJsAKRRyOzYBtcYGQ2yDFuWHN2ohsHw+hT3SNAmQgKUEOD+3lKDl7ZkAW85QtxY4wHQbGgojARIgAasREFcitZq+GZGXbkubPeoXwycvVrSafRrSL4HFO85h8G/7pcAcmd0QMSIIbi7O+hVMZSRAAuD8XPuHgAmw9jFQpoADTBlaGiYBEiABXRFYGH4GI34/KDVl9XRF+PAgZHLnYVi6CpKVxYgvPlpO34zD/37x8WrdIhjbtrKVe6E5EiABaxPg/NzaRNNvjwlw+pkZpgUHmGFCRaEkQAIkYBGBu3GJ8B0XjHvxSdLOlI5V0KlWYYtssrG+CYQevYLuc3eYRP7dvxHK5ufWd31HjepIgPcA6+EZYAKshygo0sAEWBFYmiUBEiABHRIY/vsB/BKeehdstcLZ8Uff+jpUSUnWIvDynG3YHnVdmmtSLi9+7F7bWqZphwRIQCEBzs8VwjXTNBNgM0EZsRoHmBGjRs0kQAIkkDECBy/cQusZm02N/+zXAJUKZcuYMbbSNYG9526i7TdbTBoX966HOsVz6lozxZEACaQS4Pxc+yeBCbD2MVCmgANMGVoaJgESIAFdEhBJkUiOROnmWwTj2/GdUF0GykJR7yzYhTWHUq8+qlEkO37r4wcnJycLrbI5CZCALQhwfm4Lys/ugwmw9jFQpoADTBlaGiYBEiABXRJYsvMcBi1NPRU4i7sLwkcEwcvDVZdaKSpjBE5evYugL8KQkpLafs5rNfFCxfwZM8ZWJEACNifA+bnNkT/WIRNg7WOgTAEHmDK0NEwCJEACuiRwPz4JvuODcTs2Ueob27YSXq1bVJdaKSpjBIb+th//23FONi6V1wtr+zeCszNXfzNGk61IwPYEOD+3PfNHe2QCrH0MlCngAFOGloZJgARIQLcEPl15CHO3nJb6yhfIir/eb8DtsbqNVvqEXbkdiwaTQhCflCwbTu5YBZ152nf6ILI2CWhMgPNzjQMAgAmw9jFQpoADTBlaGiYBEiAB3RI4ceUOgr7YaNL3+7t+qF4kh271Upj5BCasPozZYVGyQf6sntg4OADurs7mG2BNEiABzQlwfq55CJgAax8CdQo4wNSxpWUSIAES0DOBLrO3IfxU6hU5HWv64PNOVfUsl9rMIHA7NgH1J2zAnbjU7e0jWpbHW41KmNGSVUiABPREgPNz7aPBFWDtY6BMAQeYMrQ0TAIkQAK6JrBi30W8/+seqdHD1RkRw4OQLbObrjVT3LMJfBt6EpPWHJGVsnq6YuuwQB5wxoeGBAxIgPNz7YPGBFj7GChTwAGmDC0NkwAJkICuCcQlJsFvwgb8cy9e6vy4dQX0bFBc15op7ukEYhOS0HByCK7eiZOV+gaUxKBm5YiMBEjAgAQ4P9c+aEyAtY+BMgUcYMrQ0jAJkAAJ6J7AxNVHMCvspNRZMk8WBH/YmIdh6T5qTxb4a8RZDFt2QH4o3vndMqQJ8nh7GNQbyiYBxybA+bn28WcCrH0MlCngAFOGloZJgARIQPcEzv4Tg0ZTQkw6//d2XdQtkUv3uinwYQJJySny3t9T1+7JD16tWwRj21YmJhIgAYMS4Pxc+8AxAdY+BsoUcIApQ0vDJEACJGAIAq//GIGNx65KrS9WLYgZXasbQjdF/kdg9YFL6LNwt/yDuO43dGAAiuTKTEQkQAIGJcD5ufaBYwKsfQyUKeAAU4aWhkmABEjAEAT+PhSN3gt2Sa1uLk7YNiwQub24ddYQwQOQkpKCtt9swb7zt6Tk1lUK4OtuNYwinzpJgASeQIDzc+0fCybA2sdAmQIOMGVoaZgESIAEDEEgMSkZ9SdtwOXbqYcnDWleDn38SxpCO0UCW09eQ7fvwk0o/uzXAJUKZSMaEiABAxPg/Fz74DEB1j4GyhRwgClDS8MkQAIkYBgCX647hq/WH5d6C+fMhLCBAXAWe2lZdE/gwS3sDUvnxoI3fXWvmQJJgASeTYDzc+2fECbA2sdAmQIOMGVoaZgESIAEDEPg0q37qD9xA5JTUiX/1LMOGpfJYxj9jir00MVbaDV9s8n9hb18Ub9UbkfFQb9JwG4IcH6ufSiZAGsfA2UKOMCUoaVhEiABEjAUgV4/7UTw4ctS8wsV8mHO67UMpd8Rxb7/6x6s2HdRul65UDaseK8+r7FyxAeBPtsdAc7PtQ8pE2DtY6BMAQeYMrQ0TAIkQAKGIhBy9Ap6zN0hNbs4O2HzkAAUyJbJUD44klhxhZX/5yGmVftvutVAqyoFHAkBfSUBuyXA+bn2oWUCrH0MlCngAFOGloZJgARIwFAExF2yjaeE4PyN+1J3/6DS6B9UxlA+OJLYUX8cxILtZ6TLxXJlxvqP/OUXFywkQALGJ8D5ufYxZAKsfQyUKeAAU4aWhkmABEjAcAS+CTmBKX8flbrzZ/WUq8CuLs6G88PeBV+7Gyff2Y5LTJaujmtXCa/4FrV3t+kfCTgMAc7PtQ81E2DtY6BMAQeYMrQ0TAIkQAKGI3D1ThzqTViPxH9Pw5rzWk28UDG/4fywd8FT1x7FjA0npJvizmbxRYWnm4u9u03/SMBhCHB+rn2odZUA79q1C+vWrUNERIT8uXDhgiQkLoJPT0lMTMTYsWOxY8cOHD58GFevXkVCQgIKFy6Mpk2bYsiQISha9PFvU+fNm4c1a9Zg3759uHz5Mu7evYvcuXPDz88PAwYMQP369R+TITSvXLkSa9euRWRkJGJiYpAvXz40btwYgwcPRpUqVZ4q/dChQxg9ejRCQ0NlX6VKlcKbb76J999/H87Oln8rzwGWnqeGdUmABEjA/gn0/WU3Vu2/JB0VJ0GLE6FZ9EPgXlwi/CZuwK37CVLUoGZl0TeglH4EUgkJkIDFBDg/txihxQZ0lQC3bdsWy5cvf8yp9CbAIpn09vaGl5eXTEALFiyI+Ph47N27F2fPnkXWrFmxfv161Kr18CmY4neR/FauXBk+Pj7w9PTE0aNHsX//fnny4syZM/HOO++Y9IlE283NTf6eM2dO+Pr6IkuWLNizZw9OnjwJd3d3LFy4EB07dnzMp23btiEwMBD3799HnTp1UKxYMWzcuBHR0dHo1KkTFi1aZPFpjxxgFo8PGiABEiABuyKw9eQ1dPsuXPrk5ARsHBSAwjkz25WPRnbm+01RGLvqsHTBy8MVW4Y2QbZMqfMMFhIgAfsgwPm59nHUVQI8adIk3Lt3D7Vr15Y/IimMi4vL0ApweHi4TEhdXV1NlJOSkjBy5EhMnDgRNWvWxM6dOx+KgGhToUIFmTw/WFasWIH27dvLZPfcuXNyVVgUkQCL1eERI0agdevWcHFJ3aKUnJyMjz/+GOPGjZO2oqKiTG3E52I1umzZsjh16hS++OILubosikjcX3jhBYjkeO7cuejevbtFTwgHmEX42JgESIAE7I6A+EI5cGoYoq7dk769618Sg5uXszs/jehQfGKyPKjs0q1YKf/tRiUwvGV5I7pCzSRAAs8gwPm59o+HrhLgR3GIFdiMJMDPwiqSVpGUxsbG4ubNm8iWLZtZUQgKCpKrxmKF+qWXXnpuGzHJKF++vFxBFlur33jjDVObxYsXo0uXLqhatapclX6w7N69WybnlSpVwoEDB57bz7MqcIBZhI+NSYAESMAuCTy4ypjbyx1bhwbC3dXy127sEpYNnVq66zwGLtkne3RzccKmwU2QP5unDRWwKxIgAVsQ4PzcFpSf3YfDJcBiFVgkveJdXbHanCmTefcgtmjRQr4fvHr1ajRv3tysyHXu3BlLlizB+PHjMWzYMFMbkQzPnz8fY8aMkSvSj5aSJUvKVWOxQixWwTNaOMAySo7tSIAESMB+CdyMiUed8eshVhxF+bpbdbSuUtB+HTaAZ8nJKWg2bSOOX7kr1Xau5YPJHasaQDklkgAJpJcA5+fpJWb9+g6VAItV2QkTJsgty02aNJEruuYUUa9ly5by/V6RmGbPnt2cZvIdY3FI1o8//ogePXqY2lSrVk2+a7xq1Spp99Ei3gFeunSp2avNTxPDAWZWmFiJBEiABByOwIeL92LZ7tSDJuuVyIVf367rcAz05HBw5GX0mp/6WpZ4N3vdgMYolddLTxKphQRIwEoEOD+3EkgLzNh9AixOfBYnOt++fVseZiUOpxJbk0XyWbx48SeiE+/fhoWFyW3Sor54V1isGouDqZo1a2YW7s2bN6Nhw4byIKzTp0+jQIECpnbiwKwbN27IJPhJp0SLd4KnTZuG6dOno1+/fmb196RKHGAZRseGJEACJGDXBHaduYEO3241+Rj8IRMuLQPe8dut2HnmhpTQrOL/27sP8CiqtYHjLyGh9yu9F5GiIF2CVEFRvALClc+CgAJ2wYYVwQ4oKopcFRVQ4SI2igUbBBAQpEoH6dIR6ZAA4Xveg7smIWWzO7Mzu/M/z5NHSWbOnPM77yTz7pk5U1Le6Z56kU4n28axEUDAWgGuz631DKa2qE+A9dVCmsT6iiacH3/8sVnpOaPSu3dvef/991MlrKNHjzYLYQVSNNnW2d8NGzaYVy7polspiybFuhCW/lzbl7bobdG6gJZ+PfHEE1ke0ncipd1Q+623U+vrligIIIAAAgj4BPSOqKtHzJG1u4+Yb91+eWUZeG0tgBwQWLTlgHR9e77/yF/eHS/1KhR1oCUcEgEEwiFAAhwO5cyPEfUJsK/7+/fvN7cj6+3POhOsCW3KhanSY9JVmXURq2HDhokuXNWnTx959913MxXVZ4z1dU5fffWVeb3RnDlzzCwwCbDzwU4LEEAAAQT+Efjol60ycPJK8w191c4vj18heXOde5sBJXwCvcf9Kj+u2WsO2KRyMfnkjqbhOzhHQgCBsAuQAIed/LwDeiYB9vX80KFDZvZXE2JNbsuXLx/QKHTs2FH0dUj6bG6XLl0y3Kdv374mudbXHOlt0L5XJqXcgVugAyJnIwQQQAABGwWOnDwlTV78SY4nnTFHeea62tIjPviFF21satRWvX7PEbnytdn+/o3p1UhaX1QiavtLxxBAQIQE2Pko8FwCrOT33HOPjBo1ytzmfNtttwU0Crqas67q3L17d7OCc3rlscceE32XsSbVc+fOzTC5ZhGsgMjZCAEEEEDAZoFnp62WD+ZuNkcpWySvJDzSSuJy8kokm9n91T80abl8vuQP8+8apQrKt/2aSw5dBYuCAAJRK0AC7PzQejIBHjRokDz77LPm2Vx9RjeQMnPmTLNytL4CSV+FlLbobdJaV4kSJWT27NlmBjijwmuQAhFnGwQQQAABuwV2HjwhLYbNlNPJZ82hXutWVzrXK2f3YalfRLb9eVzaDE/w27/e7VLpVK8sNgggEOUCJMDOD7AnE+BWrVqZVZ51Vrdr164BjcLgwYPlmWeeMbPHI0eOTLWP3vKstz7r65E0UdYZ3syKPk/crVs3qVu3rixbtizVpkuXLpX69evLxRdfLCtWrAiobRltxAkWEh87I4AAAp4QePjT5fLZ4nOzkNVLFpDp/VpITAyzkHYPfr+JS2XKsp3mMOWK5pWZDzP7brc59SPgBgGuz50fhYhOgDUR1a/OnTub9/v6ir7iqGjRohIfH59K+Pjx42Zl5RdffFFKlSplVmEuUODce/bWrFljEk5dwCrlolW6Uqa+/khvldbXIi1YsEAaNWrkr1efCdZkNl++fPL9999L06ZZL16hK0DrDPHmzZvl1VdfFX3tkZZjx45Ju3btZP78+aKvYurZs2dIEcIJFhIfOyOAAAKeEPh97xFp++o/z6G+d2tDaVurpCf67lQnV+44JNe++bP/8K/eUFeur8/Mu1PjwXERCKcA1+fh1E7/WK5KgDVxfe655/wtXbhwoWgC2qRJE//3Bg4cKB06dDD/9s3K6i3FY8eO9W/j+37ZsmXNbKy+w3f37t1mtvXAgQPm39OmTTPv6fWVhIQEad26tflZgwYNTIJ88OBBWb16tXmPb0xMjAwfPlz69+/v32fv3r3mOd+kpCSzsJbO3KZXNKnWr5Rl3rx50rZtWzlx4oTpX8WKFc2K0bt27TKz0jpLHOpzQJxgzp9gtAABBBCIBIG+Hy6S71fvMU2tX6GIfH5XfMh/gyKh3061sfv7C2TOhv3m8Prs79f3N5eczLo7NRwcF4GwCnB9HlbudA/mqgRYk9hevXplqpJyZjSjBFhfczRu3DiTUG7dutUkvXnz5jXv3NVneO+77z4pXbp0quPs27dPeozOAAAgAElEQVRP3n77bdFEeP369aL/1qS3XLlyJlHWW5/TJriaGFeuXDnLUdRnjrWtaYu+n1d/psfU2V99Z+/tt98u/fr1M8cOtXCChSrI/ggggIA3BJZs+0uuHzXP39lJdzSVxpWLeaPzYe7l3N/3y83vLfAfdUzPRtK6Bis/h3kYOBwCjglwfe4Yvf/ArkqAneeIrhZwgkXXeNIbBBBAwE6B/3t3vvyy6YA5ROuLisuYXo3tPJwn69a72jq+NVd+++OQ6b++93di38uYbfdkNNBprwpwfe78yJMAOz8GtrWAE8w2WipGAAEEok5g1vp90uODhf5+6St5apYuFHX9dLJDX/+2S+6ZsMTfhC/vjpd6FYo62SSOjQACYRbg+jzM4OkcjgTY+TGwrQWcYLbRUjECCCAQdQI6O6kLM63aedj0reOlZWTE/9WLun461aFTZ5Kl3auzZMufx00T2tcuJW93b+BUczguAgg4JMD1uUPwKQ5LAuz8GNjWAk4w22ipGAEEEIhKga9+2yn3Tlhq+qZrMiU83Foq/CtfVPY13J366JetMnDySnNYXfDq+wdaSNXi595EQUEAAe8IcH3u/FiTADs/Bra1gBPMNloqRgABBKJS4EzyWWkzPEG2/j1LectlFeT5TpdEZV/D2aljiael5csJsv9oojnsjY3Ly0vX1wlnEzgWAgi4RIDrc+cHggTY+TGwrQWcYLbRUjECCCAQtQITFmyTJ75cYfqXKzZG5j7aRooXzB21/Q1Hx978aYMM/2G9OVSeuBgzs16qcJ5wHJpjIICAywS4Pnd+QEiAnR8D21rACWYbLRUjgAACUStw8tQZaT5spuw7cm628u5WVWVA+xpR21+7O/bn0UQz+3s08TSedmNTPwIRIMD1ufODRALs/BjY1gJOMNtoqRgBBBCIaoG3Z22UId+uNX0smDtW5j7eRgrliYvqPtvVuWenrZYP5m421RfOGyezB7Q2/6UggIA3Bbg+d37cSYCdHwPbWsAJZhstFSOAAAJRLXDk5CmJHzJDjpw8N2v52NU15M6WVaO6z3Z0bvuB4+aZ6lNnzprqn7ympvRpUcWOQ1EnAghEiADX584PFAmw82NgWws4wWyjpWIEEEAg6gWGTV8roxI2mn7qM8BzBrSWPHE5o77fVnbwgU+WyZdLd5gqyxTOIzMeboWhlcDUhUAECnB97vygkQA7Pwa2tYATzDZaKkYAAQSiXkCfAb586AxJPJ1s+vpi50vkpiYVor7fVnVw9c7D0uHNOXL23OSvvNy1jvynYXmrqqceBBCIUAGuz50fOBJg58fAthZwgtlGS8UIIICAJwT0vbX6/lotFf+VT2Y81Mq8w5aStUDPMQslYd0+s2H1kgXk234tsMuajS0QiHoBrs+dH2ISYOfHwLYWcILZRkvFCCCAgCcE9BnWVq8kiL4fWMubN9aTf9ct44m+h9LJ+Rv/lBtH/+Kv4v0eDeWKmiVDqZJ9EUAgSgS4Pnd+IEmAnR8D21rACWYbLRUjgAACnhHoN3GpTFm20/S3VulC8vX9l0uOHMwCZxQAZ8+elU6j5sny7QfNJo0qFZVJdzTFzDNnDB1FIHMBrs+djxASYOfHwLYWcILZRkvFCCCAgGcE1uw6LFePmOPv77jbGkvL6sU90//sdvTbFbvkrvFL/Lt9fldTaVCxWHarYXsEEIhSAa7PnR9YEmDnx8C2FnCC2UZLxQgggICnBHqNWSgz/36e9bIqxWRi36ae6n+gnT19JlmufG22bNp/zOzSrlZJGX1rw0B3ZzsEEPCAANfnzg8yCbDzY2BbCzjBbKOlYgQQQMBTAgs3H5Ab3pnv7/MXd8dL/QpFPWUQSGcnLNgmT3y5wmyqa4V917+FXFiyYCC7sg0CCHhEgOtz5weaBNj5MbCtBZxgttFSMQIIIOApAX2utevb82Xx1r9Mv6+sVVLeZWYzVQwcTzotrV5OkL1HEs33uzUsL0O71vFUnNBZBBDIWoDr86yN7N6CBNhuYQfr5wRzEJ9DI4AAAlEm8OPqPdL7w0X+Xv34YAupVoLZTR/IWzN/l5e/W2f+mTs2RhIeaSWlC+eNsiigOwggEKoA1+ehCoa+Pwlw6IaurYETzLVDQ8MQQACBiBNITj4r7UfMlvV7jpq2d21QTl75T92I64cdDf7rWJK0GDZTjiSeNtXf0bKKPH51TTsORZ0IIBDhAlyfOz+AJMDOj4FtLeAEs42WihFAAAFPCny59A954JPlpu+xMTlk1oDWUrYIs5zPf7Va3vt5s3EplCdW5gxoI4XzxXkyRug0AghkLsD1ufMRQgLs/BjY1gJOMNtoqRgBBBDwpMCpM8nmOdcdB0+Y/vdqVkkG/bu2Jy18nf7jr+PS5pVZknQm2XzrsatryJ0tq3rahM4jgEDGAlyfOx8dJMDOj4FtLeAEs42WihFAAAHPCoybt0UGTV1l+p83LqfMfayNFMufy7MeD01aLp8v+cP0v1ShPObZ3zxxOT3rQccRQCBzAa7PnY8QEmDnx8C2FnCC2UZLxQgggIBnBU4knZFmQ2fIgWNJxqDfFRfKA+2qe9Jj7e7DcvWIOXL27LnuD+tSR25oVN6TFnQaAQQCE+D6PDAnO7ciAbZT1+G6OcEcHgAOjwACCESpwJs/bZDhP6w3vSuSL07mPtpG8ueOjdLeZtyt28b+KjPW7jUbVCtRQKb3ay6xOWM850CHEUAgcAGuzwO3smtLEmC7ZF1QLyeYCwaBJiCAAAJRKHDo+CmJH/KTHEs6Y3r3VIea0rt5lSjsacZdmrdxv9w0eoF/g3e7N5Ara5fylAGdRQCB7AtwfZ59M6v3IAG2WtRF9XGCuWgwaAoCCCAQZQIvfL1aRs85t/KxPvs6a0AryR3rjWdfD588JVe/Pse/GFiDikXlszubSo4cOaJslOkOAghYLcD1udWi2a+PBDj7ZhGzBydYxAwVDUUAAQQiTmDP4ZPSfOhM/+rHQ7tcIt0aVYi4fgTT4P4Tl8rkZTvNrjljcsgXd8VL3fJFgqmKfRBAwGMCXJ87P+AkwM6PgW0t4ASzjZaKEUAAAQRE5PEvfpP/LdxuLCpfkF9+fLClSQijuUxZtkP6TVzm7+LDV1aXe9tcGM1dpm8IIGChANfnFmIGWRUJcJBwkbAbJ1gkjBJtRAABBCJXYMv+Y9JmeIIk/70K8sib6sm1dcpEboeyaPn2A8flmhFz5EjiabNlo0pFZWLfplGf9EftgNIxBBwQ4PrcAfQ0hyQBdn4MbGsBJ5httFSMAAIIIPC3wH3/WyrTlp+7Hbhm6ULyzf2XR+WzsGeSz8qN7/4iC7ccMH0tmDtWvunXXMoXy0csIIAAAgELcH0eMJVtG5IA20brfMWcYM6PAS1AAAEEol1gza5z78L1lTG9Gknri0pEXbffmvm7vPzdOn+/Xu92qXSqVzbq+kmHEEDAXgGuz+31DaR2EuBAlCJ0G06wCB04mo0AAghEmEDK9+HqbcGf3hkfYT3IvLnLtx+ULv+dJ6f/vte746VlZMT/1YuqPtIZBBAIjwDX5+FxzuwoJMDOj4FtLeAEs42WihFAAAEEUggs3npAuvx3vv87k+5oKo0rF4sKo2OJp+XaN3+WzfuPmf6ULZLX3PpcOG9cVPSPTiCAQHgFuD4Pr3d6RyMBdn4MbGsBJ5httFSMAAIIIJBGoNs782XB5nPPx7a6qLiM7dU4Kowe+/w3mfjruZWudYFrXfQqWpL7qBggOoFAhAlwfe78gJEAOz8GtrWAE8w2WipGAAEEEEgjMGv9PunxwUL/d7+673K5uGzhiHaavnK33PnxYn8f7m1dTR6+6qKI7hONRwABZwW4PnfWX49OAuz8GNjWAk4w22ipGAEEEEAgjcDZs2fl3yN/lpU7DpufdKhTWt66qX7EOu05fFKuen22HDx+yvShbrnC8tld8RKXMyZi+0TDEUDAeQGuz50fAxJg58fAthZwgtlGS8UIIIAAAukIfLNil9w9fon5SY4cIj892FKqFC8QcVbJyWfl1g8Wys+/7zdtzxuX0zz3W/mC/BHXFxqMAALuEuD63PnxIAF2fgxsawEnmG20VIwAAgggkI6Aviu33WuzZNO+cwtGdWtYXoZ2rRNxVu/N2STPf73G3+4h118i/9e4QsT1gwYjgID7BLg+d35MSICdHwPbWsAJZhstFSOAAAIIZCAwadF2GfDZb+ancTlzyOwBraV04bwR47V652Hp9NZcSTqTbNp8Ve2S8vYtDSSHTmlTEEAAgRAFuD4PEdCC3UmALUB0axWcYG4dGdqFAAIIRK9A0ulkafXyTNl56KTp5G3NKsvT/64VER0+eeqMXDfyZ1m/56hpb4mCueW7/i2kaP5cEdF+GokAAu4X4Prc+TEiAXZ+DGxrASeYbbRUjAACCCCQicCYuZvlmWmrzRb6/Ozcx9pIsQhIIgdPXSVj523x9+yj2xtL8wuLM9YIIICAZQJcn1tGGXRFJMBB07l/R04w948RLUQAAQSiUeBE0hlpNnSGHDiWZLp3f5tq8uCV7n590Mx1e6XXmF/9w9H78sry1LWRMXMdjTFEnxCIVgGuz50fWRJg58fAthZwgtlGS8UIIIAAAlkIjJyxQV75fr3ZqlCeWDMLXDBPnCvd9h9NlPavzxH9r5YapQrKlHubSe7YnK5sL41CAIHIFeD63PmxIwF2fgxsawEnmG20VIwAAgggkIXAoROnpNmQGXI08bTZ8rGra8idLau6zk3fX9x73CL5ae1e07bcsTEy7b7LpXrJgq5rKw1CAIHIF+D63PkxJAF2fgxsawEnmG20VIwAAgggEIDAkG/XytuzNpotLyiQW35+tLXkiXPXrOrHv2yVpyav9Pdm8L9rSc9mlQPoHZsggAAC2Rfg+jz7ZlbvQQJstaiL6uMEc9Fg0BQEEEDAgwL7jiTK5UNnSOLpc68Ueq7TxdL9soqukfh971G59s05cvLUufa1rF5cxvZqxCuPXDNCNASB6BPg+tz5MSUBdn4MbGsBJ5httFSMAAIIIBCgwNNTVsqH87earcsVzSsJD7eS2JwxAe5t3WZnks+a27GP/f2l/z9wykpZueOwOYiuUj29f3MpUTCPdQelJgQQQCCNANfnzocECbDzY2BbCzjBbKOlYgQQQACBAAW2HzgurV5JEE1AtbzWra50rlcuwL0z3uzIyVPy7YrdsuPgiXNJbdJpOZp4xvy/L9FN+V/fLG9GNb53a0NpW6tkyO2iAgQQQCAzAa7PnY8PEmDnx8C2FnCC2UZLxQgggAAC2RB4cNIy+WLJDrNH9ZIFZHq/FhITkyMbNfyzqS5aNXnZDnnxm7Wit1hbUW5uUkFe6HyJFVVRBwIIIJCpANfnzgcICbDzY2BbCzjBbKOlYgQQQACBbAhs2HNE2r0227/Hu90byJW1S2WjhnObrt55WAZNXSm/bvkr2/um3CFXbIwUzB0r+XPHSqNKxeT5ThdL3lzuWpwrpA6yMwIIuFaA63Pnh8ZVCfDixYvlhx9+kIULF5qvHTvOfVqsn/Zmp5w+fVqef/55+fXXX2XNmjWyb98+OXXqlJQvX17atWsnjz76qFSseP4iHGPHjpXp06fL8uXLZc+ePXL06FG54IILJD4+Xh544AFp1qzZec3Yv3+/TJkyRRYsWGDavHLlSjlz5oyMGTNGevbsmW6zt2zZIpUrZ7zCZMmSJWX37t3Z6XK623KChUxIBQgggAACFgnc8dEi+W7VHlNb3fJFZPLd8QEvNqWvVHr1+3Xy0S9b5e87qU09+soiTaSL5I0zyWyB3DnNf8/9/7kv3//nz53T/+84B55BtoiRahBAIMIFuD53fgBdlQB36tTJJJNpS3YTYE1cCxYsKAUKFJA6depImTJlJCkpSZYtWybbtm2TQoUKyU8//SQNGzZMdSj9tya/l1xyiZQrV07y5Mkj69atk99++838kR41apTceeedqfaZPHmydO7c+bw2B5IAa6Lbvn378/YtXLiwjBgxIuTo4AQLmZAKEEAAAQQsEli+/aB0fGuuv7YJvZtIfLULMq09OfmsfLb4Dxk6fa38eSwp1bZX1iopA6+tJeWL5bOohVSDAAII2C/A9bn9xlkdwVUJ8NChQ+XYsWPSqFEj81WpUiVJTEwMagZYZ2SbNGkisbGxfgOdmX3qqadkyJAh0qBBA1m0aFEqH92nVq1aJnlOWaZOnSrXX3+9xMXFyfbt282ssK/Mnz9fPv74Y5NMa5vfeOMNGT16dEAzwC1btpSEhISsxijon3OCBU3HjggggAACNgjc8t4C+fn3/abmZtX+JeN7X5bhUVb8cUienrpSlm47mGqbyhfkl0H/riWtLiphQwupEgEEELBXgOtze30Dqd1VCXDaBusMbDAJcGYd19ujNcE9efKkHDx4UHS2NZDStm1bM2usM9TXXXddhrvoDPE777xDAhwIKtsggAACCHhKYN7v++Wm9xb4+zz5nmZyafkiqQz+OpYkL3+/Tv63cJukfAIqb1xOubdNNendvLLkjuV5XU8FDp1FIIoESICdH0zPJcA6C6xJ7/Hjx81sc968eQMahauvvto8H/ztt9+me9uyrxIS4IA42QgBBBBAwIMC+khT51HzZNn2c7O6ehvzu7eeexxJX5M08ddt8vJ36+Tg8VOpdDrUKS1PXlNTyhQJ7G+2B2npMgIIRIgACbDzA+WpBFj/8L700kvy5JNPSps2bcyMbiBFt7vmmmskf/78smnTJilSJPWn1SnryE4CXKNGDbnhhhtk165dJinXW7Z1djlXrlyBNCvLbTjBsiRiAwQQQACBMAt8v2q39P1osf+oPzzQQo4knpZBU1bJih2HUrWmWokC8sx1taVZFs8Kh7kLHA4BBBAIWoDr86DpLNsx6hNgXfFZV3Q+fPiwWcxq48aNUrNmTfn6668zXIlZF7CaNWuWuU1at9dnhTVB/eSTT+Sqq67KFD87CXB6FVWoUEE+/fRTady4cciDzAkWMiEVIIAAAghYLKALW7UfMVvW7zlqai5bJK/sOHgi1VHy58op/dtWlx7xlURfWURBAAEEokWA63PnRzLqE+Bq1aqZJNZXdFVoXbRKV3rOqPTu3Vvef/99/4+LFStmFrbShbCyKoEkwDrj+9xzz0m3bt1MMq63Ya9atcp875tvvjEzzLpidXqvakrv+L4TKe3PtN9Vq1Y1dVMQQAABBBBwi8DkpTuk/yfL0m1Op0vLyOPX1JSShfK4pbm0AwEEELBMgATYMsqgK4r6BNgno+/r1fcM6+3POhOsCW2PHj0yhdPXKelrkIYNGyaTJk2SPn36yLvvvpvpPoEkwJlVcPPNN8uECROkb9++ZjGtQAoJcCBKbIMAAggg4BaB02eSpfXwBNl+4J+Z3xqlCprbnZtU+Zdbmkk7EEAAAcsFSIAtJ812hZ5JgH0yhw4dMrO/mhBrclu+fPmA0Dp27Cj6OqTPPvtMunTpkuE+oSbAOlt78cUXm9nfLVu2BNS2jDbiBAuJj50RQAABBGwU+HH1Hrlr/GLR1Z0faFddul9WUWJzcruzjeRUjQACLhDg+tz5QfBcAqzk99xzj4waNcrc5nzbbbcFNAr6XK4uWNW9e3f58MMPbUuAk5KSJHfu3GYhLH0FVCiFEywUPfZFAAEEELBb4GjiackdGyNxJL52U1M/Agi4RIDrc+cHwpMJ8KBBg+TZZ5+VIUOGiC6SFUiZOXOmWTm6ffv25lVIGZVQZ4B1wa5SpUpJ0aJF5cCBA4E0LcNtOMFC4mNnBBBAAAEEEEAAAQQsFeD63FLOoCrzZALcqlUrs8qzzup27do1ILjBgwfLM888Y2aPR44caVsCrDPTeowrrrhCfvzxx4DaltFGnGAh8bEzAggggAACCCCAAAKWCnB9bilnUJVFdAKsiah+de7c2bzf11f0FUc6gxofH58K5fjx4/LCCy/Iiy++aGZZN2zYIAUKFDDbrFmzRlasWCGdOnVK9R5efXewvv5Ib5XW1yItWLBAGjVqFFICrAtwNW/eXPQ9wCnLF198IT179pQjR46I/r/2K5TCCRaKHvsigAACCCCAAAIIIGCtANfn1noGU5urEmBNXPVVQL6ycOFC0QS0SZMm/u8NHDhQOnToYP7tm5XV1ZzHjh3r38b3/bJly8qll15q3uG7e/du82ohva1Y/z1t2jSThPpKQkKCtG7d2vysQYMGJkE+ePCgrF692ixGFRMTI8OHD5f+/fuf53zZZZf5v7d582bZu3evVKlSRYoXL26+X79+ffPMsa/4ZqD1lUzVq1eX5ORkc5y1a9eaTR555BGz8nSohRMsVEH2RwABBBBAAAEEEEDAOgGuz62zDLYmVyXAmsT26tUr076MGTPGzJJmlgDra47GjRsnc+bMka1bt5qkV9+1q+8E1md477vvPildunSq4+zbt0/efvtt0UR4/fr1ov/WpLdcuXImUdbbkjWRTa/kyJEj0za3bNnS1Osr48ePl8mTJ5uEXJPlEydOmGRZE+m77rpL2rZtG+x4ptqPE8wSRipBAAEEEEAAAQQQQMASAa7PLWEMqRJXJcAh9YSdzxPgBCMoEEAAAQQQQAABBBBwjwDX586PBQmw82NgWws4wWyjpWIEEEAAAQQQQAABBLItwPV5tsks34EE2HJS91TICeaesaAlCCCAAAIIIIAAAghwfe58DJAAOz8GtrWAE8w2WipGAAEEEEAAAQQQQCDbAlyfZ5vM8h1IgC0ndU+FnGDuGQtaggACCCCAAAIIIIAA1+fOxwAJsPNjYFsLOMFso6ViBBBAAAEEEEAAAQSyLcD1ebbJLN+BBNhyUvdUyAnmnrGgJQgggAACCCCAAAIIcH3ufAyQADs/Bra1gBPMNloqRgABBBBAAAEEEEAg2wJcn2ebzPIdSIAtJ3VPhZxg7hkLWoIAAggggAACCCCAANfnzscACbDzY2BbCzjBbKOlYgQQQAABBBBAAAEEsi3A9Xm2ySzfgQTYclL3VMgJ5p6xoCUIIIAAAggggAACCHB97nwMkAA7Pwa2tYATzDZaKkYAAQQQQAABBBBAINsCXJ9nm8zyHUiALSd1T4WcYO4ZC1qCAAIIIIAAAggggADX587HAAmw82NgWws4wWyjpWIEEEAAAQQQQAABBLItwPV5tsks34EE2HJS91TICeaesaAlCCCAAAIIIIAAAghwfe58DJAAOz8GtrWAE8w2WipGAAEEEEAAAQQQQCDbAlyfZ5vM8h1IgC0ndU+FnGDuGQtaggACCCCAAAIIIIAA1+fOxwAJsPNjYFsLOMFso6ViBBBAAAEEEEAAAQSyLcD1ebbJLN+BBNhyUvdUyAnmnrGgJQgggAACCCCAAAIIcH3ufAyQADs/Bra1oGDBgnLq1CmpWrWqbcegYgQQQAABBBBAAAEEEAhMYOPGjRIXFydHjhwJbAe2slyABNhyUvdUWKpUKTl27JhUqFDBlkbpCayFBNsW3oiolBiIiGGyrZGMv220EVMxMRAxQ2VbQ4kB22gjpmJiIHtDtW3bNsmfP7/s3r07ezuytWUCJMCWUXqvIm7h8N6Yp+0xMeDtGGD8vT3+2ntigBggBogBYoAYiDQBEuBIGzEXtZdfeC4aDIeaQgw4BO+SwzL+LhkIB5tBDDiI75JDEwMuGQgHm0EMOIjPoYMSIAEOio2d+OSfGCAGiAEueogBYoAYIAaIAWKAGIg0ARLgSBsxF7WXX3guGgyHmkIMOATvksMy/i4ZCAebQQw4iO+SQxMDLhkIB5tBDDiIz6GDEiABDoqNnZj9IwaIAWKAix5igBggBogBYoAYIAYiTYAEONJGzEXt5ReeiwbDoaYQAw7Bu+SwjL9LBsLBZhADDuK75NDEgEsGwsFmEAMO4nPooARIgINiYycEEEAAAQQQQAABBBBAAIFIEyABjrQRo70IIIAAAggggAACCCCAAAJBCZAAB8XGTggggAACCCCAAAIIIIAAApEmQAIcaSNGexFAAAEEEEAAAQQQQAABBIISIAEOio2dEEAAAQQQQAABBBBAAAEEIk2ABDjSRoz2IoAAAggggAACCCCAAAIIBCVAAhwUGzshgAACCCCAAAIIIIAAAghEmgAJcBhH7MSJE/LSSy/JxIkTZdu2bVKsWDFp3769PPfcc1K2bNlsteSvv/6SwYMHy+TJk2X37t1SqlQp6dy5s/lekSJF0q3rzJkz8sYbb8gHH3wgv//+uxQoUEBat24tzzzzjNSsWTPD40+bNk1eeeUVWbp0qdmmfv368sgjj0iHDh0y3GfVqlWmLQkJCXL06FGpVq2a3H777XL//fdLTExMuvuFq0/Hjx+XV199Vf73v//Jpk2bJF++fNK4cWN59NFHpVWrVtkah+xuTAxYGwPr1q2Tb775RhYuXGi+dDy1bN68WSpVqpTp8AQT19kd77TbM/7Oj//+/ftlypQpsmDBAhMzK1euFP3dOGbMGOnZs2eoQ5zl/sSA8zGwePFi0fP/+++/l9WrV4v+TShZsqS0bNlSBgwYIHXq1MlyHEPZgBhwPgZmz54tH330kWgs7NixQ/T6Q6+J6tatK7fddpvccsstkiNHjlCGOdN9iQHnYyC9AdLrVL1G1jJnzhy5/PLLbYsBKnZWgAQ4TP4nT540yeYvv/wipUuXlubNm8uWLVvMBVjx4sXN96tUqRJQa/QCrmnTpiaJ1X0aNmwomnDqV/Xq1WX+/PkmuU5ZkpOTpWvXrvLll1+aBPmKK64QrUf/COTNm1dmzpxpksC05fXXX5cHHnhAYmNjpW3btpI7d25z0aC/vN9880259957z9tHj6/16zZapyYiehxN1P/zn//IJ598ct4flnD1SZNxHYdFixYZo/j4eDl06JDxP336tLz33nvmj58dhRiwPgb69+8vI0aMOG+4skqAg4nrUGOC8XfH+OuHhssn01MAABGVSURBVPphYdoSjgSYGHA+BvT3fFxcnBl+/RvQpEkTyZ8/v/mAd+PGjZIrVy4ZP368+XtpRyEGnI8BHdeHH35Yhg8fbq6ZKleuLEWLFjWJ8Lx588wHYjfeeKNMmDDBjhAQYsAdMZB2cPU6uE2bNub69OzZsyTAtkS/eyolAQ7TWDz11FPywgsvmMRVE0j9pFGLzkQ+9NBD5pNnnS0NpOgnk/oH+vrrrzfJpCanWnR2VZPSHj16yNixY1NVpYldnz595MILLzQntX7areXzzz83f+h1hnbNmjX+uvRnOrtWu3Zt8z39xaBt17J+/Xp/4qj76L6+curUKbnooovMDJz2TZNnLZp4XnnllSY5T+9CM1x9uu+++2TkyJHSoEED+fbbb82HD1r0j95VV10lSUlJpn8VK1YMZCiytQ0xYH0MvP/++7JhwwZp1KiR+SBIx1DjNrMEOJi4ztZAZ7Ax4++O8dffQR9//LGJF40bvStm9OjRYZkBJgacjwFNgPWDzyeffFKuvfZayZkzpzlj9UPip59+2vydLliwoLmb5IILLrDi1E9VBzHgfAzogOjMv04GlClTJtX46MRCixYtZNeuXeYuAY0Rqwsx4I4YSDmu+qGE3vmhH4AVLlzYXBMyA2x15LurPhLgMIyHJlUlSpQwM41LliyRevXqpTqq3nLz22+/mVlJTcwyK/pLuVy5ciYp1duofYms7pOYmCjly5eXAwcOyM6dO80xfaVWrVomwdUZ4E6dOqU6RMeOHWXq1Kny2WefSZcuXfw/u/vuu+W///2v9OvXT3TGLGV57bXX5MEHHzQzwJp0+8qkSZOkW7du5jaiZcuWpdpH+679u/jii2XFihX+n4WrTzoO+imv3u42d+5ccxGUsugF0Ysvvig6q6j9s7IQA+c0rY6BtGNUo0aNLBPgYOI61Fhg/N0z/mnH8s4775R33nnH9gSYGHBvDPhiQmd99HEg/ZBMP0TWD5OtLMSA+2NAW/j888/LwIEDzQf4+kG+lYUYcGcM6PWfPqKodyvqBxSzZs0iAbYy8F1YFwlwGAbFd1tF1apVzW3LaYs+A6yfPA8aNMg8N5tZ0dlTvUVXbzH+8ccfz9vU9/xCyllWnQ3TW6X1VmdNwn23f/l21udgbr311vNmjnUWVJPs9D4F2759u1SoUMHMlOqt3L6iFwwffvihea5Zf4mkLWqgn6ynnKELV5+WL18ul156qbmNW2/PTvt8j3q2a9fO3A7le5bUqvAgBv6RtCoG0hubQBLgYOI61Dhg/N0z/k4lwMSAe2MgZUzccMMN8umnn5oPQx9//PFQT/1U+xMDkREDQ4cOlccee8ysCzJkyBBiQMRc67n1ejDYawHffjoho5Mzeh2sd0vqWjAkwJaGvSsrIwEOw7D4njfU5191hjRt+frrr81tNvpc2hdffJFpi3zPPOoiVMOGDTtv27feesvMyqb85NL3zJve7qfPHKct+uywzsrqzLTO0Gk5ePCgmS3Vorcv6zNSaYvePqzP7mpSXahQIfNjTTA10dQ+XXPNNeftowY606yL0Fx33XXm5+Hqk97S0qxZMzMzvmfPnvPaps+A6QJfWlL2yYoQIQb+UbQqBoL5oxdsXIcaA4y/O8Y/vXEM1wwwMeDeGEgZF3prvC6MpAvh9OrVK9RTP9X+xID7Y0A/3NdboPWDfU2C9P+tLMSAu2JAH33Q60J9/n/t2rVmXQASYCsj3r11kQCHYWz0VmG9pTaj22l8M5OafOkf3syKPvertzHrwj/6zG/aooml3uKs2+nzvVr0GTe9jTmjBFuTPX0WRk/8P//80+yjt2TrbcyaBOst1ekVTZj1Nmfd9pJLLjGbaB26mqL2Kb2VNNVA/wBom/R5XC3h6pM+K6oLXujM77Fjx8yMeMqiHz74bgHXTwT1QwGrCjHwj6RVMZDe2GQ1AxxsXIcaB4y/O8Y/vXEMVwJMDLg3Bnwt+/nnn80ClfocoCZAumCllYUYcF8M6JoA+giELnylj45pDOhz4s8++6x5TtzqQgy4Kwb0ET69lh43bpyZAdZCAmx11LuzPhLgMIxL3759zSIr+stUny1JW/S2aF2cSr90AabMii4k9cMPP5j6evfufd6mvtt49VZeXWxLi97Kpce++eabzeIvaYtvVUy9NVqfT9Himy3V1zP98ccf6TZJl4fXZ2lTPk+rFw66EJYmmykXx/JV4Fv8QRcaeeKJJ8y3w9Unfb5L+6PPHOuzzXrhm7LoLLzOXPv671v0y4oQIQb+UbQqBtIbl6wS4GDjOtQYYPzdMf7pjWO4EmBiwL0xoC07fPiwWRhN/3bZceurHoMYcF8M6DVR9+7d/Q3TRdH01ZC6SrQ+LmV1IQbcEwN6bavr4+jtz/p4gq+QAFsd9e6sjwQ4DOPCLzzrf+EFk9RrK3yz4boKt/6/LgCmFz46Q6//1sXF9AMBfS2Svh7DqkIMWB8DJMDe/hAsmPEnAY6uD0KtigGd/dM7p7766ivz6j5d90I/zLW68HfAHX8H0htX/fBfZ/11DZOXX37ZPBKmb4rwPQpmVSwQA+6JAb3+mz59urljUT88JwG2Ksojox4S4DCME7e8/INs1e2vwdzWra3QWWC9HTzlytX6fb0tWhfu0lvL9+3bZ1YB1dulrSrEgPUxEMzFL7dAp7/OQCQ+BhHM+DuZAPM7wB2/A9KLAV9Soq/w01tg7Xj9kR6XGHBvDKSMC9/rKdO+5cKK6wFiwB0x4HsFqK72rbe7pyzMAFsR6e6vgwQ4DGPEogf/IFu1AFIwC3ulHGp9dlmfl9YX3+uiWPrsr94Ko4t96Sf/Oivse7+yFSFCDFgfA8EkQCyCFT0L4QUz/k4mwPwOcMfvgLQxoKv96qq/+gpBfZxH/2tXIQbcGQNpx1s/BNfrAo0FXfnYykIMuCMGevbsaZ77veyyy8671V2vD/VDYV3UVd8JrNvqFyW6BEiAwzCevPrgH2SrXoET7KudMhtuff9by5YtpW3btuY5aysLMWB9DASbAAXzOodQY4Hxd8/4px3LcD0DTAy4Lwb0TQr6vK8mO/r7X2eA7SzEgPtiIL3x1lvi9YNw/dJXJlpZiAF3xIAvAQ5kbAN5RWkg9bCNuwRIgMMwHilffK6v2tFPlVIWXW1Zb81ctGiReRg/s6ILOJUrV87MTupy/fqH21cSExPNJ5a6arOuZpjyZzq7uWbNGrOCtD7rlLLocxBTp041ryfyrYKsP7/77rvNYlF6y7B+apmy6DOzeitP2luE9DVP3bp1MytI66doKYvvNUO6urKusuwr4exTZra+2Wntg/6/lYUYOKdpdQykHaOsFsEKNq5DjQXG3z3jn3Ysw5UAEwPuigFdSFJvfdY3IGhSkvbvcqjnfHr7EwPuioGMxjghIUFat24ttWvXlpUrV1oaCsSA+2OAW6AtDXnXVkYCHKah8a18Gx8fb1Zn9r1X1/esic486i9dXxk5cqTol7666KWXXkrVyltuuUXGjx9vktWJEyf6b9XVRFWfje3Ro4eMHTs21T76cu8+ffqYlab1GSdfcux79Y+u2KwJcsrbfvU5WP0DoN/TtumtIlp0lUxdIVlvEdF9Uq72rCtA66foOkOrfdNnfrXoa4d0ZWp95cCYMWPOu50kXH3au3evnDx5UipUqOD30UWv9PlffQ5E/+jNmDHDlqggBqyPgWAS4GDi2oqAYPzdMf5OJcB6XGLAHTGgH/bqB7X58uUzf4+tXPE/q98VxIA7YkAXutI3aaRd5OrXX3+Vm266SfTtHK+88oo89NBDWQ1ptn9ODLgjBjIaOBLgbId0RO5AAhymYdOkS0+qBQsWmHcL6rsGt27dav5dvHhxs+pwlSpV/K0ZPHiwWYo/vWR2//79JhnVF3frLcX66oZVq1aZTyo1wdW69H28KYu+7Ltr165mBlh/4V9xxRWi9eiL3vPkyWM+AU9v1WPfTK8mwZrA6i1BesGgtwWlfJdvymPpq2b0NmLdRuvUW051VU2d6dU26AyrLjqVsoSrT5rIt2nTxqzwWLlyZbMolibl2jb9nr5GKq2dVSFCDFgfA0uWLDF3KviKruaozjqb43uFhV7kpH1lWDBxHWocMP7uGX/fh3k6pvphnX4wpr9/9XexFn0n+6hRo0Id8vP2JwacjwEda71TSmfi9P31OtbpFb1TKu3dUlYEBDHgfAzoOOo1iF7P6N/9SpUqmXjYtGmTWRFYyw033GAmGqxcC8QXP8SAO2KABNiK32iRWwcJcBjHThNCnc2dMGGCuX1ZE6327dub2Ue9rTllySwB1u30NmfdRheD2rNnj5QsWdLMFmvSrLd0pVf0uRZd5fiDDz4wybPOQuuMp+6jt0hnVKZNm2ZeC6C3r2rRPxgDBgwQfW9uRkUTcn1uQhNOnf3VRP322283t1PHxMSku1s4+qTuTz/9tFnsRBfA0rbojLV+4qu3c9vx6ouUnSUGrI0B361qmZ3GGT2/E0xch/rrgvF3x/in/QAu7bimvSMn1HHnd4B9fwey+ztAX3WjH35mVex87o/fA87/HtA77PSDf31US6+h9O41/QBMJxT0+VA7Pvzg94B7fg9kdv4zA5zVb8fo+DkJcHSMI71AAAEEEEAAAQQQQAABBBDIQoAEmBBBAAEEEEAAAQQQQAABBBDwhAAJsCeGmU4igAACCCCAAAIIIIAAAgiQABMDCCCAAAIIIIAAAggggAACnhAgAfbEMNNJBBBAAAEEEEAAAQQQQAABEmBiAAEEEEAAAQQQQAABBBBAwBMCJMCeGGY6iQACCCCAAAIIIIAAAgggQAJMDCCAAAIIIIAAAggggAACCHhCgATYE8NMJxFAAAEEEEAAAQQQQAABBEiAiQEEEEAAAQQQQAABBBBAAAFPCJAAe2KY6SQCCCCAAAIIIIAAAggggAAJMDGAAAIIIIAAAggggAACCCDgCQESYE8MM51EAAEEEEAAAQQQQAABBBAgASYGEEAAAQQQQAABBBBAAAEEPCFAAuyJYaaTCCCAAAIIIIAAAggggAACJMDEAAIIIIAAAggggAACCCCAgCcESIA9Mcx0EgEEEEAAAQQQQAABBBBAgASYGEAAAQQQQAABBBBAAAEEEPCEAAmwJ4aZTiKAAAIIIIAAAggggAACCJAAEwMIIIAAAggggAACCCCAAAKeECAB9sQw00kEEEAAAQQQQAABBBBAAAESYGIAAQQQQAABBBBAAAEEEEDAEwIkwJ4YZjqJAAIIIIAAAggggAACCCBAAkwMIIAAAggggAACCCCAAAIIeEKABNgTw0wnEUAAAQQQQAABBBBAAAEESICJAQQQQAABBBBAAAEEEEAAAU8IkAB7YpjpJAIIIIAAAggggAACCCCAAAkwMYAAAggggAACCCCAAAIIIOAJARJgTwwznUQAAQQQQAABBBBAAAEEECABJgYQQAABBBBAAAEEEEAAAQQ8IUAC7IlhppMIIIAAAggggAACCCCAAAIkwMQAAggggAACCCCAAAIIIICAJwRIgD0xzHQSAQQQQAABBBBAAAEEEECABJgYQAABBBBAAAEEEEAAAQQQ8IQACbAnhplOIoAAAggggAACCCCAAAIIkAATAwgggAACCCCAAAIIIIAAAp4QIAH2xDDTSQQQQAABBBBAAAEEEEAAARJgYgABBBBAAAEEEEAAAQQQQMATAiTAnhhmOokAAggggAACCCCAAAIIIEACTAwggAACCCCAAAIIIIAAAgh4QoAE2BPDTCcRQAABBBBAAAEEEEAAAQRIgIkBBBBAAAEEEEAAAQQQQAABTwiQAHtimOkkAggggAACCCCAAAIIIIAACTAxgAACCCCAAAIIIIAAAggg4AkBEmBPDDOdRAABBBBAAAEEEEAAAQQQIAEmBhBAAAEEEEAAAQQQQAABBDwhQALsiWGmkwgggAACCCCAAAIIIIAAAiTAxAACCCCAAAIIIIAAAggggIAnBEiAPTHMdBIBBBBAAAEEEEAAAQQQQOD/AUAAgV1a+KaPAAAAAElFTkSuQmCC\" width=\"640\">"
      ],
      "text/plain": [
       "<IPython.core.display.HTML object>"
      ]
     },
     "metadata": {},
     "output_type": "display_data"
    },
    {
     "data": {
      "text/plain": [
       "[<matplotlib.lines.Line2D at 0x7f081739a850>]"
      ]
     },
     "execution_count": 45,
     "metadata": {},
     "output_type": "execute_result"
    }
   ],
   "source": [
    "plt.plot(lr_finder.learning_rates[:len(lr_finder.losses)], lr_finder.losses)\n"
   ]
  },
  {
   "cell_type": "code",
   "execution_count": null,
   "metadata": {},
   "outputs": [],
   "source": []
  },
  {
   "cell_type": "code",
   "execution_count": 15,
   "metadata": {},
   "outputs": [
    {
     "data": {
      "text/plain": [
       "(array([[[[0., 0., 0., ..., 0., 0., 0.],\n",
       "          [0., 0., 0., ..., 0., 0., 0.],\n",
       "          [0., 0., 0., ..., 0., 0., 0.],\n",
       "          ...,\n",
       "          [0., 0., 0., ..., 0., 0., 0.],\n",
       "          [0., 0., 0., ..., 0., 0., 0.],\n",
       "          [0., 0., 0., ..., 0., 0., 0.]],\n",
       " \n",
       "         [[0., 0., 0., ..., 0., 0., 0.],\n",
       "          [0., 0., 0., ..., 0., 0., 0.],\n",
       "          [0., 0., 0., ..., 0., 0., 0.],\n",
       "          ...,\n",
       "          [0., 0., 0., ..., 0., 0., 0.],\n",
       "          [0., 0., 0., ..., 0., 0., 0.],\n",
       "          [0., 0., 0., ..., 0., 0., 0.]],\n",
       " \n",
       "         [[0., 0., 0., ..., 0., 0., 0.],\n",
       "          [0., 0., 0., ..., 0., 0., 0.],\n",
       "          [0., 0., 0., ..., 0., 0., 0.],\n",
       "          ...,\n",
       "          [0., 0., 0., ..., 0., 0., 0.],\n",
       "          [0., 0., 0., ..., 0., 0., 0.],\n",
       "          [0., 0., 0., ..., 0., 0., 0.]],\n",
       " \n",
       "         ...,\n",
       " \n",
       "         [[0., 0., 0., ..., 0., 0., 0.],\n",
       "          [0., 0., 0., ..., 0., 0., 0.],\n",
       "          [0., 0., 0., ..., 0., 0., 0.],\n",
       "          ...,\n",
       "          [0., 0., 0., ..., 0., 0., 0.],\n",
       "          [0., 0., 0., ..., 0., 0., 0.],\n",
       "          [0., 0., 0., ..., 0., 0., 0.]],\n",
       " \n",
       "         [[0., 0., 0., ..., 0., 0., 0.],\n",
       "          [0., 0., 0., ..., 0., 0., 0.],\n",
       "          [0., 0., 0., ..., 0., 0., 0.],\n",
       "          ...,\n",
       "          [0., 0., 0., ..., 0., 0., 0.],\n",
       "          [0., 0., 0., ..., 0., 0., 0.],\n",
       "          [0., 0., 0., ..., 0., 0., 0.]],\n",
       " \n",
       "         [[0., 0., 0., ..., 0., 0., 0.],\n",
       "          [0., 0., 0., ..., 0., 0., 0.],\n",
       "          [0., 0., 0., ..., 0., 0., 0.],\n",
       "          ...,\n",
       "          [0., 0., 0., ..., 0., 0., 0.],\n",
       "          [0., 0., 0., ..., 0., 0., 0.],\n",
       "          [0., 0., 0., ..., 0., 0., 0.]]],\n",
       " \n",
       " \n",
       "        [[[0., 0., 0., ..., 0., 0., 0.],\n",
       "          [0., 0., 0., ..., 0., 0., 0.],\n",
       "          [0., 0., 0., ..., 0., 0., 0.],\n",
       "          ...,\n",
       "          [0., 0., 0., ..., 0., 0., 0.],\n",
       "          [0., 0., 0., ..., 0., 0., 0.],\n",
       "          [0., 0., 0., ..., 0., 0., 0.]],\n",
       " \n",
       "         [[0., 0., 0., ..., 0., 0., 0.],\n",
       "          [0., 0., 0., ..., 0., 0., 0.],\n",
       "          [0., 0., 0., ..., 0., 0., 0.],\n",
       "          ...,\n",
       "          [0., 0., 0., ..., 0., 0., 0.],\n",
       "          [0., 0., 0., ..., 0., 0., 0.],\n",
       "          [0., 0., 0., ..., 0., 0., 0.]],\n",
       " \n",
       "         [[0., 0., 0., ..., 0., 0., 0.],\n",
       "          [0., 0., 0., ..., 0., 0., 0.],\n",
       "          [0., 0., 0., ..., 0., 0., 0.],\n",
       "          ...,\n",
       "          [0., 0., 0., ..., 0., 0., 0.],\n",
       "          [0., 0., 0., ..., 0., 0., 0.],\n",
       "          [0., 0., 0., ..., 0., 0., 0.]],\n",
       " \n",
       "         ...,\n",
       " \n",
       "         [[0., 0., 0., ..., 0., 0., 0.],\n",
       "          [0., 0., 0., ..., 0., 0., 0.],\n",
       "          [0., 0., 0., ..., 0., 0., 0.],\n",
       "          ...,\n",
       "          [0., 0., 0., ..., 0., 0., 0.],\n",
       "          [0., 0., 0., ..., 0., 0., 0.],\n",
       "          [0., 0., 0., ..., 0., 0., 0.]],\n",
       " \n",
       "         [[0., 0., 0., ..., 0., 0., 0.],\n",
       "          [0., 0., 0., ..., 0., 0., 0.],\n",
       "          [0., 0., 0., ..., 0., 0., 0.],\n",
       "          ...,\n",
       "          [0., 0., 0., ..., 0., 0., 0.],\n",
       "          [0., 0., 0., ..., 0., 0., 0.],\n",
       "          [0., 0., 0., ..., 0., 0., 0.]],\n",
       " \n",
       "         [[0., 0., 0., ..., 0., 0., 0.],\n",
       "          [0., 0., 0., ..., 0., 0., 0.],\n",
       "          [0., 0., 0., ..., 0., 0., 0.],\n",
       "          ...,\n",
       "          [0., 0., 0., ..., 0., 0., 0.],\n",
       "          [0., 0., 0., ..., 0., 0., 0.],\n",
       "          [0., 0., 0., ..., 0., 0., 0.]]],\n",
       " \n",
       " \n",
       "        [[[0., 0., 0., ..., 0., 0., 0.],\n",
       "          [0., 0., 0., ..., 0., 0., 0.],\n",
       "          [0., 0., 0., ..., 0., 0., 0.],\n",
       "          ...,\n",
       "          [0., 0., 0., ..., 0., 0., 0.],\n",
       "          [0., 0., 0., ..., 0., 0., 0.],\n",
       "          [0., 0., 0., ..., 0., 0., 0.]],\n",
       " \n",
       "         [[0., 0., 0., ..., 0., 0., 0.],\n",
       "          [0., 0., 0., ..., 0., 0., 0.],\n",
       "          [0., 0., 0., ..., 0., 0., 0.],\n",
       "          ...,\n",
       "          [0., 0., 0., ..., 0., 0., 0.],\n",
       "          [0., 0., 0., ..., 0., 0., 0.],\n",
       "          [0., 0., 0., ..., 0., 0., 0.]],\n",
       " \n",
       "         [[0., 0., 0., ..., 0., 0., 0.],\n",
       "          [0., 0., 0., ..., 0., 0., 0.],\n",
       "          [0., 0., 0., ..., 0., 0., 0.],\n",
       "          ...,\n",
       "          [0., 0., 0., ..., 0., 0., 0.],\n",
       "          [0., 0., 0., ..., 0., 0., 0.],\n",
       "          [0., 0., 0., ..., 0., 0., 0.]],\n",
       " \n",
       "         ...,\n",
       " \n",
       "         [[0., 0., 0., ..., 0., 0., 0.],\n",
       "          [0., 0., 0., ..., 0., 0., 0.],\n",
       "          [0., 0., 0., ..., 0., 0., 0.],\n",
       "          ...,\n",
       "          [0., 0., 0., ..., 0., 0., 0.],\n",
       "          [0., 0., 0., ..., 0., 0., 0.],\n",
       "          [0., 0., 0., ..., 0., 0., 0.]],\n",
       " \n",
       "         [[0., 0., 0., ..., 0., 0., 0.],\n",
       "          [0., 0., 0., ..., 0., 0., 0.],\n",
       "          [0., 0., 0., ..., 0., 0., 0.],\n",
       "          ...,\n",
       "          [0., 0., 0., ..., 0., 0., 0.],\n",
       "          [0., 0., 0., ..., 0., 0., 0.],\n",
       "          [0., 0., 0., ..., 0., 0., 0.]],\n",
       " \n",
       "         [[0., 0., 0., ..., 0., 0., 0.],\n",
       "          [0., 0., 0., ..., 0., 0., 0.],\n",
       "          [0., 0., 0., ..., 0., 0., 0.],\n",
       "          ...,\n",
       "          [0., 0., 0., ..., 0., 0., 0.],\n",
       "          [0., 0., 0., ..., 0., 0., 0.],\n",
       "          [0., 0., 0., ..., 0., 0., 0.]]],\n",
       " \n",
       " \n",
       "        ...,\n",
       " \n",
       " \n",
       "        [[[0., 0., 0., ..., 0., 0., 0.],\n",
       "          [0., 0., 0., ..., 0., 0., 0.],\n",
       "          [0., 0., 0., ..., 0., 0., 0.],\n",
       "          ...,\n",
       "          [0., 0., 0., ..., 0., 0., 0.],\n",
       "          [0., 0., 0., ..., 0., 0., 0.],\n",
       "          [0., 0., 0., ..., 0., 0., 0.]],\n",
       " \n",
       "         [[0., 0., 0., ..., 0., 0., 0.],\n",
       "          [0., 0., 0., ..., 0., 0., 0.],\n",
       "          [0., 0., 0., ..., 0., 0., 0.],\n",
       "          ...,\n",
       "          [0., 0., 0., ..., 0., 0., 0.],\n",
       "          [0., 0., 0., ..., 0., 0., 0.],\n",
       "          [0., 0., 0., ..., 0., 0., 0.]],\n",
       " \n",
       "         [[0., 0., 0., ..., 0., 0., 0.],\n",
       "          [0., 0., 0., ..., 0., 0., 0.],\n",
       "          [0., 0., 0., ..., 0., 0., 0.],\n",
       "          ...,\n",
       "          [0., 0., 0., ..., 0., 0., 0.],\n",
       "          [0., 0., 0., ..., 0., 0., 0.],\n",
       "          [0., 0., 0., ..., 0., 0., 0.]],\n",
       " \n",
       "         ...,\n",
       " \n",
       "         [[0., 0., 0., ..., 0., 0., 0.],\n",
       "          [0., 0., 0., ..., 0., 0., 0.],\n",
       "          [0., 0., 0., ..., 0., 0., 0.],\n",
       "          ...,\n",
       "          [0., 0., 0., ..., 0., 0., 0.],\n",
       "          [0., 0., 0., ..., 0., 0., 0.],\n",
       "          [0., 0., 0., ..., 0., 0., 0.]],\n",
       " \n",
       "         [[0., 0., 0., ..., 0., 0., 0.],\n",
       "          [0., 0., 0., ..., 0., 0., 0.],\n",
       "          [0., 0., 0., ..., 0., 0., 0.],\n",
       "          ...,\n",
       "          [0., 0., 0., ..., 0., 0., 0.],\n",
       "          [0., 0., 0., ..., 0., 0., 0.],\n",
       "          [0., 0., 0., ..., 0., 0., 0.]],\n",
       " \n",
       "         [[0., 0., 0., ..., 0., 0., 0.],\n",
       "          [0., 0., 0., ..., 0., 0., 0.],\n",
       "          [0., 0., 0., ..., 0., 0., 0.],\n",
       "          ...,\n",
       "          [0., 0., 0., ..., 0., 0., 0.],\n",
       "          [0., 0., 0., ..., 0., 0., 0.],\n",
       "          [0., 0., 0., ..., 0., 0., 0.]]],\n",
       " \n",
       " \n",
       "        [[[0., 0., 0., ..., 0., 0., 0.],\n",
       "          [0., 0., 0., ..., 0., 0., 0.],\n",
       "          [0., 0., 0., ..., 0., 0., 0.],\n",
       "          ...,\n",
       "          [0., 0., 0., ..., 0., 0., 0.],\n",
       "          [0., 0., 0., ..., 0., 0., 0.],\n",
       "          [0., 0., 0., ..., 0., 0., 0.]],\n",
       " \n",
       "         [[0., 0., 0., ..., 0., 0., 0.],\n",
       "          [0., 0., 0., ..., 0., 0., 0.],\n",
       "          [0., 0., 0., ..., 0., 0., 0.],\n",
       "          ...,\n",
       "          [0., 0., 0., ..., 0., 0., 0.],\n",
       "          [0., 0., 0., ..., 0., 0., 0.],\n",
       "          [0., 0., 0., ..., 0., 0., 0.]],\n",
       " \n",
       "         [[0., 0., 0., ..., 0., 0., 0.],\n",
       "          [0., 0., 0., ..., 0., 0., 0.],\n",
       "          [0., 0., 0., ..., 0., 0., 0.],\n",
       "          ...,\n",
       "          [0., 0., 0., ..., 0., 0., 0.],\n",
       "          [0., 0., 0., ..., 0., 0., 0.],\n",
       "          [0., 0., 0., ..., 0., 0., 0.]],\n",
       " \n",
       "         ...,\n",
       " \n",
       "         [[0., 0., 0., ..., 0., 0., 0.],\n",
       "          [0., 0., 0., ..., 0., 0., 0.],\n",
       "          [0., 0., 0., ..., 0., 0., 0.],\n",
       "          ...,\n",
       "          [0., 0., 0., ..., 0., 0., 0.],\n",
       "          [0., 0., 0., ..., 0., 0., 0.],\n",
       "          [0., 0., 0., ..., 0., 0., 0.]],\n",
       " \n",
       "         [[0., 0., 0., ..., 0., 0., 0.],\n",
       "          [0., 0., 0., ..., 0., 0., 0.],\n",
       "          [0., 0., 0., ..., 0., 0., 0.],\n",
       "          ...,\n",
       "          [0., 0., 0., ..., 0., 0., 0.],\n",
       "          [0., 0., 0., ..., 0., 0., 0.],\n",
       "          [0., 0., 0., ..., 0., 0., 0.]],\n",
       " \n",
       "         [[0., 0., 0., ..., 0., 0., 0.],\n",
       "          [0., 0., 0., ..., 0., 0., 0.],\n",
       "          [0., 0., 0., ..., 0., 0., 0.],\n",
       "          ...,\n",
       "          [0., 0., 0., ..., 0., 0., 0.],\n",
       "          [0., 0., 0., ..., 0., 0., 0.],\n",
       "          [0., 0., 0., ..., 0., 0., 0.]]],\n",
       " \n",
       " \n",
       "        [[[0., 0., 0., ..., 0., 0., 0.],\n",
       "          [0., 0., 0., ..., 0., 0., 0.],\n",
       "          [0., 0., 0., ..., 0., 0., 0.],\n",
       "          ...,\n",
       "          [0., 0., 0., ..., 0., 0., 0.],\n",
       "          [0., 0., 0., ..., 0., 0., 0.],\n",
       "          [0., 0., 0., ..., 0., 0., 0.]],\n",
       " \n",
       "         [[0., 0., 0., ..., 0., 0., 0.],\n",
       "          [0., 0., 0., ..., 0., 0., 0.],\n",
       "          [0., 0., 0., ..., 0., 0., 0.],\n",
       "          ...,\n",
       "          [0., 0., 0., ..., 0., 0., 0.],\n",
       "          [0., 0., 0., ..., 0., 0., 0.],\n",
       "          [0., 0., 0., ..., 0., 0., 0.]],\n",
       " \n",
       "         [[0., 0., 0., ..., 0., 0., 0.],\n",
       "          [0., 0., 0., ..., 0., 0., 0.],\n",
       "          [0., 0., 0., ..., 0., 0., 0.],\n",
       "          ...,\n",
       "          [0., 0., 0., ..., 0., 0., 0.],\n",
       "          [0., 0., 0., ..., 0., 0., 0.],\n",
       "          [0., 0., 0., ..., 0., 0., 0.]],\n",
       " \n",
       "         ...,\n",
       " \n",
       "         [[0., 0., 0., ..., 0., 0., 0.],\n",
       "          [0., 0., 0., ..., 0., 0., 0.],\n",
       "          [0., 0., 0., ..., 0., 0., 0.],\n",
       "          ...,\n",
       "          [0., 0., 0., ..., 0., 0., 0.],\n",
       "          [0., 0., 0., ..., 0., 0., 0.],\n",
       "          [0., 0., 0., ..., 0., 0., 0.]],\n",
       " \n",
       "         [[0., 0., 0., ..., 0., 0., 0.],\n",
       "          [0., 0., 0., ..., 0., 0., 0.],\n",
       "          [0., 0., 0., ..., 0., 0., 0.],\n",
       "          ...,\n",
       "          [0., 0., 0., ..., 0., 0., 0.],\n",
       "          [0., 0., 0., ..., 0., 0., 0.],\n",
       "          [0., 0., 0., ..., 0., 0., 0.]],\n",
       " \n",
       "         [[0., 0., 0., ..., 0., 0., 0.],\n",
       "          [0., 0., 0., ..., 0., 0., 0.],\n",
       "          [0., 0., 0., ..., 0., 0., 0.],\n",
       "          ...,\n",
       "          [0., 0., 0., ..., 0., 0., 0.],\n",
       "          [0., 0., 0., ..., 0., 0., 0.],\n",
       "          [0., 0., 0., ..., 0., 0., 0.]]]]),\n",
       " array([[0., 0., 1., 0.],\n",
       "        [0., 1., 0., 0.],\n",
       "        [0., 0., 0., 1.],\n",
       "        [1., 0., 0., 0.],\n",
       "        [1., 0., 0., 0.],\n",
       "        [1., 0., 0., 0.],\n",
       "        [0., 1., 0., 0.],\n",
       "        [0., 0., 0., 1.],\n",
       "        [0., 0., 0., 1.],\n",
       "        [1., 0., 0., 0.],\n",
       "        [0., 0., 0., 1.],\n",
       "        [0., 0., 0., 1.],\n",
       "        [1., 0., 0., 0.],\n",
       "        [1., 0., 0., 0.],\n",
       "        [1., 0., 0., 0.],\n",
       "        [0., 1., 0., 0.],\n",
       "        [0., 0., 0., 1.],\n",
       "        [0., 0., 0., 1.],\n",
       "        [0., 0., 1., 0.],\n",
       "        [0., 1., 0., 0.],\n",
       "        [0., 0., 1., 0.],\n",
       "        [0., 1., 0., 0.],\n",
       "        [1., 0., 0., 0.],\n",
       "        [1., 0., 0., 0.],\n",
       "        [0., 1., 0., 0.],\n",
       "        [0., 1., 0., 0.],\n",
       "        [0., 0., 1., 0.],\n",
       "        [1., 0., 0., 0.],\n",
       "        [0., 0., 0., 1.],\n",
       "        [1., 0., 0., 0.],\n",
       "        [0., 0., 1., 0.],\n",
       "        [0., 0., 1., 0.]]))"
      ]
     },
     "execution_count": 15,
     "metadata": {},
     "output_type": "execute_result"
    }
   ],
   "source": [
    "training_generator[20]"
   ]
  },
  {
   "cell_type": "code",
   "execution_count": 51,
   "metadata": {},
   "outputs": [
    {
     "data": {
      "text/plain": [
       "(38647800,)"
      ]
     },
     "execution_count": 51,
     "metadata": {},
     "output_type": "execute_result"
    }
   ],
   "source": [
    "all_x.shape"
   ]
  },
  {
   "cell_type": "code",
   "execution_count": 5,
   "metadata": {},
   "outputs": [
    {
     "ename": "OSError",
     "evalue": "SavedModel file does not exist at: data-generator-trin=76-truevalidation=53-true-validation-3/{saved_model.pbtxt|saved_model.pb}",
     "output_type": "error",
     "traceback": [
      "\u001b[0;31m---------------------------------------------------------------------------\u001b[0m",
      "\u001b[0;31mOSError\u001b[0m                                   Traceback (most recent call last)",
      "\u001b[0;32m<ipython-input-5-c4f128245bb4>\u001b[0m in \u001b[0;36m<module>\u001b[0;34m\u001b[0m\n\u001b[0;32m----> 1\u001b[0;31m \u001b[0mmodel\u001b[0m \u001b[0;34m=\u001b[0m \u001b[0mload_model\u001b[0m\u001b[0;34m(\u001b[0m\u001b[0;34m'data-generator-trin=76-truevalidation=53-true-validation-3'\u001b[0m\u001b[0;34m)\u001b[0m\u001b[0;34m\u001b[0m\u001b[0;34m\u001b[0m\u001b[0m\n\u001b[0m",
      "\u001b[0;32m~/.conda/envs/tf1_15/lib/python3.7/site-packages/tensorflow/python/keras/saving/save.py\u001b[0m in \u001b[0;36mload_model\u001b[0;34m(filepath, custom_objects, compile)\u001b[0m\n\u001b[1;32m    187\u001b[0m       \u001b[0mfilepath\u001b[0m \u001b[0;34m=\u001b[0m \u001b[0mstr\u001b[0m\u001b[0;34m(\u001b[0m\u001b[0mfilepath\u001b[0m\u001b[0;34m)\u001b[0m\u001b[0;34m\u001b[0m\u001b[0;34m\u001b[0m\u001b[0m\n\u001b[1;32m    188\u001b[0m     \u001b[0;32mif\u001b[0m \u001b[0misinstance\u001b[0m\u001b[0;34m(\u001b[0m\u001b[0mfilepath\u001b[0m\u001b[0;34m,\u001b[0m \u001b[0msix\u001b[0m\u001b[0;34m.\u001b[0m\u001b[0mstring_types\u001b[0m\u001b[0;34m)\u001b[0m\u001b[0;34m:\u001b[0m\u001b[0;34m\u001b[0m\u001b[0;34m\u001b[0m\u001b[0m\n\u001b[0;32m--> 189\u001b[0;31m       \u001b[0mloader_impl\u001b[0m\u001b[0;34m.\u001b[0m\u001b[0mparse_saved_model\u001b[0m\u001b[0;34m(\u001b[0m\u001b[0mfilepath\u001b[0m\u001b[0;34m)\u001b[0m\u001b[0;34m\u001b[0m\u001b[0;34m\u001b[0m\u001b[0m\n\u001b[0m\u001b[1;32m    190\u001b[0m       \u001b[0;32mreturn\u001b[0m \u001b[0msaved_model_load\u001b[0m\u001b[0;34m.\u001b[0m\u001b[0mload\u001b[0m\u001b[0;34m(\u001b[0m\u001b[0mfilepath\u001b[0m\u001b[0;34m,\u001b[0m \u001b[0mcompile\u001b[0m\u001b[0;34m)\u001b[0m\u001b[0;34m\u001b[0m\u001b[0;34m\u001b[0m\u001b[0m\n\u001b[1;32m    191\u001b[0m \u001b[0;34m\u001b[0m\u001b[0m\n",
      "\u001b[0;32m~/.conda/envs/tf1_15/lib/python3.7/site-packages/tensorflow/python/saved_model/loader_impl.py\u001b[0m in \u001b[0;36mparse_saved_model\u001b[0;34m(export_dir)\u001b[0m\n\u001b[1;32m    111\u001b[0m                   (export_dir,\n\u001b[1;32m    112\u001b[0m                    \u001b[0mconstants\u001b[0m\u001b[0;34m.\u001b[0m\u001b[0mSAVED_MODEL_FILENAME_PBTXT\u001b[0m\u001b[0;34m,\u001b[0m\u001b[0;34m\u001b[0m\u001b[0;34m\u001b[0m\u001b[0m\n\u001b[0;32m--> 113\u001b[0;31m                    constants.SAVED_MODEL_FILENAME_PB))\n\u001b[0m\u001b[1;32m    114\u001b[0m \u001b[0;34m\u001b[0m\u001b[0m\n\u001b[1;32m    115\u001b[0m \u001b[0;34m\u001b[0m\u001b[0m\n",
      "\u001b[0;31mOSError\u001b[0m: SavedModel file does not exist at: data-generator-trin=76-truevalidation=53-true-validation-3/{saved_model.pbtxt|saved_model.pb}"
     ]
    }
   ],
   "source": [
    "model = load_model('data-generator-trin=76-truevalidation=53-true-validation-3')"
   ]
  },
  {
   "cell_type": "code",
   "execution_count": 58,
   "metadata": {},
   "outputs": [
    {
     "name": "stdout",
     "output_type": "stream",
     "text": [
      "WARNING:tensorflow:From /home/bahram/.conda/envs/tf1_15/lib/python3.7/site-packages/tensorflow/python/ops/resource_variable_ops.py:1817: calling BaseResourceVariable.__init__ (from tensorflow.python.ops.resource_variable_ops) with constraint is deprecated and will be removed in a future version.\n",
      "Instructions for updating:\n",
      "If using Keras pass *_constraint arguments to layers.\n",
      "INFO:tensorflow:Assets written to: data-generator-trin=76-truevalidation=53-true-validation-3/assets\n"
     ]
    }
   ],
   "source": [
    "model.save('data-generator-trin=76-truevalidation=53-true-validation-3')"
   ]
  },
  {
   "cell_type": "code",
   "execution_count": 4,
   "metadata": {},
   "outputs": [],
   "source": [
    "\n",
    "from keras.models import load_model\n"
   ]
  },
  {
   "cell_type": "code",
   "execution_count": 17,
   "metadata": {},
   "outputs": [
    {
     "name": "stdout",
     "output_type": "stream",
     "text": [
      "Model: \"model_3\"\n",
      "_________________________________________________________________\n",
      "Layer (type)                 Output Shape              Param #   \n",
      "=================================================================\n",
      "input_4 (InputLayer)         [(None, 32, 32, 32, 1)]   0         \n",
      "_________________________________________________________________\n",
      "conv3d_12 (Conv3D)           (None, 31, 31, 31, 32)    288       \n",
      "_________________________________________________________________\n",
      "conv3d_13 (Conv3D)           (None, 30, 30, 30, 32)    8224      \n",
      "_________________________________________________________________\n",
      "conv3d_14 (Conv3D)           (None, 28, 28, 28, 32)    27680     \n",
      "_________________________________________________________________\n",
      "conv3d_15 (Conv3D)           (None, 26, 26, 26, 16)    13840     \n",
      "_________________________________________________________________\n",
      "max_pooling3d_7 (MaxPooling3 (None, 13, 13, 13, 16)    0         \n",
      "_________________________________________________________________\n",
      "reshape_3 (Reshape)          (None, 35152)             0         \n",
      "_________________________________________________________________\n",
      "dense_9 (Dense)              (None, 256)               8999168   \n",
      "_________________________________________________________________\n",
      "dropout_6 (Dropout)          (None, 256)               0         \n",
      "_________________________________________________________________\n",
      "dense_10 (Dense)             (None, 256)               65792     \n",
      "_________________________________________________________________\n",
      "dropout_7 (Dropout)          (None, 256)               0         \n",
      "_________________________________________________________________\n",
      "dense_11 (Dense)             (None, 4)                 1028      \n",
      "=================================================================\n",
      "Total params: 9,116,020\n",
      "Trainable params: 9,116,020\n",
      "Non-trainable params: 0\n",
      "_________________________________________________________________\n"
     ]
    }
   ],
   "source": [
    "# load model\n",
    "model = load_model('data-generator-trin=89-validation=52-true-validation22')\n",
    "# summarize model.\n",
    "model.summary()"
   ]
  },
  {
   "cell_type": "code",
   "execution_count": 30,
   "metadata": {},
   "outputs": [],
   "source": [
    "#   make dataset\n",
    "predictions = model.predict(validation_generator)\n",
    "p_y = np.argmax(predictions, axis=1)\n",
    "y_gt = np.argmax(new_validation_all_y, axis=1)[:p_y.shape[0]]"
   ]
  },
  {
   "cell_type": "code",
   "execution_count": 52,
   "metadata": {},
   "outputs": [
    {
     "data": {
      "text/plain": [
       "array([[4.1479170e-01, 3.5469472e-01, 2.2843023e-01, 2.0833241e-03],\n",
       "       [2.5768381e-01, 1.8080512e-01, 4.9489775e-01, 6.6613361e-02],\n",
       "       [3.2349300e-02, 3.0930843e-02, 8.2971826e-02, 8.5374802e-01],\n",
       "       ...,\n",
       "       [5.1450427e-03, 3.6225595e-02, 2.2676855e-03, 9.5636171e-01],\n",
       "       [5.5647999e-01, 5.5314790e-02, 3.1529558e-01, 7.2909631e-02],\n",
       "       [9.9691403e-01, 2.5403199e-03, 1.0682918e-06, 5.4457044e-04]],\n",
       "      dtype=float32)"
      ]
     },
     "execution_count": 52,
     "metadata": {},
     "output_type": "execute_result"
    }
   ],
   "source": [
    "predictions"
   ]
  },
  {
   "cell_type": "code",
   "execution_count": 50,
   "metadata": {},
   "outputs": [
    {
     "data": {
      "text/plain": [
       "(13408,)"
      ]
     },
     "execution_count": 50,
     "metadata": {},
     "output_type": "execute_result"
    }
   ],
   "source": [
    "p_y.shape"
   ]
  },
  {
   "cell_type": "code",
   "execution_count": 51,
   "metadata": {},
   "outputs": [
    {
     "data": {
      "text/plain": [
       "3352.0"
      ]
     },
     "execution_count": 51,
     "metadata": {},
     "output_type": "execute_result"
    }
   ],
   "source": [
    "np.sum((p_y == y_gt)*1.0)"
   ]
  },
  {
   "cell_type": "code",
   "execution_count": 46,
   "metadata": {},
   "outputs": [
    {
     "data": {
      "text/plain": [
       "array([ True, False, False, ...,  True,  True,  True])"
      ]
     },
     "execution_count": 46,
     "metadata": {},
     "output_type": "execute_result"
    }
   ],
   "source": [
    "p_y == y_gt"
   ]
  },
  {
   "cell_type": "code",
   "execution_count": 31,
   "metadata": {},
   "outputs": [],
   "source": [
    "from sklearn.metrics import confusion_matrix"
   ]
  },
  {
   "cell_type": "code",
   "execution_count": 32,
   "metadata": {},
   "outputs": [],
   "source": [
    "conf_m = confusion_matrix(y_gt, p_y)\n"
   ]
  },
  {
   "cell_type": "code",
   "execution_count": 33,
   "metadata": {},
   "outputs": [
    {
     "data": {
      "text/plain": [
       "array([[ 857,  944,  936,  895],\n",
       "       [ 758,  842,  819,  696],\n",
       "       [ 872, 1045, 1016,  865],\n",
       "       [ 690,  768,  768,  637]])"
      ]
     },
     "execution_count": 33,
     "metadata": {},
     "output_type": "execute_result"
    }
   ],
   "source": [
    "conf_m"
   ]
  },
  {
   "cell_type": "code",
   "execution_count": 34,
   "metadata": {},
   "outputs": [],
   "source": [
    "size_of_y_classes = np.sum((new_validation_all_y+1)/2, axis=0)\n"
   ]
  },
  {
   "cell_type": "code",
   "execution_count": 35,
   "metadata": {},
   "outputs": [
    {
     "data": {
      "text/plain": [
       "array([3632., 3118., 3802., 2864.])"
      ]
     },
     "execution_count": 35,
     "metadata": {},
     "output_type": "execute_result"
    }
   ],
   "source": [
    "size_of_y_classes"
   ]
  },
  {
   "cell_type": "code",
   "execution_count": 36,
   "metadata": {},
   "outputs": [],
   "source": [
    "scaled_conf = conf_m*1.0"
   ]
  },
  {
   "cell_type": "code",
   "execution_count": 37,
   "metadata": {},
   "outputs": [
    {
     "data": {
      "text/plain": [
       "array([[ 857.,  944.,  936.,  895.],\n",
       "       [ 758.,  842.,  819.,  696.],\n",
       "       [ 872., 1045., 1016.,  865.],\n",
       "       [ 690.,  768.,  768.,  637.]])"
      ]
     },
     "execution_count": 37,
     "metadata": {},
     "output_type": "execute_result"
    }
   ],
   "source": [
    "scaled_conf"
   ]
  },
  {
   "cell_type": "code",
   "execution_count": 38,
   "metadata": {},
   "outputs": [],
   "source": [
    "for i in range(scaled_conf.shape[0]):\n",
    "    scaled_conf[i,:] = scaled_conf[i,:] / size_of_y_classes[i]"
   ]
  },
  {
   "cell_type": "code",
   "execution_count": 39,
   "metadata": {},
   "outputs": [
    {
     "data": {
      "text/plain": [
       "array([[0.23595815, 0.25991189, 0.25770925, 0.2464207 ],\n",
       "       [0.24310455, 0.2700449 , 0.26266838, 0.22322001],\n",
       "       [0.22935297, 0.27485534, 0.26722777, 0.22751184],\n",
       "       [0.24092179, 0.26815642, 0.26815642, 0.2224162 ]])"
      ]
     },
     "execution_count": 39,
     "metadata": {},
     "output_type": "execute_result"
    }
   ],
   "source": [
    "scaled_conf"
   ]
  },
  {
   "cell_type": "code",
   "execution_count": 40,
   "metadata": {},
   "outputs": [
    {
     "data": {
      "text/plain": [
       "<matplotlib.image.AxesImage at 0x7f03359c2510>"
      ]
     },
     "execution_count": 40,
     "metadata": {},
     "output_type": "execute_result"
    },
    {
     "data": {
      "image/png": "[encoded data removed]",
      "text/plain": [
       "<Figure size 432x288 with 1 Axes>"
      ]
     },
     "metadata": {
      "needs_background": "light"
     },
     "output_type": "display_data"
    }
   ],
   "source": [
    "plt.imshow(conf_m)"
   ]
  },
  {
   "cell_type": "code",
   "execution_count": 73,
   "metadata": {},
   "outputs": [
    {
     "data": {
      "text/plain": [
       "1.00000001"
      ]
     },
     "execution_count": 73,
     "metadata": {},
     "output_type": "execute_result"
    }
   ],
   "source": [
    "np.sum([0.28193833, 0.2155837 , 0.28937225, 0.21310573])"
   ]
  },
  {
   "cell_type": "code",
   "execution_count": 29,
   "metadata": {},
   "outputs": [
    {
     "data": {
      "text/plain": [
       "0.25336126196985986"
      ]
     },
     "execution_count": 29,
     "metadata": {},
     "output_type": "execute_result"
    }
   ],
   "source": [
    "from sklearn.metrics import f1_score\n",
    "f1_score(y_gt, p_y , average='macro')"
   ]
  },
  {
   "cell_type": "code",
   "execution_count": 16,
   "metadata": {},
   "outputs": [
    {
     "data": {
      "text/plain": [
       "(124000, 15, 6, 3)"
      ]
     },
     "execution_count": 16,
     "metadata": {},
     "output_type": "execute_result"
    }
   ],
   "source": [
    "all_x.shape"
   ]
  },
  {
   "cell_type": "code",
   "execution_count": 34,
   "metadata": {},
   "outputs": [],
   "source": [
    "def count_number_of_ones(batch_data):\n",
    "    return np.sum(np.reshape(convert_data_representation_to_point_cloud(batch_data),\n",
    "                      [batch_data.shape[0],-1]), axis=1)"
   ]
  },
  {
   "cell_type": "code",
   "execution_count": null,
   "metadata": {},
   "outputs": [],
   "source": []
  },
  {
   "cell_type": "code",
   "execution_count": 40,
   "metadata": {},
   "outputs": [
    {
     "name": "stderr",
     "output_type": "stream",
     "text": [
      "/home/bahram/.conda/envs/tf1_15/lib/python3.7/site-packages/ipykernel_launcher.py:5: FutureWarning: elementwise comparison failed; returning scalar instead, but in the future will perform elementwise comparison\n",
      "  \"\"\"\n"
     ]
    }
   ],
   "source": [
    "number_of_ones = ''\n",
    "for i in range(32, all_x.shape[0],32):\n",
    "    batch_data = all_x[i-32:i, :,:,:]\n",
    "    ones = count_number_of_ones(batch_data)\n",
    "    if number_of_ones == '':\n",
    "        number_of_ones = ones\n",
    "    else:\n",
    "        number_of_ones = np.append(number_of_ones, ones)\n",
    "        "
   ]
  },
  {
   "cell_type": "code",
   "execution_count": null,
   "metadata": {},
   "outputs": [],
   "source": []
  },
  {
   "cell_type": "code",
   "execution_count": 41,
   "metadata": {},
   "outputs": [
    {
     "data": {
      "text/plain": [
       "(array([  177.,   454.,  1006.,  4111.,  3526.,  3772.,  3758.,  5781.,\n",
       "         9498., 91885.]),\n",
       " array([16. , 23.4, 30.8, 38.2, 45.6, 53. , 60.4, 67.8, 75.2, 82.6, 90. ]),\n",
       " <a list of 10 Patch objects>)"
      ]
     },
     "execution_count": 41,
     "metadata": {},
     "output_type": "execute_result"
    },
    {
     "data": {
      "image/png": "[encoded data removed]",
      "text/plain": [
       "<Figure size 432x288 with 1 Axes>"
      ]
     },
     "metadata": {
      "needs_background": "light"
     },
     "output_type": "display_data"
    }
   ],
   "source": [
    "plt.hist(number_of_ones)"
   ]
  },
  {
   "cell_type": "code",
   "execution_count": null,
   "metadata": {},
   "outputs": [],
   "source": []
  },
  {
   "cell_type": "code",
   "execution_count": 18,
   "metadata": {},
   "outputs": [
    {
     "data": {
      "text/plain": [
       "[0, 16, 32, 48, 64, 80, 96, 112, 128, 144, 160]"
      ]
     },
     "execution_count": 18,
     "metadata": {},
     "output_type": "execute_result"
    }
   ],
   "source": [
    "[i for i in range(0,161,16)]"
   ]
  },
  {
   "cell_type": "code",
   "execution_count": null,
   "metadata": {},
   "outputs": [],
   "source": []
  },
  {
   "cell_type": "code",
   "execution_count": 27,
   "metadata": {},
   "outputs": [
    {
     "ename": "TypeError",
     "evalue": "'list' object cannot be interpreted as an integer",
     "output_type": "error",
     "traceback": [
      "\u001b[0;31m---------------------------------------------------------------------------\u001b[0m",
      "\u001b[0;31mTypeError\u001b[0m                                 Traceback (most recent call last)",
      "\u001b[0;32m<ipython-input-27-52534a352d36>\u001b[0m in \u001b[0;36m<module>\u001b[0;34m\u001b[0m\n\u001b[0;32m----> 1\u001b[0;31m \u001b[0mnp\u001b[0m\u001b[0;34m.\u001b[0m\u001b[0msum\u001b[0m\u001b[0;34m(\u001b[0m\u001b[0mconvert_data_representation_to_point_cloud\u001b[0m\u001b[0;34m(\u001b[0m\u001b[0mall_x\u001b[0m\u001b[0;34m[\u001b[0m\u001b[0;34m:\u001b[0m\u001b[0;36m10\u001b[0m\u001b[0;34m,\u001b[0m\u001b[0;34m:\u001b[0m\u001b[0;34m,\u001b[0m\u001b[0;34m:\u001b[0m\u001b[0;34m,\u001b[0m\u001b[0;34m:\u001b[0m\u001b[0;34m]\u001b[0m\u001b[0;34m)\u001b[0m\u001b[0;34m,\u001b[0m \u001b[0maxis\u001b[0m\u001b[0;34m=\u001b[0m\u001b[0;34m[\u001b[0m\u001b[0;36m1\u001b[0m\u001b[0;34m,\u001b[0m\u001b[0;36m2\u001b[0m\u001b[0;34m]\u001b[0m\u001b[0;34m)\u001b[0m\u001b[0;34m.\u001b[0m\u001b[0mshape\u001b[0m\u001b[0;34m\u001b[0m\u001b[0;34m\u001b[0m\u001b[0m\n\u001b[0m",
      "\u001b[0;32m<__array_function__ internals>\u001b[0m in \u001b[0;36msum\u001b[0;34m(*args, **kwargs)\u001b[0m\n",
      "\u001b[0;32m~/.conda/envs/tf1_15/lib/python3.7/site-packages/numpy/core/fromnumeric.py\u001b[0m in \u001b[0;36msum\u001b[0;34m(a, axis, dtype, out, keepdims, initial, where)\u001b[0m\n\u001b[1;32m   2240\u001b[0m \u001b[0;34m\u001b[0m\u001b[0m\n\u001b[1;32m   2241\u001b[0m     return _wrapreduction(a, np.add, 'sum', axis, dtype, out, keepdims=keepdims,\n\u001b[0;32m-> 2242\u001b[0;31m                           initial=initial, where=where)\n\u001b[0m\u001b[1;32m   2243\u001b[0m \u001b[0;34m\u001b[0m\u001b[0m\n\u001b[1;32m   2244\u001b[0m \u001b[0;34m\u001b[0m\u001b[0m\n",
      "\u001b[0;32m~/.conda/envs/tf1_15/lib/python3.7/site-packages/numpy/core/fromnumeric.py\u001b[0m in \u001b[0;36m_wrapreduction\u001b[0;34m(obj, ufunc, method, axis, dtype, out, **kwargs)\u001b[0m\n\u001b[1;32m     85\u001b[0m                 \u001b[0;32mreturn\u001b[0m \u001b[0mreduction\u001b[0m\u001b[0;34m(\u001b[0m\u001b[0maxis\u001b[0m\u001b[0;34m=\u001b[0m\u001b[0maxis\u001b[0m\u001b[0;34m,\u001b[0m \u001b[0mout\u001b[0m\u001b[0;34m=\u001b[0m\u001b[0mout\u001b[0m\u001b[0;34m,\u001b[0m \u001b[0;34m**\u001b[0m\u001b[0mpasskwargs\u001b[0m\u001b[0;34m)\u001b[0m\u001b[0;34m\u001b[0m\u001b[0;34m\u001b[0m\u001b[0m\n\u001b[1;32m     86\u001b[0m \u001b[0;34m\u001b[0m\u001b[0m\n\u001b[0;32m---> 87\u001b[0;31m     \u001b[0;32mreturn\u001b[0m \u001b[0mufunc\u001b[0m\u001b[0;34m.\u001b[0m\u001b[0mreduce\u001b[0m\u001b[0;34m(\u001b[0m\u001b[0mobj\u001b[0m\u001b[0;34m,\u001b[0m \u001b[0maxis\u001b[0m\u001b[0;34m,\u001b[0m \u001b[0mdtype\u001b[0m\u001b[0;34m,\u001b[0m \u001b[0mout\u001b[0m\u001b[0;34m,\u001b[0m \u001b[0;34m**\u001b[0m\u001b[0mpasskwargs\u001b[0m\u001b[0;34m)\u001b[0m\u001b[0;34m\u001b[0m\u001b[0;34m\u001b[0m\u001b[0m\n\u001b[0m\u001b[1;32m     88\u001b[0m \u001b[0;34m\u001b[0m\u001b[0m\n\u001b[1;32m     89\u001b[0m \u001b[0;34m\u001b[0m\u001b[0m\n",
      "\u001b[0;31mTypeError\u001b[0m: 'list' object cannot be interpreted as an integer"
     ]
    }
   ],
   "source": [
    "np.sum(, axis=[1,2]).shape"
   ]
  },
  {
   "cell_type": "code",
   "execution_count": 33,
   "metadata": {},
   "outputs": [
    {
     "data": {
      "text/plain": [
       "array([87., 85., 85., 90., 86., 86., 90., 89., 89., 73.])"
      ]
     },
     "execution_count": 33,
     "metadata": {},
     "output_type": "execute_result"
    }
   ],
   "source": [
    "np.sum(np.reshape(convert_data_representation_to_point_cloud(all_x[:10,:,:,:]), [10,-1]), axis=1)"
   ]
  },
  {
   "cell_type": "code",
   "execution_count": null,
   "metadata": {},
   "outputs": [],
   "source": []
  }
 ],
 "metadata": {
  "kernelspec": {
   "display_name": "py37 tf 1.15",
   "language": "python",
   "name": "tf1_15"
  },
  "language_info": {
   "codemirror_mode": {
    "name": "ipython",
    "version": 3
   },
   "file_extension": ".py",
   "mimetype": "text/x-python",
   "name": "python",
   "nbconvert_exporter": "python",
   "pygments_lexer": "ipython3",
   "version": "3.7.6"
  }
 },
 "nbformat": 4,
 "nbformat_minor": 4
}
